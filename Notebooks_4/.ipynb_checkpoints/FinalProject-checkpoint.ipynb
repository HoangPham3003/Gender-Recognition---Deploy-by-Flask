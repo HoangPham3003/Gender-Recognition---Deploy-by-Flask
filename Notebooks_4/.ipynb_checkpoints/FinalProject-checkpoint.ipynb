{
 "cells": [
  {
   "cell_type": "markdown",
   "id": "through-potter",
   "metadata": {},
   "source": [
    "<h1 align=\"center\">FINAL PROJECT</h1>"
   ]
  },
  {
   "cell_type": "markdown",
   "id": "hungry-variety",
   "metadata": {},
   "source": [
    "<h2>1. Data and Problem Introduction</h2>\n",
    "\n",
    "<span style=\"font-weight:bold\">a) Data</span>\n",
    "- Name: Gender recognition by Voice  \n",
    "- Source: https://www.kaggle.com/primaryobjects/voicegender\n",
    "\n",
    "<span style=\"font-weight:bold\">b) Problem</span>\n",
    "- Using classification to classfify the voice which belongs to mail or female"
   ]
  },
  {
   "cell_type": "markdown",
   "id": "patient-springer",
   "metadata": {},
   "source": [
    "<h2>2. Data Dictionary</h2>\n",
    "\n",
    "<span style=\"font-weight:bold\">a) Voice Gender</span>\n",
    "Gender Recognition by Voice and Speech Analysis\n",
    "\n",
    "This database was created to identify a voice as male or female, based upon acoustic properties of the voice and speech. The dataset consists of 3,168 recorded voice samples, collected from male and female speakers. The voice samples are pre-processed by acoustic analysis in R using the seewave and tuneR packages, with an analyzed frequency range of 0hz-280hz (human vocal range).\n",
    "\n",
    "<span style=\"font-weight:bold\">b) Feature description</span>\n",
    "The following acoustic properties of each voice are measured and included within the CSV:\n",
    "\n",
    "- meanfreq: mean frequency (in kHz)\n",
    "- sd: standard deviation of frequency\n",
    "- median: median frequency (in kHz)\n",
    "- Q25: first quantile (in kHz)\n",
    "- Q75: third quantile (in kHz)\n",
    "- IQR: interquantile range (in kHz)\n",
    "- skew: skewness (see note in specprop description)\n",
    "- kurt: kurtosis (see note in specprop description)\n",
    "- sp.ent: spectral entropy\n",
    "- sfm: spectral flatness\n",
    "- mode: mode frequency\n",
    "- centroid: frequency centroid (see specprop)\n",
    "- peakf: peak frequency (frequency with highest energy)\n",
    "- meanfun: average of fundamental frequency measured across acoustic signal\n",
    "- minfun: minimum fundamental frequency measured across acoustic signal\n",
    "- maxfun: maximum fundamental frequency measured across acoustic signal\n",
    "- meandom: average of dominant frequency measured across acoustic signal\n",
    "- mindom: minimum of dominant frequency measured across acoustic signal\n",
    "- maxdom: maximum of dominant frequency measured across acoustic signal\n",
    "- dfrange: range of dominant frequency measured across acoustic signal\n",
    "- modindx: modulation index. Calculated as the accumulated absolute difference between adjacent measurements of fundamental frequencies divided by the frequency range\n",
    "- label: male or female"
   ]
  },
  {
   "cell_type": "markdown",
   "id": "altered-viewer",
   "metadata": {},
   "source": [
    "<h2>3. Import libraries</h2>"
   ]
  },
  {
   "cell_type": "code",
   "execution_count": 1,
   "id": "defined-affair",
   "metadata": {},
   "outputs": [],
   "source": [
    "import pandas as pd\n",
    "import numpy as np\n",
    "import matplotlib.pyplot as plt\n",
    "import seaborn as sn\n",
    "from sklearn import preprocessing\n",
    "from sklearn.model_selection import train_test_split\n",
    "from sklearn import preprocessing\n",
    "from sklearn import metrics\n",
    "from sklearn.ensemble import RandomForestClassifier\n",
    "from sklearn.neighbors import KNeighborsClassifier\n",
    "from sklearn.naive_bayes import GaussianNB\n",
    "from sklearn.linear_model import Perceptron\n",
    "from sklearn.linear_model import LogisticRegression\n",
    "from sklearn import svm\n",
    "from sklearn.metrics import classification_report, confusion_matrix\n",
    "import itertools"
   ]
  },
  {
   "cell_type": "markdown",
   "id": "nonprofit-anthropology",
   "metadata": {},
   "source": [
    "<h2>4. Reading data and description</h2>"
   ]
  },
  {
   "cell_type": "code",
   "execution_count": 2,
   "id": "english-occurrence",
   "metadata": {},
   "outputs": [
    {
     "data": {
      "text/html": [
       "<div>\n",
       "<style scoped>\n",
       "    .dataframe tbody tr th:only-of-type {\n",
       "        vertical-align: middle;\n",
       "    }\n",
       "\n",
       "    .dataframe tbody tr th {\n",
       "        vertical-align: top;\n",
       "    }\n",
       "\n",
       "    .dataframe thead th {\n",
       "        text-align: right;\n",
       "    }\n",
       "</style>\n",
       "<table border=\"1\" class=\"dataframe\">\n",
       "  <thead>\n",
       "    <tr style=\"text-align: right;\">\n",
       "      <th></th>\n",
       "      <th>meanfreq</th>\n",
       "      <th>sd</th>\n",
       "      <th>median</th>\n",
       "      <th>Q25</th>\n",
       "      <th>Q75</th>\n",
       "      <th>IQR</th>\n",
       "      <th>skew</th>\n",
       "      <th>kurt</th>\n",
       "      <th>sp.ent</th>\n",
       "      <th>sfm</th>\n",
       "      <th>...</th>\n",
       "      <th>centroid</th>\n",
       "      <th>meanfun</th>\n",
       "      <th>minfun</th>\n",
       "      <th>maxfun</th>\n",
       "      <th>meandom</th>\n",
       "      <th>mindom</th>\n",
       "      <th>maxdom</th>\n",
       "      <th>dfrange</th>\n",
       "      <th>modindx</th>\n",
       "      <th>label</th>\n",
       "    </tr>\n",
       "  </thead>\n",
       "  <tbody>\n",
       "    <tr>\n",
       "      <th>2749</th>\n",
       "      <td>0.184703</td>\n",
       "      <td>0.033982</td>\n",
       "      <td>0.181739</td>\n",
       "      <td>0.165217</td>\n",
       "      <td>0.203478</td>\n",
       "      <td>0.038261</td>\n",
       "      <td>2.342371</td>\n",
       "      <td>8.635110</td>\n",
       "      <td>0.851414</td>\n",
       "      <td>0.234382</td>\n",
       "      <td>...</td>\n",
       "      <td>0.184703</td>\n",
       "      <td>0.160521</td>\n",
       "      <td>0.049180</td>\n",
       "      <td>0.275862</td>\n",
       "      <td>1.303977</td>\n",
       "      <td>0.023438</td>\n",
       "      <td>8.062500</td>\n",
       "      <td>8.039062</td>\n",
       "      <td>0.073185</td>\n",
       "      <td>female</td>\n",
       "    </tr>\n",
       "    <tr>\n",
       "      <th>2780</th>\n",
       "      <td>0.193175</td>\n",
       "      <td>0.041085</td>\n",
       "      <td>0.184851</td>\n",
       "      <td>0.169598</td>\n",
       "      <td>0.226978</td>\n",
       "      <td>0.057380</td>\n",
       "      <td>2.474983</td>\n",
       "      <td>10.441904</td>\n",
       "      <td>0.871411</td>\n",
       "      <td>0.295865</td>\n",
       "      <td>...</td>\n",
       "      <td>0.193175</td>\n",
       "      <td>0.159269</td>\n",
       "      <td>0.047431</td>\n",
       "      <td>0.271186</td>\n",
       "      <td>1.469809</td>\n",
       "      <td>0.023438</td>\n",
       "      <td>8.015625</td>\n",
       "      <td>7.992188</td>\n",
       "      <td>0.116022</td>\n",
       "      <td>female</td>\n",
       "    </tr>\n",
       "    <tr>\n",
       "      <th>2678</th>\n",
       "      <td>0.188374</td>\n",
       "      <td>0.030364</td>\n",
       "      <td>0.187723</td>\n",
       "      <td>0.167129</td>\n",
       "      <td>0.205545</td>\n",
       "      <td>0.038416</td>\n",
       "      <td>2.220191</td>\n",
       "      <td>7.645145</td>\n",
       "      <td>0.834743</td>\n",
       "      <td>0.172725</td>\n",
       "      <td>...</td>\n",
       "      <td>0.188374</td>\n",
       "      <td>0.165029</td>\n",
       "      <td>0.050000</td>\n",
       "      <td>0.268156</td>\n",
       "      <td>0.655772</td>\n",
       "      <td>0.023438</td>\n",
       "      <td>3.304688</td>\n",
       "      <td>3.281250</td>\n",
       "      <td>0.146916</td>\n",
       "      <td>female</td>\n",
       "    </tr>\n",
       "    <tr>\n",
       "      <th>2310</th>\n",
       "      <td>0.232794</td>\n",
       "      <td>0.038225</td>\n",
       "      <td>0.243396</td>\n",
       "      <td>0.205365</td>\n",
       "      <td>0.265263</td>\n",
       "      <td>0.059898</td>\n",
       "      <td>1.924879</td>\n",
       "      <td>6.347851</td>\n",
       "      <td>0.844692</td>\n",
       "      <td>0.154248</td>\n",
       "      <td>...</td>\n",
       "      <td>0.232794</td>\n",
       "      <td>0.185199</td>\n",
       "      <td>0.051118</td>\n",
       "      <td>0.277457</td>\n",
       "      <td>1.178961</td>\n",
       "      <td>0.023438</td>\n",
       "      <td>11.015625</td>\n",
       "      <td>10.992188</td>\n",
       "      <td>0.084632</td>\n",
       "      <td>female</td>\n",
       "    </tr>\n",
       "    <tr>\n",
       "      <th>1631</th>\n",
       "      <td>0.204621</td>\n",
       "      <td>0.059611</td>\n",
       "      <td>0.224467</td>\n",
       "      <td>0.195783</td>\n",
       "      <td>0.237641</td>\n",
       "      <td>0.041858</td>\n",
       "      <td>3.000446</td>\n",
       "      <td>14.702111</td>\n",
       "      <td>0.896610</td>\n",
       "      <td>0.416068</td>\n",
       "      <td>...</td>\n",
       "      <td>0.204621</td>\n",
       "      <td>0.132917</td>\n",
       "      <td>0.016129</td>\n",
       "      <td>0.275862</td>\n",
       "      <td>0.403993</td>\n",
       "      <td>0.007812</td>\n",
       "      <td>5.140625</td>\n",
       "      <td>5.132812</td>\n",
       "      <td>0.103288</td>\n",
       "      <td>female</td>\n",
       "    </tr>\n",
       "    <tr>\n",
       "      <th>2511</th>\n",
       "      <td>0.195878</td>\n",
       "      <td>0.032909</td>\n",
       "      <td>0.194231</td>\n",
       "      <td>0.181154</td>\n",
       "      <td>0.212692</td>\n",
       "      <td>0.031538</td>\n",
       "      <td>2.316270</td>\n",
       "      <td>7.863145</td>\n",
       "      <td>0.840807</td>\n",
       "      <td>0.229675</td>\n",
       "      <td>...</td>\n",
       "      <td>0.195878</td>\n",
       "      <td>0.172145</td>\n",
       "      <td>0.049485</td>\n",
       "      <td>0.277457</td>\n",
       "      <td>1.812500</td>\n",
       "      <td>0.023438</td>\n",
       "      <td>8.718750</td>\n",
       "      <td>8.695312</td>\n",
       "      <td>0.093261</td>\n",
       "      <td>female</td>\n",
       "    </tr>\n",
       "    <tr>\n",
       "      <th>1900</th>\n",
       "      <td>0.195740</td>\n",
       "      <td>0.072019</td>\n",
       "      <td>0.207813</td>\n",
       "      <td>0.183750</td>\n",
       "      <td>0.250568</td>\n",
       "      <td>0.066818</td>\n",
       "      <td>2.655036</td>\n",
       "      <td>14.541175</td>\n",
       "      <td>0.915646</td>\n",
       "      <td>0.471817</td>\n",
       "      <td>...</td>\n",
       "      <td>0.195740</td>\n",
       "      <td>0.182011</td>\n",
       "      <td>0.018307</td>\n",
       "      <td>0.275862</td>\n",
       "      <td>0.260216</td>\n",
       "      <td>0.054688</td>\n",
       "      <td>0.781250</td>\n",
       "      <td>0.726562</td>\n",
       "      <td>0.278438</td>\n",
       "      <td>female</td>\n",
       "    </tr>\n",
       "    <tr>\n",
       "      <th>558</th>\n",
       "      <td>0.111337</td>\n",
       "      <td>0.075083</td>\n",
       "      <td>0.095585</td>\n",
       "      <td>0.047542</td>\n",
       "      <td>0.172154</td>\n",
       "      <td>0.124611</td>\n",
       "      <td>1.792152</td>\n",
       "      <td>8.022700</td>\n",
       "      <td>0.962835</td>\n",
       "      <td>0.735872</td>\n",
       "      <td>...</td>\n",
       "      <td>0.111337</td>\n",
       "      <td>0.084689</td>\n",
       "      <td>0.015671</td>\n",
       "      <td>0.192771</td>\n",
       "      <td>0.195312</td>\n",
       "      <td>0.007812</td>\n",
       "      <td>0.734375</td>\n",
       "      <td>0.726562</td>\n",
       "      <td>0.247909</td>\n",
       "      <td>male</td>\n",
       "    </tr>\n",
       "    <tr>\n",
       "      <th>95</th>\n",
       "      <td>0.107009</td>\n",
       "      <td>0.081313</td>\n",
       "      <td>0.102788</td>\n",
       "      <td>0.025164</td>\n",
       "      <td>0.188941</td>\n",
       "      <td>0.163778</td>\n",
       "      <td>24.705118</td>\n",
       "      <td>714.696895</td>\n",
       "      <td>0.891348</td>\n",
       "      <td>0.576778</td>\n",
       "      <td>...</td>\n",
       "      <td>0.107009</td>\n",
       "      <td>0.075907</td>\n",
       "      <td>0.016000</td>\n",
       "      <td>0.222222</td>\n",
       "      <td>0.007812</td>\n",
       "      <td>0.007812</td>\n",
       "      <td>0.007812</td>\n",
       "      <td>0.000000</td>\n",
       "      <td>0.000000</td>\n",
       "      <td>male</td>\n",
       "    </tr>\n",
       "    <tr>\n",
       "      <th>1659</th>\n",
       "      <td>0.109148</td>\n",
       "      <td>0.091542</td>\n",
       "      <td>0.071577</td>\n",
       "      <td>0.024263</td>\n",
       "      <td>0.195321</td>\n",
       "      <td>0.171057</td>\n",
       "      <td>1.899222</td>\n",
       "      <td>6.472859</td>\n",
       "      <td>0.948618</td>\n",
       "      <td>0.678843</td>\n",
       "      <td>...</td>\n",
       "      <td>0.109148</td>\n",
       "      <td>0.190846</td>\n",
       "      <td>0.030189</td>\n",
       "      <td>0.275862</td>\n",
       "      <td>0.359375</td>\n",
       "      <td>0.007812</td>\n",
       "      <td>0.718750</td>\n",
       "      <td>0.710938</td>\n",
       "      <td>0.354396</td>\n",
       "      <td>female</td>\n",
       "    </tr>\n",
       "  </tbody>\n",
       "</table>\n",
       "<p>10 rows × 21 columns</p>\n",
       "</div>"
      ],
      "text/plain": [
       "      meanfreq        sd    median       Q25       Q75       IQR       skew  \\\n",
       "2749  0.184703  0.033982  0.181739  0.165217  0.203478  0.038261   2.342371   \n",
       "2780  0.193175  0.041085  0.184851  0.169598  0.226978  0.057380   2.474983   \n",
       "2678  0.188374  0.030364  0.187723  0.167129  0.205545  0.038416   2.220191   \n",
       "2310  0.232794  0.038225  0.243396  0.205365  0.265263  0.059898   1.924879   \n",
       "1631  0.204621  0.059611  0.224467  0.195783  0.237641  0.041858   3.000446   \n",
       "2511  0.195878  0.032909  0.194231  0.181154  0.212692  0.031538   2.316270   \n",
       "1900  0.195740  0.072019  0.207813  0.183750  0.250568  0.066818   2.655036   \n",
       "558   0.111337  0.075083  0.095585  0.047542  0.172154  0.124611   1.792152   \n",
       "95    0.107009  0.081313  0.102788  0.025164  0.188941  0.163778  24.705118   \n",
       "1659  0.109148  0.091542  0.071577  0.024263  0.195321  0.171057   1.899222   \n",
       "\n",
       "            kurt    sp.ent       sfm  ...  centroid   meanfun    minfun  \\\n",
       "2749    8.635110  0.851414  0.234382  ...  0.184703  0.160521  0.049180   \n",
       "2780   10.441904  0.871411  0.295865  ...  0.193175  0.159269  0.047431   \n",
       "2678    7.645145  0.834743  0.172725  ...  0.188374  0.165029  0.050000   \n",
       "2310    6.347851  0.844692  0.154248  ...  0.232794  0.185199  0.051118   \n",
       "1631   14.702111  0.896610  0.416068  ...  0.204621  0.132917  0.016129   \n",
       "2511    7.863145  0.840807  0.229675  ...  0.195878  0.172145  0.049485   \n",
       "1900   14.541175  0.915646  0.471817  ...  0.195740  0.182011  0.018307   \n",
       "558     8.022700  0.962835  0.735872  ...  0.111337  0.084689  0.015671   \n",
       "95    714.696895  0.891348  0.576778  ...  0.107009  0.075907  0.016000   \n",
       "1659    6.472859  0.948618  0.678843  ...  0.109148  0.190846  0.030189   \n",
       "\n",
       "        maxfun   meandom    mindom     maxdom    dfrange   modindx   label  \n",
       "2749  0.275862  1.303977  0.023438   8.062500   8.039062  0.073185  female  \n",
       "2780  0.271186  1.469809  0.023438   8.015625   7.992188  0.116022  female  \n",
       "2678  0.268156  0.655772  0.023438   3.304688   3.281250  0.146916  female  \n",
       "2310  0.277457  1.178961  0.023438  11.015625  10.992188  0.084632  female  \n",
       "1631  0.275862  0.403993  0.007812   5.140625   5.132812  0.103288  female  \n",
       "2511  0.277457  1.812500  0.023438   8.718750   8.695312  0.093261  female  \n",
       "1900  0.275862  0.260216  0.054688   0.781250   0.726562  0.278438  female  \n",
       "558   0.192771  0.195312  0.007812   0.734375   0.726562  0.247909    male  \n",
       "95    0.222222  0.007812  0.007812   0.007812   0.000000  0.000000    male  \n",
       "1659  0.275862  0.359375  0.007812   0.718750   0.710938  0.354396  female  \n",
       "\n",
       "[10 rows x 21 columns]"
      ]
     },
     "execution_count": 2,
     "metadata": {},
     "output_type": "execute_result"
    }
   ],
   "source": [
    "rawData = pd.read_csv(\"voice.csv\")\n",
    "rawData.sample(10)"
   ]
  },
  {
   "cell_type": "code",
   "execution_count": 3,
   "id": "valid-profile",
   "metadata": {},
   "outputs": [
    {
     "name": "stdout",
     "output_type": "stream",
     "text": [
      "Data shape:  (3168, 21)\n"
     ]
    }
   ],
   "source": [
    "# Shape of data\n",
    "print(\"Data shape: \", rawData.shape)"
   ]
  },
  {
   "cell_type": "code",
   "execution_count": 4,
   "id": "brutal-remark",
   "metadata": {},
   "outputs": [
    {
     "name": "stdout",
     "output_type": "stream",
     "text": [
      "['meanfreq' 'sd' 'median' 'Q25' 'Q75' 'IQR' 'skew' 'kurt' 'sp.ent' 'sfm'\n",
      " 'mode' 'centroid' 'meanfun' 'minfun' 'maxfun' 'meandom' 'mindom' 'maxdom'\n",
      " 'dfrange' 'modindx' 'label']\n"
     ]
    }
   ],
   "source": [
    "# Keys\n",
    "keys = np.asanyarray(rawData.keys())\n",
    "print(keys)"
   ]
  },
  {
   "cell_type": "code",
   "execution_count": 5,
   "id": "offensive-presentation",
   "metadata": {},
   "outputs": [
    {
     "name": "stdout",
     "output_type": "stream",
     "text": [
      "<class 'pandas.core.frame.DataFrame'>\n",
      "RangeIndex: 3168 entries, 0 to 3167\n",
      "Data columns (total 21 columns):\n",
      " #   Column    Non-Null Count  Dtype  \n",
      "---  ------    --------------  -----  \n",
      " 0   meanfreq  3168 non-null   float64\n",
      " 1   sd        3168 non-null   float64\n",
      " 2   median    3168 non-null   float64\n",
      " 3   Q25       3168 non-null   float64\n",
      " 4   Q75       3168 non-null   float64\n",
      " 5   IQR       3168 non-null   float64\n",
      " 6   skew      3168 non-null   float64\n",
      " 7   kurt      3168 non-null   float64\n",
      " 8   sp.ent    3168 non-null   float64\n",
      " 9   sfm       3168 non-null   float64\n",
      " 10  mode      3168 non-null   float64\n",
      " 11  centroid  3168 non-null   float64\n",
      " 12  meanfun   3168 non-null   float64\n",
      " 13  minfun    3168 non-null   float64\n",
      " 14  maxfun    3168 non-null   float64\n",
      " 15  meandom   3168 non-null   float64\n",
      " 16  mindom    3168 non-null   float64\n",
      " 17  maxdom    3168 non-null   float64\n",
      " 18  dfrange   3168 non-null   float64\n",
      " 19  modindx   3168 non-null   float64\n",
      " 20  label     3168 non-null   object \n",
      "dtypes: float64(20), object(1)\n",
      "memory usage: 519.9+ KB\n",
      "None\n"
     ]
    }
   ],
   "source": [
    "# Overview Data\n",
    "print(rawData.info())"
   ]
  },
  {
   "cell_type": "markdown",
   "id": "scientific-stand",
   "metadata": {},
   "source": [
    "#### Check null valus"
   ]
  },
  {
   "cell_type": "code",
   "execution_count": 6,
   "id": "impressive-contrast",
   "metadata": {},
   "outputs": [
    {
     "data": {
      "text/plain": [
       "meanfreq    0\n",
       "sd          0\n",
       "median      0\n",
       "Q25         0\n",
       "Q75         0\n",
       "IQR         0\n",
       "skew        0\n",
       "kurt        0\n",
       "sp.ent      0\n",
       "sfm         0\n",
       "mode        0\n",
       "centroid    0\n",
       "meanfun     0\n",
       "minfun      0\n",
       "maxfun      0\n",
       "meandom     0\n",
       "mindom      0\n",
       "maxdom      0\n",
       "dfrange     0\n",
       "modindx     0\n",
       "label       0\n",
       "dtype: int64"
      ]
     },
     "execution_count": 6,
     "metadata": {},
     "output_type": "execute_result"
    }
   ],
   "source": [
    "rawData.isna().sum()"
   ]
  },
  {
   "cell_type": "markdown",
   "id": "measured-rachel",
   "metadata": {},
   "source": [
    "#### -> All values are not null"
   ]
  },
  {
   "cell_type": "markdown",
   "id": "separate-curve",
   "metadata": {},
   "source": [
    "#### Check duplicated values"
   ]
  },
  {
   "cell_type": "code",
   "execution_count": 7,
   "id": "square-robinson",
   "metadata": {},
   "outputs": [
    {
     "data": {
      "text/plain": [
       "2"
      ]
     },
     "execution_count": 7,
     "metadata": {},
     "output_type": "execute_result"
    }
   ],
   "source": [
    "rawData.duplicated().sum()"
   ]
  },
  {
   "cell_type": "code",
   "execution_count": 8,
   "id": "israeli-quantity",
   "metadata": {},
   "outputs": [
    {
     "data": {
      "text/plain": [
       "(3166, 21)"
      ]
     },
     "execution_count": 8,
     "metadata": {},
     "output_type": "execute_result"
    }
   ],
   "source": [
    "rawData.drop_duplicates(inplace=True)\n",
    "rawData.shape"
   ]
  },
  {
   "cell_type": "markdown",
   "id": "rotary-exchange",
   "metadata": {},
   "source": [
    "#### -> All duplicated values are removed"
   ]
  },
  {
   "cell_type": "code",
   "execution_count": 9,
   "id": "binary-times",
   "metadata": {},
   "outputs": [
    {
     "data": {
      "text/html": [
       "<div>\n",
       "<style scoped>\n",
       "    .dataframe tbody tr th:only-of-type {\n",
       "        vertical-align: middle;\n",
       "    }\n",
       "\n",
       "    .dataframe tbody tr th {\n",
       "        vertical-align: top;\n",
       "    }\n",
       "\n",
       "    .dataframe thead th {\n",
       "        text-align: right;\n",
       "    }\n",
       "</style>\n",
       "<table border=\"1\" class=\"dataframe\">\n",
       "  <thead>\n",
       "    <tr style=\"text-align: right;\">\n",
       "      <th></th>\n",
       "      <th>meanfreq</th>\n",
       "      <th>sd</th>\n",
       "      <th>median</th>\n",
       "      <th>Q25</th>\n",
       "      <th>Q75</th>\n",
       "      <th>IQR</th>\n",
       "      <th>skew</th>\n",
       "      <th>kurt</th>\n",
       "      <th>sp.ent</th>\n",
       "      <th>sfm</th>\n",
       "      <th>mode</th>\n",
       "      <th>centroid</th>\n",
       "      <th>meanfun</th>\n",
       "      <th>minfun</th>\n",
       "      <th>maxfun</th>\n",
       "      <th>meandom</th>\n",
       "      <th>mindom</th>\n",
       "      <th>maxdom</th>\n",
       "      <th>dfrange</th>\n",
       "      <th>modindx</th>\n",
       "    </tr>\n",
       "  </thead>\n",
       "  <tbody>\n",
       "    <tr>\n",
       "      <th>count</th>\n",
       "      <td>3166.000000</td>\n",
       "      <td>3166.000000</td>\n",
       "      <td>3166.000000</td>\n",
       "      <td>3166.000000</td>\n",
       "      <td>3166.000000</td>\n",
       "      <td>3166.000000</td>\n",
       "      <td>3166.000000</td>\n",
       "      <td>3166.000000</td>\n",
       "      <td>3166.000000</td>\n",
       "      <td>3166.000000</td>\n",
       "      <td>3166.000000</td>\n",
       "      <td>3166.000000</td>\n",
       "      <td>3166.000000</td>\n",
       "      <td>3166.000000</td>\n",
       "      <td>3166.000000</td>\n",
       "      <td>3166.000000</td>\n",
       "      <td>3166.000000</td>\n",
       "      <td>3166.000000</td>\n",
       "      <td>3166.000000</td>\n",
       "      <td>3166.000000</td>\n",
       "    </tr>\n",
       "    <tr>\n",
       "      <th>mean</th>\n",
       "      <td>0.180886</td>\n",
       "      <td>0.057130</td>\n",
       "      <td>0.185593</td>\n",
       "      <td>0.140440</td>\n",
       "      <td>0.224748</td>\n",
       "      <td>0.084308</td>\n",
       "      <td>3.140895</td>\n",
       "      <td>36.587139</td>\n",
       "      <td>0.895144</td>\n",
       "      <td>0.408348</td>\n",
       "      <td>0.165248</td>\n",
       "      <td>0.180886</td>\n",
       "      <td>0.142811</td>\n",
       "      <td>0.036801</td>\n",
       "      <td>0.258837</td>\n",
       "      <td>0.828868</td>\n",
       "      <td>0.052631</td>\n",
       "      <td>5.044220</td>\n",
       "      <td>4.991589</td>\n",
       "      <td>0.173751</td>\n",
       "    </tr>\n",
       "    <tr>\n",
       "      <th>std</th>\n",
       "      <td>0.029916</td>\n",
       "      <td>0.016656</td>\n",
       "      <td>0.036354</td>\n",
       "      <td>0.048687</td>\n",
       "      <td>0.023636</td>\n",
       "      <td>0.042790</td>\n",
       "      <td>4.241768</td>\n",
       "      <td>134.969236</td>\n",
       "      <td>0.044988</td>\n",
       "      <td>0.177476</td>\n",
       "      <td>0.077212</td>\n",
       "      <td>0.029916</td>\n",
       "      <td>0.032314</td>\n",
       "      <td>0.019225</td>\n",
       "      <td>0.030085</td>\n",
       "      <td>0.525009</td>\n",
       "      <td>0.063301</td>\n",
       "      <td>3.517226</td>\n",
       "      <td>3.516072</td>\n",
       "      <td>0.119484</td>\n",
       "    </tr>\n",
       "    <tr>\n",
       "      <th>min</th>\n",
       "      <td>0.039363</td>\n",
       "      <td>0.018363</td>\n",
       "      <td>0.010975</td>\n",
       "      <td>0.000229</td>\n",
       "      <td>0.042946</td>\n",
       "      <td>0.014558</td>\n",
       "      <td>0.141735</td>\n",
       "      <td>2.068455</td>\n",
       "      <td>0.738651</td>\n",
       "      <td>0.036876</td>\n",
       "      <td>0.000000</td>\n",
       "      <td>0.039363</td>\n",
       "      <td>0.055565</td>\n",
       "      <td>0.009775</td>\n",
       "      <td>0.103093</td>\n",
       "      <td>0.007812</td>\n",
       "      <td>0.004883</td>\n",
       "      <td>0.007812</td>\n",
       "      <td>0.000000</td>\n",
       "      <td>0.000000</td>\n",
       "    </tr>\n",
       "    <tr>\n",
       "      <th>25%</th>\n",
       "      <td>0.163649</td>\n",
       "      <td>0.041942</td>\n",
       "      <td>0.169578</td>\n",
       "      <td>0.111086</td>\n",
       "      <td>0.208740</td>\n",
       "      <td>0.042538</td>\n",
       "      <td>1.649353</td>\n",
       "      <td>5.666817</td>\n",
       "      <td>0.861823</td>\n",
       "      <td>0.258126</td>\n",
       "      <td>0.118008</td>\n",
       "      <td>0.163649</td>\n",
       "      <td>0.116990</td>\n",
       "      <td>0.018223</td>\n",
       "      <td>0.253968</td>\n",
       "      <td>0.419640</td>\n",
       "      <td>0.007812</td>\n",
       "      <td>2.070312</td>\n",
       "      <td>2.041016</td>\n",
       "      <td>0.099726</td>\n",
       "    </tr>\n",
       "    <tr>\n",
       "      <th>50%</th>\n",
       "      <td>0.184814</td>\n",
       "      <td>0.059162</td>\n",
       "      <td>0.190016</td>\n",
       "      <td>0.140255</td>\n",
       "      <td>0.225668</td>\n",
       "      <td>0.094280</td>\n",
       "      <td>2.197623</td>\n",
       "      <td>8.327893</td>\n",
       "      <td>0.901823</td>\n",
       "      <td>0.396472</td>\n",
       "      <td>0.186530</td>\n",
       "      <td>0.184814</td>\n",
       "      <td>0.140585</td>\n",
       "      <td>0.046110</td>\n",
       "      <td>0.271186</td>\n",
       "      <td>0.765625</td>\n",
       "      <td>0.023438</td>\n",
       "      <td>4.992188</td>\n",
       "      <td>4.945312</td>\n",
       "      <td>0.139357</td>\n",
       "    </tr>\n",
       "    <tr>\n",
       "      <th>75%</th>\n",
       "      <td>0.199118</td>\n",
       "      <td>0.067023</td>\n",
       "      <td>0.210588</td>\n",
       "      <td>0.175931</td>\n",
       "      <td>0.243640</td>\n",
       "      <td>0.114168</td>\n",
       "      <td>2.932527</td>\n",
       "      <td>13.649803</td>\n",
       "      <td>0.928717</td>\n",
       "      <td>0.533795</td>\n",
       "      <td>0.221070</td>\n",
       "      <td>0.199118</td>\n",
       "      <td>0.169605</td>\n",
       "      <td>0.047904</td>\n",
       "      <td>0.277457</td>\n",
       "      <td>1.176824</td>\n",
       "      <td>0.070312</td>\n",
       "      <td>7.005859</td>\n",
       "      <td>6.992188</td>\n",
       "      <td>0.209141</td>\n",
       "    </tr>\n",
       "    <tr>\n",
       "      <th>max</th>\n",
       "      <td>0.251124</td>\n",
       "      <td>0.115273</td>\n",
       "      <td>0.261224</td>\n",
       "      <td>0.247347</td>\n",
       "      <td>0.273469</td>\n",
       "      <td>0.252225</td>\n",
       "      <td>34.725453</td>\n",
       "      <td>1309.612887</td>\n",
       "      <td>0.981997</td>\n",
       "      <td>0.842936</td>\n",
       "      <td>0.280000</td>\n",
       "      <td>0.251124</td>\n",
       "      <td>0.237636</td>\n",
       "      <td>0.204082</td>\n",
       "      <td>0.279114</td>\n",
       "      <td>2.957682</td>\n",
       "      <td>0.458984</td>\n",
       "      <td>21.867188</td>\n",
       "      <td>21.843750</td>\n",
       "      <td>0.932374</td>\n",
       "    </tr>\n",
       "  </tbody>\n",
       "</table>\n",
       "</div>"
      ],
      "text/plain": [
       "          meanfreq           sd       median          Q25          Q75  \\\n",
       "count  3166.000000  3166.000000  3166.000000  3166.000000  3166.000000   \n",
       "mean      0.180886     0.057130     0.185593     0.140440     0.224748   \n",
       "std       0.029916     0.016656     0.036354     0.048687     0.023636   \n",
       "min       0.039363     0.018363     0.010975     0.000229     0.042946   \n",
       "25%       0.163649     0.041942     0.169578     0.111086     0.208740   \n",
       "50%       0.184814     0.059162     0.190016     0.140255     0.225668   \n",
       "75%       0.199118     0.067023     0.210588     0.175931     0.243640   \n",
       "max       0.251124     0.115273     0.261224     0.247347     0.273469   \n",
       "\n",
       "               IQR         skew         kurt       sp.ent          sfm  \\\n",
       "count  3166.000000  3166.000000  3166.000000  3166.000000  3166.000000   \n",
       "mean      0.084308     3.140895    36.587139     0.895144     0.408348   \n",
       "std       0.042790     4.241768   134.969236     0.044988     0.177476   \n",
       "min       0.014558     0.141735     2.068455     0.738651     0.036876   \n",
       "25%       0.042538     1.649353     5.666817     0.861823     0.258126   \n",
       "50%       0.094280     2.197623     8.327893     0.901823     0.396472   \n",
       "75%       0.114168     2.932527    13.649803     0.928717     0.533795   \n",
       "max       0.252225    34.725453  1309.612887     0.981997     0.842936   \n",
       "\n",
       "              mode     centroid      meanfun       minfun       maxfun  \\\n",
       "count  3166.000000  3166.000000  3166.000000  3166.000000  3166.000000   \n",
       "mean      0.165248     0.180886     0.142811     0.036801     0.258837   \n",
       "std       0.077212     0.029916     0.032314     0.019225     0.030085   \n",
       "min       0.000000     0.039363     0.055565     0.009775     0.103093   \n",
       "25%       0.118008     0.163649     0.116990     0.018223     0.253968   \n",
       "50%       0.186530     0.184814     0.140585     0.046110     0.271186   \n",
       "75%       0.221070     0.199118     0.169605     0.047904     0.277457   \n",
       "max       0.280000     0.251124     0.237636     0.204082     0.279114   \n",
       "\n",
       "           meandom       mindom       maxdom      dfrange      modindx  \n",
       "count  3166.000000  3166.000000  3166.000000  3166.000000  3166.000000  \n",
       "mean      0.828868     0.052631     5.044220     4.991589     0.173751  \n",
       "std       0.525009     0.063301     3.517226     3.516072     0.119484  \n",
       "min       0.007812     0.004883     0.007812     0.000000     0.000000  \n",
       "25%       0.419640     0.007812     2.070312     2.041016     0.099726  \n",
       "50%       0.765625     0.023438     4.992188     4.945312     0.139357  \n",
       "75%       1.176824     0.070312     7.005859     6.992188     0.209141  \n",
       "max       2.957682     0.458984    21.867188    21.843750     0.932374  "
      ]
     },
     "execution_count": 9,
     "metadata": {},
     "output_type": "execute_result"
    }
   ],
   "source": [
    "rawData.describe()"
   ]
  },
  {
   "cell_type": "markdown",
   "id": "sunset-elimination",
   "metadata": {},
   "source": [
    "<h2>5. Data exploration and visualization</h2>"
   ]
  },
  {
   "cell_type": "markdown",
   "id": "exclusive-transmission",
   "metadata": {},
   "source": [
    "#### Evaluate relationship between 'label' and other features"
   ]
  },
  {
   "cell_type": "code",
   "execution_count": 10,
   "id": "exposed-static",
   "metadata": {},
   "outputs": [
    {
     "data": {
      "text/plain": [
       "array(['male', 'female'], dtype=object)"
      ]
     },
     "execution_count": 10,
     "metadata": {},
     "output_type": "execute_result"
    }
   ],
   "source": [
    "# Check unique values of feature 'label'\n",
    "rawData['label'].unique()"
   ]
  },
  {
   "cell_type": "code",
   "execution_count": 11,
   "id": "organized-discretion",
   "metadata": {},
   "outputs": [
    {
     "data": {
      "text/html": [
       "<div>\n",
       "<style scoped>\n",
       "    .dataframe tbody tr th:only-of-type {\n",
       "        vertical-align: middle;\n",
       "    }\n",
       "\n",
       "    .dataframe tbody tr th {\n",
       "        vertical-align: top;\n",
       "    }\n",
       "\n",
       "    .dataframe thead th {\n",
       "        text-align: right;\n",
       "    }\n",
       "</style>\n",
       "<table border=\"1\" class=\"dataframe\">\n",
       "  <thead>\n",
       "    <tr style=\"text-align: right;\">\n",
       "      <th></th>\n",
       "      <th>meanfreq</th>\n",
       "      <th>sd</th>\n",
       "      <th>median</th>\n",
       "      <th>Q25</th>\n",
       "      <th>Q75</th>\n",
       "      <th>IQR</th>\n",
       "      <th>skew</th>\n",
       "      <th>kurt</th>\n",
       "      <th>sp.ent</th>\n",
       "      <th>sfm</th>\n",
       "      <th>...</th>\n",
       "      <th>centroid</th>\n",
       "      <th>meanfun</th>\n",
       "      <th>minfun</th>\n",
       "      <th>maxfun</th>\n",
       "      <th>meandom</th>\n",
       "      <th>mindom</th>\n",
       "      <th>maxdom</th>\n",
       "      <th>dfrange</th>\n",
       "      <th>modindx</th>\n",
       "      <th>label</th>\n",
       "    </tr>\n",
       "  </thead>\n",
       "  <tbody>\n",
       "    <tr>\n",
       "      <th>0</th>\n",
       "      <td>0.059781</td>\n",
       "      <td>0.064241</td>\n",
       "      <td>0.032027</td>\n",
       "      <td>0.015071</td>\n",
       "      <td>0.090193</td>\n",
       "      <td>0.075122</td>\n",
       "      <td>12.863462</td>\n",
       "      <td>274.402906</td>\n",
       "      <td>0.893369</td>\n",
       "      <td>0.491918</td>\n",
       "      <td>...</td>\n",
       "      <td>0.059781</td>\n",
       "      <td>0.084279</td>\n",
       "      <td>0.015702</td>\n",
       "      <td>0.275862</td>\n",
       "      <td>0.007812</td>\n",
       "      <td>0.007812</td>\n",
       "      <td>0.007812</td>\n",
       "      <td>0.000000</td>\n",
       "      <td>0.000000</td>\n",
       "      <td>1</td>\n",
       "    </tr>\n",
       "    <tr>\n",
       "      <th>1</th>\n",
       "      <td>0.066009</td>\n",
       "      <td>0.067310</td>\n",
       "      <td>0.040229</td>\n",
       "      <td>0.019414</td>\n",
       "      <td>0.092666</td>\n",
       "      <td>0.073252</td>\n",
       "      <td>22.423285</td>\n",
       "      <td>634.613855</td>\n",
       "      <td>0.892193</td>\n",
       "      <td>0.513724</td>\n",
       "      <td>...</td>\n",
       "      <td>0.066009</td>\n",
       "      <td>0.107937</td>\n",
       "      <td>0.015826</td>\n",
       "      <td>0.250000</td>\n",
       "      <td>0.009014</td>\n",
       "      <td>0.007812</td>\n",
       "      <td>0.054688</td>\n",
       "      <td>0.046875</td>\n",
       "      <td>0.052632</td>\n",
       "      <td>1</td>\n",
       "    </tr>\n",
       "    <tr>\n",
       "      <th>2</th>\n",
       "      <td>0.077316</td>\n",
       "      <td>0.083829</td>\n",
       "      <td>0.036718</td>\n",
       "      <td>0.008701</td>\n",
       "      <td>0.131908</td>\n",
       "      <td>0.123207</td>\n",
       "      <td>30.757155</td>\n",
       "      <td>1024.927705</td>\n",
       "      <td>0.846389</td>\n",
       "      <td>0.478905</td>\n",
       "      <td>...</td>\n",
       "      <td>0.077316</td>\n",
       "      <td>0.098706</td>\n",
       "      <td>0.015656</td>\n",
       "      <td>0.271186</td>\n",
       "      <td>0.007990</td>\n",
       "      <td>0.007812</td>\n",
       "      <td>0.015625</td>\n",
       "      <td>0.007812</td>\n",
       "      <td>0.046512</td>\n",
       "      <td>1</td>\n",
       "    </tr>\n",
       "    <tr>\n",
       "      <th>3</th>\n",
       "      <td>0.151228</td>\n",
       "      <td>0.072111</td>\n",
       "      <td>0.158011</td>\n",
       "      <td>0.096582</td>\n",
       "      <td>0.207955</td>\n",
       "      <td>0.111374</td>\n",
       "      <td>1.232831</td>\n",
       "      <td>4.177296</td>\n",
       "      <td>0.963322</td>\n",
       "      <td>0.727232</td>\n",
       "      <td>...</td>\n",
       "      <td>0.151228</td>\n",
       "      <td>0.088965</td>\n",
       "      <td>0.017798</td>\n",
       "      <td>0.250000</td>\n",
       "      <td>0.201497</td>\n",
       "      <td>0.007812</td>\n",
       "      <td>0.562500</td>\n",
       "      <td>0.554688</td>\n",
       "      <td>0.247119</td>\n",
       "      <td>1</td>\n",
       "    </tr>\n",
       "    <tr>\n",
       "      <th>4</th>\n",
       "      <td>0.135120</td>\n",
       "      <td>0.079146</td>\n",
       "      <td>0.124656</td>\n",
       "      <td>0.078720</td>\n",
       "      <td>0.206045</td>\n",
       "      <td>0.127325</td>\n",
       "      <td>1.101174</td>\n",
       "      <td>4.333713</td>\n",
       "      <td>0.971955</td>\n",
       "      <td>0.783568</td>\n",
       "      <td>...</td>\n",
       "      <td>0.135120</td>\n",
       "      <td>0.106398</td>\n",
       "      <td>0.016931</td>\n",
       "      <td>0.266667</td>\n",
       "      <td>0.712812</td>\n",
       "      <td>0.007812</td>\n",
       "      <td>5.484375</td>\n",
       "      <td>5.476562</td>\n",
       "      <td>0.208274</td>\n",
       "      <td>1</td>\n",
       "    </tr>\n",
       "  </tbody>\n",
       "</table>\n",
       "<p>5 rows × 21 columns</p>\n",
       "</div>"
      ],
      "text/plain": [
       "   meanfreq        sd    median       Q25       Q75       IQR       skew  \\\n",
       "0  0.059781  0.064241  0.032027  0.015071  0.090193  0.075122  12.863462   \n",
       "1  0.066009  0.067310  0.040229  0.019414  0.092666  0.073252  22.423285   \n",
       "2  0.077316  0.083829  0.036718  0.008701  0.131908  0.123207  30.757155   \n",
       "3  0.151228  0.072111  0.158011  0.096582  0.207955  0.111374   1.232831   \n",
       "4  0.135120  0.079146  0.124656  0.078720  0.206045  0.127325   1.101174   \n",
       "\n",
       "          kurt    sp.ent       sfm  ...  centroid   meanfun    minfun  \\\n",
       "0   274.402906  0.893369  0.491918  ...  0.059781  0.084279  0.015702   \n",
       "1   634.613855  0.892193  0.513724  ...  0.066009  0.107937  0.015826   \n",
       "2  1024.927705  0.846389  0.478905  ...  0.077316  0.098706  0.015656   \n",
       "3     4.177296  0.963322  0.727232  ...  0.151228  0.088965  0.017798   \n",
       "4     4.333713  0.971955  0.783568  ...  0.135120  0.106398  0.016931   \n",
       "\n",
       "     maxfun   meandom    mindom    maxdom   dfrange   modindx  label  \n",
       "0  0.275862  0.007812  0.007812  0.007812  0.000000  0.000000      1  \n",
       "1  0.250000  0.009014  0.007812  0.054688  0.046875  0.052632      1  \n",
       "2  0.271186  0.007990  0.007812  0.015625  0.007812  0.046512      1  \n",
       "3  0.250000  0.201497  0.007812  0.562500  0.554688  0.247119      1  \n",
       "4  0.266667  0.712812  0.007812  5.484375  5.476562  0.208274      1  \n",
       "\n",
       "[5 rows x 21 columns]"
      ]
     },
     "execution_count": 11,
     "metadata": {},
     "output_type": "execute_result"
    }
   ],
   "source": [
    "# Create a copied Data\n",
    "myData = rawData.copy(deep=True)\n",
    "# Encode values of esrb_rating key\n",
    "le = preprocessing.LabelEncoder()\n",
    "myData['label'] = le.fit(myData['label'].unique()).transform(myData['label'])\n",
    "myData.head(5)"
   ]
  },
  {
   "cell_type": "code",
   "execution_count": 12,
   "id": "functional-speed",
   "metadata": {},
   "outputs": [
    {
     "data": {
      "text/plain": [
       "array([1, 0])"
      ]
     },
     "execution_count": 12,
     "metadata": {},
     "output_type": "execute_result"
    }
   ],
   "source": [
    "myData['label'].unique()"
   ]
  },
  {
   "cell_type": "code",
   "execution_count": 13,
   "id": "blocked-beauty",
   "metadata": {},
   "outputs": [
    {
     "data": {
      "image/png": "[encoded data removed]",
      "text/plain": [
       "<Figure size 1080x1080 with 2 Axes>"
      ]
     },
     "metadata": {
      "needs_background": "light"
     },
     "output_type": "display_data"
    }
   ],
   "source": [
    "# Correlation matrix\n",
    "corrMatrix = myData.corr()\n",
    "plt.figure(figsize=(15, 15))\n",
    "sn.heatmap(corrMatrix, vmin=-1, vmax=1, annot=True, linewidths=2)\n",
    "plt.xticks(rotation='45')\n",
    "plt.yticks(rotation='45')\n",
    "plt.show()"
   ]
  },
  {
   "cell_type": "code",
   "execution_count": 14,
   "id": "desirable-convert",
   "metadata": {},
   "outputs": [
    {
     "data": {
      "text/html": [
       "<div>\n",
       "<style scoped>\n",
       "    .dataframe tbody tr th:only-of-type {\n",
       "        vertical-align: middle;\n",
       "    }\n",
       "\n",
       "    .dataframe tbody tr th {\n",
       "        vertical-align: top;\n",
       "    }\n",
       "\n",
       "    .dataframe thead th {\n",
       "        text-align: right;\n",
       "    }\n",
       "</style>\n",
       "<table border=\"1\" class=\"dataframe\">\n",
       "  <thead>\n",
       "    <tr style=\"text-align: right;\">\n",
       "      <th></th>\n",
       "      <th>label</th>\n",
       "    </tr>\n",
       "  </thead>\n",
       "  <tbody>\n",
       "    <tr>\n",
       "      <th>meanfreq</th>\n",
       "      <td>-0.337660</td>\n",
       "    </tr>\n",
       "    <tr>\n",
       "      <th>sd</th>\n",
       "      <td>0.479468</td>\n",
       "    </tr>\n",
       "    <tr>\n",
       "      <th>median</th>\n",
       "      <td>-0.284387</td>\n",
       "    </tr>\n",
       "    <tr>\n",
       "      <th>Q25</th>\n",
       "      <td>-0.511390</td>\n",
       "    </tr>\n",
       "    <tr>\n",
       "      <th>Q75</th>\n",
       "      <td>0.066791</td>\n",
       "    </tr>\n",
       "    <tr>\n",
       "      <th>IQR</th>\n",
       "      <td>0.618766</td>\n",
       "    </tr>\n",
       "    <tr>\n",
       "      <th>skew</th>\n",
       "      <td>0.036621</td>\n",
       "    </tr>\n",
       "    <tr>\n",
       "      <th>kurt</th>\n",
       "      <td>0.087220</td>\n",
       "    </tr>\n",
       "    <tr>\n",
       "      <th>sp.ent</th>\n",
       "      <td>0.490893</td>\n",
       "    </tr>\n",
       "    <tr>\n",
       "      <th>sfm</th>\n",
       "      <td>0.358223</td>\n",
       "    </tr>\n",
       "    <tr>\n",
       "      <th>mode</th>\n",
       "      <td>-0.172109</td>\n",
       "    </tr>\n",
       "    <tr>\n",
       "      <th>centroid</th>\n",
       "      <td>-0.337660</td>\n",
       "    </tr>\n",
       "    <tr>\n",
       "      <th>meanfun</th>\n",
       "      <td>-0.834135</td>\n",
       "    </tr>\n",
       "    <tr>\n",
       "      <th>minfun</th>\n",
       "      <td>-0.136435</td>\n",
       "    </tr>\n",
       "    <tr>\n",
       "      <th>maxfun</th>\n",
       "      <td>-0.166263</td>\n",
       "    </tr>\n",
       "    <tr>\n",
       "      <th>meandom</th>\n",
       "      <td>-0.190593</td>\n",
       "    </tr>\n",
       "    <tr>\n",
       "      <th>mindom</th>\n",
       "      <td>-0.195637</td>\n",
       "    </tr>\n",
       "    <tr>\n",
       "      <th>maxdom</th>\n",
       "      <td>-0.194971</td>\n",
       "    </tr>\n",
       "    <tr>\n",
       "      <th>dfrange</th>\n",
       "      <td>-0.191513</td>\n",
       "    </tr>\n",
       "    <tr>\n",
       "      <th>modindx</th>\n",
       "      <td>0.030528</td>\n",
       "    </tr>\n",
       "    <tr>\n",
       "      <th>label</th>\n",
       "      <td>1.000000</td>\n",
       "    </tr>\n",
       "  </tbody>\n",
       "</table>\n",
       "</div>"
      ],
      "text/plain": [
       "             label\n",
       "meanfreq -0.337660\n",
       "sd        0.479468\n",
       "median   -0.284387\n",
       "Q25      -0.511390\n",
       "Q75       0.066791\n",
       "IQR       0.618766\n",
       "skew      0.036621\n",
       "kurt      0.087220\n",
       "sp.ent    0.490893\n",
       "sfm       0.358223\n",
       "mode     -0.172109\n",
       "centroid -0.337660\n",
       "meanfun  -0.834135\n",
       "minfun   -0.136435\n",
       "maxfun   -0.166263\n",
       "meandom  -0.190593\n",
       "mindom   -0.195637\n",
       "maxdom   -0.194971\n",
       "dfrange  -0.191513\n",
       "modindx   0.030528\n",
       "label     1.000000"
      ]
     },
     "execution_count": 14,
     "metadata": {},
     "output_type": "execute_result"
    }
   ],
   "source": [
    "corr_label = corrMatrix[['label']].copy(deep=True)\n",
    "corr_label"
   ]
  },
  {
   "cell_type": "code",
   "execution_count": 15,
   "id": "declared-apple",
   "metadata": {},
   "outputs": [
    {
     "data": {
      "image/png": "[encoded data removed]",
      "text/plain": [
       "<Figure size 1080x1080 with 1 Axes>"
      ]
     },
     "metadata": {
      "needs_background": "light"
     },
     "output_type": "display_data"
    }
   ],
   "source": [
    "# Correlation between 'label' and other features\n",
    "corr_label = corr_label.drop(index=['label'], axis=0, inplace=False)\n",
    "corr_label[['label']] = abs(corr_label[['label']].values)\n",
    "corr_label = corr_label[['label']].sort_values(by=['label'], axis=0, ascending=False, inplace=False)\n",
    "\n",
    "# Bar plot\n",
    "corr_values, corr_indexs = corr_label['label'].values, corr_label.index\n",
    "plt.figure(figsize=(15,15))\n",
    "ax = sn.barplot(x=corr_values, y=corr_indexs)\n",
    "for i, v in enumerate(corr_values):\n",
    "    ax.text(v, i, str(v), color='blue', fontweight='bold')\n",
    "plt.show()"
   ]
  },
  {
   "cell_type": "markdown",
   "id": "virgin-conservative",
   "metadata": {},
   "source": [
    "#### Select important features"
   ]
  },
  {
   "cell_type": "code",
   "execution_count": 16,
   "id": "human-renaissance",
   "metadata": {},
   "outputs": [
    {
     "data": {
      "text/plain": [
       "['meanfun',\n",
       " 'IQR',\n",
       " 'Q25',\n",
       " 'sp.ent',\n",
       " 'sd',\n",
       " 'sfm',\n",
       " 'meanfreq',\n",
       " 'centroid',\n",
       " 'median',\n",
       " 'mindom',\n",
       " 'maxdom',\n",
       " 'dfrange',\n",
       " 'meandom',\n",
       " 'mode',\n",
       " 'maxfun',\n",
       " 'minfun']"
      ]
     },
     "execution_count": 16,
     "metadata": {},
     "output_type": "execute_result"
    }
   ],
   "source": [
    "TrueKeys = [x for x in corr_label[['label']].index if corr_label[['label']].loc[x].values[0] >= 0.1]\n",
    "TrueKeys"
   ]
  },
  {
   "cell_type": "code",
   "execution_count": 17,
   "id": "unlike-armenia",
   "metadata": {},
   "outputs": [
    {
     "data": {
      "text/html": [
       "<div>\n",
       "<style scoped>\n",
       "    .dataframe tbody tr th:only-of-type {\n",
       "        vertical-align: middle;\n",
       "    }\n",
       "\n",
       "    .dataframe tbody tr th {\n",
       "        vertical-align: top;\n",
       "    }\n",
       "\n",
       "    .dataframe thead th {\n",
       "        text-align: right;\n",
       "    }\n",
       "</style>\n",
       "<table border=\"1\" class=\"dataframe\">\n",
       "  <thead>\n",
       "    <tr style=\"text-align: right;\">\n",
       "      <th></th>\n",
       "      <th>meanfreq</th>\n",
       "      <th>sd</th>\n",
       "      <th>median</th>\n",
       "      <th>Q25</th>\n",
       "      <th>IQR</th>\n",
       "      <th>sp.ent</th>\n",
       "      <th>sfm</th>\n",
       "      <th>mode</th>\n",
       "      <th>centroid</th>\n",
       "      <th>meanfun</th>\n",
       "      <th>minfun</th>\n",
       "      <th>maxfun</th>\n",
       "      <th>meandom</th>\n",
       "      <th>mindom</th>\n",
       "      <th>maxdom</th>\n",
       "      <th>dfrange</th>\n",
       "      <th>label</th>\n",
       "    </tr>\n",
       "  </thead>\n",
       "  <tbody>\n",
       "    <tr>\n",
       "      <th>0</th>\n",
       "      <td>0.059781</td>\n",
       "      <td>0.064241</td>\n",
       "      <td>0.032027</td>\n",
       "      <td>0.015071</td>\n",
       "      <td>0.075122</td>\n",
       "      <td>0.893369</td>\n",
       "      <td>0.491918</td>\n",
       "      <td>0.000000</td>\n",
       "      <td>0.059781</td>\n",
       "      <td>0.084279</td>\n",
       "      <td>0.015702</td>\n",
       "      <td>0.275862</td>\n",
       "      <td>0.007812</td>\n",
       "      <td>0.007812</td>\n",
       "      <td>0.007812</td>\n",
       "      <td>0.000000</td>\n",
       "      <td>1</td>\n",
       "    </tr>\n",
       "    <tr>\n",
       "      <th>1</th>\n",
       "      <td>0.066009</td>\n",
       "      <td>0.067310</td>\n",
       "      <td>0.040229</td>\n",
       "      <td>0.019414</td>\n",
       "      <td>0.073252</td>\n",
       "      <td>0.892193</td>\n",
       "      <td>0.513724</td>\n",
       "      <td>0.000000</td>\n",
       "      <td>0.066009</td>\n",
       "      <td>0.107937</td>\n",
       "      <td>0.015826</td>\n",
       "      <td>0.250000</td>\n",
       "      <td>0.009014</td>\n",
       "      <td>0.007812</td>\n",
       "      <td>0.054688</td>\n",
       "      <td>0.046875</td>\n",
       "      <td>1</td>\n",
       "    </tr>\n",
       "    <tr>\n",
       "      <th>2</th>\n",
       "      <td>0.077316</td>\n",
       "      <td>0.083829</td>\n",
       "      <td>0.036718</td>\n",
       "      <td>0.008701</td>\n",
       "      <td>0.123207</td>\n",
       "      <td>0.846389</td>\n",
       "      <td>0.478905</td>\n",
       "      <td>0.000000</td>\n",
       "      <td>0.077316</td>\n",
       "      <td>0.098706</td>\n",
       "      <td>0.015656</td>\n",
       "      <td>0.271186</td>\n",
       "      <td>0.007990</td>\n",
       "      <td>0.007812</td>\n",
       "      <td>0.015625</td>\n",
       "      <td>0.007812</td>\n",
       "      <td>1</td>\n",
       "    </tr>\n",
       "    <tr>\n",
       "      <th>3</th>\n",
       "      <td>0.151228</td>\n",
       "      <td>0.072111</td>\n",
       "      <td>0.158011</td>\n",
       "      <td>0.096582</td>\n",
       "      <td>0.111374</td>\n",
       "      <td>0.963322</td>\n",
       "      <td>0.727232</td>\n",
       "      <td>0.083878</td>\n",
       "      <td>0.151228</td>\n",
       "      <td>0.088965</td>\n",
       "      <td>0.017798</td>\n",
       "      <td>0.250000</td>\n",
       "      <td>0.201497</td>\n",
       "      <td>0.007812</td>\n",
       "      <td>0.562500</td>\n",
       "      <td>0.554688</td>\n",
       "      <td>1</td>\n",
       "    </tr>\n",
       "    <tr>\n",
       "      <th>4</th>\n",
       "      <td>0.135120</td>\n",
       "      <td>0.079146</td>\n",
       "      <td>0.124656</td>\n",
       "      <td>0.078720</td>\n",
       "      <td>0.127325</td>\n",
       "      <td>0.971955</td>\n",
       "      <td>0.783568</td>\n",
       "      <td>0.104261</td>\n",
       "      <td>0.135120</td>\n",
       "      <td>0.106398</td>\n",
       "      <td>0.016931</td>\n",
       "      <td>0.266667</td>\n",
       "      <td>0.712812</td>\n",
       "      <td>0.007812</td>\n",
       "      <td>5.484375</td>\n",
       "      <td>5.476562</td>\n",
       "      <td>1</td>\n",
       "    </tr>\n",
       "  </tbody>\n",
       "</table>\n",
       "</div>"
      ],
      "text/plain": [
       "   meanfreq        sd    median       Q25       IQR    sp.ent       sfm  \\\n",
       "0  0.059781  0.064241  0.032027  0.015071  0.075122  0.893369  0.491918   \n",
       "1  0.066009  0.067310  0.040229  0.019414  0.073252  0.892193  0.513724   \n",
       "2  0.077316  0.083829  0.036718  0.008701  0.123207  0.846389  0.478905   \n",
       "3  0.151228  0.072111  0.158011  0.096582  0.111374  0.963322  0.727232   \n",
       "4  0.135120  0.079146  0.124656  0.078720  0.127325  0.971955  0.783568   \n",
       "\n",
       "       mode  centroid   meanfun    minfun    maxfun   meandom    mindom  \\\n",
       "0  0.000000  0.059781  0.084279  0.015702  0.275862  0.007812  0.007812   \n",
       "1  0.000000  0.066009  0.107937  0.015826  0.250000  0.009014  0.007812   \n",
       "2  0.000000  0.077316  0.098706  0.015656  0.271186  0.007990  0.007812   \n",
       "3  0.083878  0.151228  0.088965  0.017798  0.250000  0.201497  0.007812   \n",
       "4  0.104261  0.135120  0.106398  0.016931  0.266667  0.712812  0.007812   \n",
       "\n",
       "     maxdom   dfrange  label  \n",
       "0  0.007812  0.000000      1  \n",
       "1  0.054688  0.046875      1  \n",
       "2  0.015625  0.007812      1  \n",
       "3  0.562500  0.554688      1  \n",
       "4  5.484375  5.476562      1  "
      ]
     },
     "execution_count": 17,
     "metadata": {},
     "output_type": "execute_result"
    }
   ],
   "source": [
    "TrueKeys.append('label')\n",
    "myData = myData.drop(columns=[x for x in myData.keys() if x not in TrueKeys], axis=1)\n",
    "myData.head(5)"
   ]
  },
  {
   "cell_type": "code",
   "execution_count": 18,
   "id": "nervous-visiting",
   "metadata": {},
   "outputs": [
    {
     "data": {
      "text/plain": [
       "(3166, 17)"
      ]
     },
     "execution_count": 18,
     "metadata": {},
     "output_type": "execute_result"
    }
   ],
   "source": [
    "myData.shape"
   ]
  },
  {
   "cell_type": "markdown",
   "id": "wrong-billion",
   "metadata": {},
   "source": [
    "#### Check equality of label's values"
   ]
  },
  {
   "cell_type": "code",
   "execution_count": 19,
   "id": "raising-toner",
   "metadata": {},
   "outputs": [
    {
     "name": "stdout",
     "output_type": "stream",
     "text": [
      "Male:  [1583]\n",
      "Female:  [1583]\n"
     ]
    },
    {
     "data": {
      "image/png": "[encoded data removed]",
      "text/plain": [
       "<Figure size 576x576 with 1 Axes>"
      ]
     },
     "metadata": {},
     "output_type": "display_data"
    }
   ],
   "source": [
    "# Proportion of each class using pie chart\n",
    "\n",
    "outcome = myData[['label']]\n",
    "male = outcome.loc[outcome.label == 1].count()\n",
    "female = outcome.loc[outcome.label == 0].count()\n",
    "print(\"Male: \", male.values)\n",
    "print(\"Female: \", female.values)\n",
    "\n",
    "values = []\n",
    "values.append(male.values[0])\n",
    "values.append(female.values[0])\n",
    "labels = ['Male', 'Female']\n",
    "plt.figure(figsize=(8, 8))\n",
    "plt.pie(values, labels=labels, startangle=90, autopct='%1.2f%%', explode=(0, 0.025))\n",
    "plt.show()"
   ]
  },
  {
   "cell_type": "markdown",
   "id": "documentary-niagara",
   "metadata": {},
   "source": [
    "#### -> There are equal number of male and female label"
   ]
  },
  {
   "cell_type": "markdown",
   "id": "chief-accountability",
   "metadata": {},
   "source": [
    "<h2>6. Data prepation</h2>"
   ]
  },
  {
   "cell_type": "markdown",
   "id": "smaller-metro",
   "metadata": {},
   "source": [
    "#### Create data set X and y"
   ]
  },
  {
   "cell_type": "code",
   "execution_count": 20,
   "id": "bacterial-diagnosis",
   "metadata": {},
   "outputs": [
    {
     "data": {
      "text/plain": [
       "array([[0.05978098, 0.06424127, 0.03202691, 0.01507149, 0.07512195,\n",
       "        0.89336942, 0.49191777, 0.        , 0.05978098, 0.08427911,\n",
       "        0.01570167, 0.27586207, 0.0078125 , 0.0078125 , 0.0078125 ,\n",
       "        0.        ],\n",
       "       [0.06600874, 0.06731003, 0.04022873, 0.01941387, 0.07325232,\n",
       "        0.89219324, 0.51372384, 0.        , 0.06600874, 0.10793655,\n",
       "        0.01582591, 0.25      , 0.00901442, 0.0078125 , 0.0546875 ,\n",
       "        0.046875  ],\n",
       "       [0.0773155 , 0.08382942, 0.03671846, 0.00870106, 0.12320696,\n",
       "        0.84638909, 0.47890498, 0.        , 0.0773155 , 0.09870626,\n",
       "        0.01565558, 0.27118644, 0.00799006, 0.0078125 , 0.015625  ,\n",
       "        0.0078125 ],\n",
       "       [0.15122809, 0.07211059, 0.15801119, 0.09658173, 0.11137352,\n",
       "        0.96332246, 0.7272318 , 0.08387819, 0.15122809, 0.08896485,\n",
       "        0.01779755, 0.25      , 0.2014974 , 0.0078125 , 0.5625    ,\n",
       "        0.5546875 ],\n",
       "       [0.13512039, 0.0791461 , 0.12465623, 0.07872022, 0.12732471,\n",
       "        0.97195508, 0.78356806, 0.1042614 , 0.13512039, 0.10639784,\n",
       "        0.01693122, 0.26666667, 0.7128125 , 0.0078125 , 5.484375  ,\n",
       "        5.4765625 ],\n",
       "       [0.13278641, 0.07955687, 0.11908985, 0.06795799, 0.14163361,\n",
       "        0.96318135, 0.738307  , 0.11255543, 0.13278641, 0.11013192,\n",
       "        0.0171123 , 0.25396825, 0.29822198, 0.0078125 , 2.7265625 ,\n",
       "        2.71875   ],\n",
       "       [0.15076233, 0.07446321, 0.16010638, 0.09289894, 0.11281915,\n",
       "        0.96757307, 0.76263767, 0.08619681, 0.15076233, 0.10594452,\n",
       "        0.02622951, 0.26666667, 0.47961957, 0.0078125 , 5.3125    ,\n",
       "        5.3046875 ],\n",
       "       [0.16051433, 0.07676688, 0.14433678, 0.11053217, 0.12142971,\n",
       "        0.95925457, 0.71985791, 0.12832407, 0.16051433, 0.09305243,\n",
       "        0.01775805, 0.14414414, 0.30133929, 0.0078125 , 0.5390625 ,\n",
       "        0.53125   ],\n",
       "       [0.14223942, 0.07801846, 0.13858744, 0.08820628, 0.12038117,\n",
       "        0.97072293, 0.77099205, 0.21910314, 0.14223942, 0.09672895,\n",
       "        0.01795735, 0.25      , 0.33647629, 0.0078125 , 2.1640625 ,\n",
       "        2.15625   ],\n",
       "       [0.13432878, 0.08035003, 0.12145135, 0.07557999, 0.12637713,\n",
       "        0.97524614, 0.80450525, 0.01169874, 0.13432878, 0.10588093,\n",
       "        0.01930036, 0.26229508, 0.34036458, 0.015625  , 4.6953125 ,\n",
       "        4.6796875 ]])"
      ]
     },
     "execution_count": 20,
     "metadata": {},
     "output_type": "execute_result"
    }
   ],
   "source": [
    "X = myData.drop('label', axis=1).values\n",
    "X[0:10]"
   ]
  },
  {
   "cell_type": "code",
   "execution_count": 21,
   "id": "alert-burning",
   "metadata": {},
   "outputs": [
    {
     "data": {
      "text/plain": [
       "array([1, 1, 1, 1, 1, 1, 1, 1, 1, 1])"
      ]
     },
     "execution_count": 21,
     "metadata": {},
     "output_type": "execute_result"
    }
   ],
   "source": [
    "y = myData['label'].values\n",
    "y[0:10]"
   ]
  },
  {
   "cell_type": "markdown",
   "id": "broadband-insulation",
   "metadata": {},
   "source": [
    "#### Normalize data"
   ]
  },
  {
   "cell_type": "code",
   "execution_count": 22,
   "id": "chinese-respect",
   "metadata": {},
   "outputs": [
    {
     "data": {
      "text/plain": [
       "array([[-4.04876256,  0.42701439, -4.22489401, -2.57536967, -0.2147114 ,\n",
       "        -0.03944648,  0.47095196, -2.14052431, -4.04876256, -1.81160868,\n",
       "        -1.0977045 ,  0.56598384, -1.56413506, -0.70812961, -1.43215231,\n",
       "        -1.41987354],\n",
       "       [-3.8405579 ,  0.61129081, -3.99924689, -2.48616672, -0.25841143,\n",
       "        -0.06559465,  0.59383891, -2.14052431, -3.8405579 , -1.07938593,\n",
       "        -1.09124056, -0.29379851, -1.56184537, -0.70812961, -1.41882294,\n",
       "        -1.40653979],\n",
       "       [-3.46255325,  1.60326589, -4.09582101, -2.70623374,  0.90921075,\n",
       "        -1.08389132,  0.39761911, -2.14052431, -3.46255325, -1.36507313,\n",
       "        -1.10010239,  0.41054296, -1.56379681, -0.70812961, -1.42993075,\n",
       "        -1.41765125],\n",
       "       [-0.99152733,  0.89956015, -0.75883605, -0.90095238,  0.63262015,\n",
       "         1.51571724,  1.7970513 , -1.05401541, -0.99152733, -1.66658005,\n",
       "        -0.98866599, -0.29379851, -1.19515968, -0.70812961, -1.27442142,\n",
       "        -1.26209088],\n",
       "       [-1.5300358 ,  1.32203658, -1.676492  , -1.26787096,  1.00545759,\n",
       "         1.70763354,  2.1145312 , -0.78998316, -1.5300358 , -1.12701058,\n",
       "        -1.03373717,  0.26028345, -0.22108945, -0.70812961,  0.12516255,\n",
       "         0.13795238],\n",
       "       [-1.6080648 ,  1.34670269, -1.82963332, -1.48895307,  1.33990868,\n",
       "         1.51258003,  1.85946501, -0.68254723, -1.6080648 , -1.01143704,\n",
       "        -1.02431634, -0.16187423, -1.01089651, -0.70812961, -0.65904878,\n",
       "        -0.64651631],\n",
       "       [-1.00709855,  1.04083281, -0.70119338, -0.97660582,  0.66640968,\n",
       "         1.6102148 ,  1.99657914, -1.02398133, -1.00709855, -1.1410416 ,\n",
       "        -0.54999306,  0.26028345, -0.66532881, -0.70812961,  0.07628819,\n",
       "         0.08906198],\n",
       "       [-0.68107223,  1.17916676, -1.13504415, -0.61437662,  0.86766982,\n",
       "         1.42528175,  1.75549613, -0.47828949, -0.68107223, -1.54006512,\n",
       "        -0.99072131, -3.8129677 , -1.00495796, -0.70812961, -1.2810861 ,\n",
       "        -1.26875776],\n",
       "       [-1.29203431,  1.2543229 , -1.29321877, -1.07300436,  0.84316161,\n",
       "         1.68024108,  2.04365982,  0.69760945, -1.29203431, -1.42627311,\n",
       "        -0.98035247, -0.29379851, -0.93802093, -0.70812961, -0.81900124,\n",
       "        -0.80652125],\n",
       "       [-1.55650069,  1.39433135, -1.76466417, -1.33237885,  0.98330918,\n",
       "         1.780799  ,  2.23252161, -1.98898574, -1.55650069, -1.14300975,\n",
       "        -0.91048227,  0.11495048, -0.93061362, -0.58469244, -0.0992152 ,\n",
       "        -0.08872129]])"
      ]
     },
     "execution_count": 22,
     "metadata": {},
     "output_type": "execute_result"
    }
   ],
   "source": [
    "X = preprocessing.StandardScaler().fit(X).transform(X.astype(float))\n",
    "X[0:10]"
   ]
  },
  {
   "cell_type": "markdown",
   "id": "visible-administration",
   "metadata": {},
   "source": [
    "#### Split train-test data set"
   ]
  },
  {
   "cell_type": "code",
   "execution_count": 23,
   "id": "diverse-context",
   "metadata": {},
   "outputs": [
    {
     "name": "stdout",
     "output_type": "stream",
     "text": [
      "Shape of train data set:  (2532, 16) (2532,)\n",
      "Shape of test data set:  (634, 16) (634,)\n"
     ]
    }
   ],
   "source": [
    "train_x, test_x, train_y, test_y = train_test_split(X, y, test_size=0.2, random_state=3)\n",
    "print(\"Shape of train data set: \", train_x.shape, train_y.shape)\n",
    "print(\"Shape of test data set: \", test_x.shape, test_y.shape)"
   ]
  },
  {
   "cell_type": "markdown",
   "id": "planned-variety",
   "metadata": {},
   "source": [
    "<h2>7. Modeling</h2>"
   ]
  },
  {
   "cell_type": "markdown",
   "id": "inside-drill",
   "metadata": {},
   "source": [
    "#### Random forest"
   ]
  },
  {
   "cell_type": "code",
   "execution_count": 24,
   "id": "tight-opinion",
   "metadata": {},
   "outputs": [
    {
     "name": "stdout",
     "output_type": "stream",
     "text": [
      "[0 1 0 0 1 0 0 0 0 0 1 1 1 0 0 1 0 0 1 0]\n",
      "[0 1 0 0 1 0 0 0 0 0 1 1 1 0 0 1 0 0 1 0]\n",
      "\n",
      "RandomForest Train data set's Accuracy:  0.9834123222748815\n",
      "RandomForest Test data set's Accuracy:  0.9747634069400631\n"
     ]
    }
   ],
   "source": [
    "myRF = RandomForestClassifier(n_estimators=100, criterion='entropy', max_depth=5, random_state=3)\n",
    "myRF.fit(train_x, train_y)\n",
    "\n",
    "# Predict\n",
    "predictRF = myRF.predict(test_x)\n",
    "print(predictRF[0:20])\n",
    "print(test_y[0:20])\n",
    "print()\n",
    "\n",
    "# Evaluation\n",
    "trainACS_RF = metrics.accuracy_score(train_y,  myRF.predict(train_x))\n",
    "testACS_RF = metrics.accuracy_score(test_y,  predictRF)\n",
    "print(\"RandomForest Train data set's Accuracy: \", trainACS_RF)\n",
    "print(\"RandomForest Test data set's Accuracy: \", testACS_RF)"
   ]
  },
  {
   "cell_type": "markdown",
   "id": "heavy-perry",
   "metadata": {},
   "source": [
    "#### KNN with K = 4"
   ]
  },
  {
   "cell_type": "code",
   "execution_count": 25,
   "id": "guilty-trouble",
   "metadata": {},
   "outputs": [
    {
     "name": "stdout",
     "output_type": "stream",
     "text": [
      "[0 1 0 0 1 0 0 0 0 0 1 1 1 0 0 1 0 1 1 0]\n",
      "[0 1 0 0 1 0 0 0 0 0 1 1 1 0 0 1 0 0 1 0]\n",
      "\n",
      "KNN Train data set's Accuracy (K=4):  0.985781990521327\n",
      "KNN Test data set's Accuracy (K=4):  0.9810725552050473\n"
     ]
    }
   ],
   "source": [
    "myKNN_1 = KNeighborsClassifier(n_neighbors=4)\n",
    "myKNN_1.fit(train_x, train_y)\n",
    "\n",
    "# Predict\n",
    "predictKNN_1 = myKNN_1.predict(test_x)\n",
    "print(predictKNN_1[0:20])\n",
    "print(test_y[0:20])\n",
    "print()\n",
    "\n",
    "# Evaluation\n",
    "trainACS_KNN_1 = metrics.accuracy_score(train_y,  myKNN_1.predict(train_x))\n",
    "testACS_KNN_1 = metrics.accuracy_score(test_y,  predictKNN_1)\n",
    "\n",
    "print(\"KNN Train data set's Accuracy (K=4): \", trainACS_KNN_1)\n",
    "print(\"KNN Test data set's Accuracy (K=4): \", testACS_KNN_1)"
   ]
  },
  {
   "cell_type": "markdown",
   "id": "limiting-trash",
   "metadata": {},
   "source": [
    "#### KNN with K = 5"
   ]
  },
  {
   "cell_type": "code",
   "execution_count": 26,
   "id": "incoming-branch",
   "metadata": {},
   "outputs": [
    {
     "name": "stdout",
     "output_type": "stream",
     "text": [
      "[0 1 0 0 1 0 0 0 0 0 1 1 1 0 0 1 0 1 1 0]\n",
      "[0 1 0 0 1 0 0 0 0 0 1 1 1 0 0 1 0 0 1 0]\n",
      "\n",
      "KNN Train data set's Accuracy (K=5):  0.9861769352290679\n",
      "KNN Test data set's Accuracy (K=5):  0.973186119873817\n"
     ]
    }
   ],
   "source": [
    "myKNN_2 = KNeighborsClassifier(n_neighbors=5)\n",
    "myKNN_2.fit(train_x, train_y)\n",
    "\n",
    "# Predict\n",
    "predictKNN_2 = myKNN_2.predict(test_x)\n",
    "print(predictKNN_2[0:20])\n",
    "print(test_y[0:20])\n",
    "print()\n",
    "\n",
    "# Evaluation\n",
    "trainACS_KNN_2 = metrics.accuracy_score(train_y,  myKNN_2.predict(train_x))\n",
    "testACS_KNN_2 = metrics.accuracy_score(test_y,  predictKNN_2)\n",
    "\n",
    "print(\"KNN Train data set's Accuracy (K=5): \", trainACS_KNN_2)\n",
    "print(\"KNN Test data set's Accuracy (K=5): \", testACS_KNN_2)"
   ]
  },
  {
   "cell_type": "markdown",
   "id": "endless-utility",
   "metadata": {},
   "source": [
    "#### KNN with K = 6"
   ]
  },
  {
   "cell_type": "code",
   "execution_count": 27,
   "id": "complicated-gates",
   "metadata": {},
   "outputs": [
    {
     "name": "stdout",
     "output_type": "stream",
     "text": [
      "[0 1 0 0 1 0 0 0 0 0 1 1 1 0 0 1 0 1 1 0]\n",
      "[0 1 0 0 1 0 0 0 0 0 1 1 1 0 0 1 0 0 1 0]\n",
      "\n",
      "KNN Train data set's Accuracy (K=6):  0.9826224328593997\n",
      "KNN Test data set's Accuracy (K=6):  0.9700315457413249\n"
     ]
    }
   ],
   "source": [
    "myKNN_3 = KNeighborsClassifier(n_neighbors=6)\n",
    "myKNN_3.fit(train_x, train_y)\n",
    "\n",
    "# Predict\n",
    "predictKNN_3 = myKNN_3.predict(test_x)\n",
    "print(predictKNN_3[0:20])\n",
    "print(test_y[0:20])\n",
    "print()\n",
    "\n",
    "# Evaluation\n",
    "trainACS_KNN_3 = metrics.accuracy_score(train_y,  myKNN_3.predict(train_x))\n",
    "testACS_KNN_3 = metrics.accuracy_score(test_y,  predictKNN_3)\n",
    "\n",
    "print(\"KNN Train data set's Accuracy (K=6): \", trainACS_KNN_3)\n",
    "print(\"KNN Test data set's Accuracy (K=6): \", testACS_KNN_3)"
   ]
  },
  {
   "cell_type": "markdown",
   "id": "thrown-carry",
   "metadata": {},
   "source": [
    "#### Naive-Bayes"
   ]
  },
  {
   "cell_type": "code",
   "execution_count": 28,
   "id": "soviet-hobby",
   "metadata": {},
   "outputs": [
    {
     "name": "stdout",
     "output_type": "stream",
     "text": [
      "[0 1 0 0 1 0 0 0 1 0 1 1 1 0 0 1 0 1 1 0]\n",
      "[0 1 0 0 1 0 0 0 0 0 1 1 1 0 0 1 0 0 1 0]\n",
      "\n",
      "Naive-Bayes Train data set's Accuracy:  0.910347551342812\n",
      "Naive-Bayes Test data set's Accuracy:  0.9069400630914827\n"
     ]
    }
   ],
   "source": [
    "myNB = GaussianNB()\n",
    "myNB.fit(train_x, train_y)\n",
    "\n",
    "# Predict\n",
    "predictNB = myNB.predict(test_x)\n",
    "print(predictNB[0:20])\n",
    "print(test_y[0:20])\n",
    "print()\n",
    "\n",
    "# Evaluation\n",
    "trainACS_NB = metrics.accuracy_score(train_y,  myNB.predict(train_x))\n",
    "testACS_NB = metrics.accuracy_score(test_y,  predictNB)\n",
    "\n",
    "print(\"Naive-Bayes Train data set's Accuracy: \", trainACS_NB)\n",
    "print(\"Naive-Bayes Test data set's Accuracy: \", testACS_NB)"
   ]
  },
  {
   "cell_type": "markdown",
   "id": "directed-correspondence",
   "metadata": {},
   "source": [
    "#### Perceptron"
   ]
  },
  {
   "cell_type": "code",
   "execution_count": 29,
   "id": "signal-platform",
   "metadata": {},
   "outputs": [
    {
     "name": "stdout",
     "output_type": "stream",
     "text": [
      "[0 1 0 0 0 0 0 0 0 0 1 1 1 0 0 1 0 0 1 0]\n",
      "[0 1 0 0 1 0 0 0 0 0 1 1 1 0 0 1 0 0 1 0]\n",
      "\n",
      "Perceptron Train data set's Accuracy:  0.9565560821484992\n",
      "Perceptron Test data set's Accuracy:  0.9589905362776026\n"
     ]
    }
   ],
   "source": [
    "myPerceptron = Perceptron(tol=1e-3, random_state=3)\n",
    "myPerceptron.fit(train_x, train_y)\n",
    "\n",
    "# Predict\n",
    "predictPerceptron = myPerceptron.predict(test_x)\n",
    "print(predictPerceptron[0:20])\n",
    "print(test_y[0:20])\n",
    "print()\n",
    "\n",
    "# Evaluation\n",
    "trainACS_Perceptron = metrics.accuracy_score(train_y,  myPerceptron.predict(train_x))\n",
    "testACS_Perceptron = metrics.accuracy_score(test_y,  predictPerceptron)\n",
    "\n",
    "print(\"Perceptron Train data set's Accuracy: \", trainACS_Perceptron)\n",
    "print(\"Perceptron Test data set's Accuracy: \", testACS_Perceptron)"
   ]
  },
  {
   "cell_type": "markdown",
   "id": "federal-satellite",
   "metadata": {},
   "source": [
    "#### Logistic regression"
   ]
  },
  {
   "cell_type": "code",
   "execution_count": 30,
   "id": "signal-quebec",
   "metadata": {},
   "outputs": [
    {
     "name": "stdout",
     "output_type": "stream",
     "text": [
      "[0 1 0 0 1 0 0 0 0 0 1 1 1 0 0 1 0 0 1 0]\n",
      "[0 1 0 0 1 0 0 0 0 0 1 1 1 0 0 1 0 0 1 0]\n",
      "\n",
      "LogisticRegression Train data set's Accuracy:  0.9751184834123223\n",
      "LogisticRegression Test data set's Accuracy:  0.973186119873817\n"
     ]
    }
   ],
   "source": [
    "myLR = LogisticRegression(solver='liblinear')\n",
    "myLR.fit(train_x, train_y)\n",
    "\n",
    "# Predict\n",
    "predictLR = myLR.predict(test_x)\n",
    "print(predictLR[0:20])\n",
    "print(test_y[0:20])\n",
    "print()\n",
    "\n",
    "# Evaluation\n",
    "trainACS_LR = metrics.accuracy_score(train_y,  myLR.predict(train_x))\n",
    "testACS_LR =  metrics.accuracy_score(test_y,  predictLR)\n",
    "\n",
    "print(\"LogisticRegression Train data set's Accuracy: \", trainACS_LR)\n",
    "print(\"LogisticRegression Test data set's Accuracy: \", testACS_LR)"
   ]
  },
  {
   "cell_type": "markdown",
   "id": "fuzzy-vancouver",
   "metadata": {},
   "source": [
    "#### SVM"
   ]
  },
  {
   "cell_type": "code",
   "execution_count": 31,
   "id": "still-proxy",
   "metadata": {},
   "outputs": [
    {
     "name": "stdout",
     "output_type": "stream",
     "text": [
      "[0 1 0 0 1 0 0 0 0 0 1 1 1 0 0 1 0 0 1 0]\n",
      "[0 1 0 0 1 0 0 0 0 0 1 1 1 0 0 1 0 0 1 0]\n",
      "\n",
      "SVM Train data set's Accuracy:  0.9845971563981043\n",
      "SVM Test data set's Accuracy:  0.9810725552050473\n"
     ]
    }
   ],
   "source": [
    "mySVM = svm.SVC(kernel='rbf')\n",
    "mySVM.fit(train_x, train_y)\n",
    "\n",
    "# Predict\n",
    "predictSVM = mySVM.predict(test_x)\n",
    "print(predictSVM[0:20])\n",
    "print(test_y[0:20])\n",
    "print()\n",
    "\n",
    "# Evaluation\n",
    "trainACS_SVM = metrics.accuracy_score(train_y,  mySVM.predict(train_x))\n",
    "testACS_SVM =  metrics.accuracy_score(test_y,  predictSVM)\n",
    "\n",
    "print(\"SVM Train data set's Accuracy: \", trainACS_SVM)\n",
    "print(\"SVM Test data set's Accuracy: \", testACS_SVM)"
   ]
  },
  {
   "cell_type": "markdown",
   "id": "objective-buyer",
   "metadata": {},
   "source": [
    "<h2>8. Ranking model's accuracy_score</h2>"
   ]
  },
  {
   "cell_type": "markdown",
   "id": "union-speaking",
   "metadata": {},
   "source": [
    "#### Train data set's accuracy score"
   ]
  },
  {
   "cell_type": "code",
   "execution_count": 32,
   "id": "younger-serum",
   "metadata": {},
   "outputs": [
    {
     "data": {
      "image/png": "[encoded data removed]",
      "text/plain": [
       "<Figure size 720x432 with 1 Axes>"
      ]
     },
     "metadata": {
      "needs_background": "light"
     },
     "output_type": "display_data"
    }
   ],
   "source": [
    "indexs = [\"Random forest\", \"KNN (K=4)\", \"KNN (K=5)\", \"KNN (K=6)\", \"Naive-Bayes\", \"Perceptron\", \"Logistic Regression\", \"SVM\"]\n",
    "accTrain = pd.DataFrame({\"Accuracy_Score\": [trainACS_RF, trainACS_KNN_1, trainACS_KNN_2, trainACS_KNN_3, trainACS_NB, trainACS_Perceptron, trainACS_LR, trainACS_SVM]}, index=indexs)\n",
    "accTrain = accTrain[['Accuracy_Score']].sort_values(by=['Accuracy_Score'], axis=0, ascending=False, inplace=False)\n",
    "\n",
    "# Bar plot\n",
    "bar_values, bar_indexs = accTrain['Accuracy_Score'].values, accTrain.index\n",
    "plt.figure(figsize=(10,6))\n",
    "ax = sn.barplot(x=bar_values, y=bar_indexs)\n",
    "for i, v in enumerate(bar_values):\n",
    "    ax.text(v, i, str(v), color='blue', fontweight='bold')\n",
    "plt.show()"
   ]
  },
  {
   "cell_type": "markdown",
   "id": "detected-internet",
   "metadata": {},
   "source": [
    "#### Test data set's accuracy score"
   ]
  },
  {
   "cell_type": "code",
   "execution_count": 33,
   "id": "deadly-excellence",
   "metadata": {},
   "outputs": [
    {
     "data": {
      "image/png": "[encoded data removed]",
      "text/plain": [
       "<Figure size 720x432 with 1 Axes>"
      ]
     },
     "metadata": {
      "needs_background": "light"
     },
     "output_type": "display_data"
    }
   ],
   "source": [
    "indexs = [\"Random forest\", \"KNN (K=4)\", \"KNN (K=5)\", \"KNN (K=6)\", \"Naive-Bayes\", \"Perceptron\", \"Logistic Regression\", \"SVM\"]\n",
    "accTest = pd.DataFrame({\"Accuracy_Score\": [testACS_RF, testACS_KNN_1, testACS_KNN_2, testACS_KNN_3, testACS_NB, testACS_Perceptron, testACS_LR, testACS_SVM]}, index=indexs)\n",
    "accTest = accTest[['Accuracy_Score']].sort_values(by=['Accuracy_Score'], axis=0, ascending=False, inplace=False)\n",
    "\n",
    "# Bar plot\n",
    "bar_values, bar_indexs = accTest['Accuracy_Score'].values, accTest.index\n",
    "plt.figure(figsize=(10,6))\n",
    "ax = sn.barplot(x=bar_values, y=bar_indexs)\n",
    "for i, v in enumerate(bar_values):\n",
    "    ax.text(v, i, str(v), color='blue', fontweight='bold')\n",
    "plt.show()"
   ]
  },
  {
   "cell_type": "markdown",
   "id": "northern-uganda",
   "metadata": {},
   "source": [
    "#### -> Select SVM and KNN (K=4) to evaluate by confusion matrix"
   ]
  },
  {
   "cell_type": "markdown",
   "id": "alien-tactics",
   "metadata": {},
   "source": [
    "<h2>9. Using confusion matrix to evaluate model</h2>"
   ]
  },
  {
   "cell_type": "code",
   "execution_count": 34,
   "id": "checked-mentor",
   "metadata": {},
   "outputs": [],
   "source": [
    "# Confusion matrix function\n",
    "def plot_confusion_matrix(cm, classes, normalize=False, title='Confusion matrix', cmap=plt.cm.Blues):\n",
    "    if normalize:\n",
    "        cm = cm.astype('float') / cm.sum(axis=1)[:, np.newaxis]\n",
    "        print(\"Normalized confusion matrix\")\n",
    "    else:\n",
    "        print('Confusion matrix, without normalization')\n",
    "\n",
    "    print(cm)\n",
    "\n",
    "    plt.imshow(cm, interpolation='nearest', cmap=cmap)\n",
    "    plt.title(title)\n",
    "    plt.colorbar()\n",
    "    tick_marks = np.arange(len(classes))\n",
    "    plt.xticks(tick_marks, classes, rotation=45)\n",
    "    plt.yticks(tick_marks, classes)\n",
    "\n",
    "    fmt = '.2f' if normalize else 'd'\n",
    "    thresh = cm.max() / 2.\n",
    "    for i, j in itertools.product(range(cm.shape[0]), range(cm.shape[1])):\n",
    "        plt.text(j, i, format(cm[i, j], fmt),\n",
    "                 horizontalalignment=\"center\",\n",
    "                 color=\"white\" if cm[i, j] > thresh else \"black\")\n",
    "\n",
    "    plt.tight_layout()\n",
    "    plt.ylabel('True label')\n",
    "    plt.xlabel('Predicted label')\n",
    "    plt.show()"
   ]
  },
  {
   "cell_type": "markdown",
   "id": "atlantic-retrieval",
   "metadata": {},
   "source": [
    "#### KNN with K = 4"
   ]
  },
  {
   "cell_type": "code",
   "execution_count": 35,
   "id": "million-airfare",
   "metadata": {},
   "outputs": [
    {
     "name": "stdout",
     "output_type": "stream",
     "text": [
      "Normalized confusion matrix\n",
      "[[0.98 0.02]\n",
      " [0.02 0.98]]\n"
     ]
    },
    {
     "data": {
      "image/png": "[encoded data removed]",
      "text/plain": [
       "<Figure size 432x288 with 2 Axes>"
      ]
     },
     "metadata": {
      "needs_background": "light"
     },
     "output_type": "display_data"
    }
   ],
   "source": [
    "# Compute confusion matrix\n",
    "cnf_matrix = confusion_matrix(test_y, predictKNN_1, labels=[1,0])\n",
    "np.set_printoptions(precision=2)\n",
    "plt.figure()\n",
    "plot_confusion_matrix(cnf_matrix, classes=['male', 'female'], normalize=True,  title='Confusion matrix')"
   ]
  },
  {
   "cell_type": "markdown",
   "id": "working-grammar",
   "metadata": {},
   "source": [
    "#### SVM"
   ]
  },
  {
   "cell_type": "code",
   "execution_count": 36,
   "id": "refined-density",
   "metadata": {},
   "outputs": [
    {
     "name": "stdout",
     "output_type": "stream",
     "text": [
      "Normalized confusion matrix\n",
      "[[0.97 0.03]\n",
      " [0.01 0.99]]\n"
     ]
    },
    {
     "data": {
      "image/png": "[encoded data removed]",
      "text/plain": [
       "<Figure size 432x288 with 2 Axes>"
      ]
     },
     "metadata": {
      "needs_background": "light"
     },
     "output_type": "display_data"
    }
   ],
   "source": [
    "# Compute confusion matrix\n",
    "cnf_matrix = confusion_matrix(test_y, predictSVM, labels=[1,0])\n",
    "np.set_printoptions(precision=2)\n",
    "plt.figure()\n",
    "plot_confusion_matrix(cnf_matrix, classes=['male', 'female'], normalize=True,  title='Confusion matrix')"
   ]
  },
  {
   "cell_type": "markdown",
   "id": "backed-ordering",
   "metadata": {},
   "source": [
    "#### -> Choose KNN (K=4) to save model and deploy"
   ]
  },
  {
   "cell_type": "markdown",
   "id": "hybrid-porcelain",
   "metadata": {},
   "source": [
    "<h2>10. Save model</h2>"
   ]
  },
  {
   "cell_type": "code",
   "execution_count": 121,
   "id": "disturbed-tomorrow",
   "metadata": {},
   "outputs": [],
   "source": [
    "import pickle \n",
    "\n",
    "knnPickle = open('myModelFile', 'wb') \n",
    "\n",
    "# source, destination \n",
    "pickle.dump(myKNN_1, knnPickle)                      "
   ]
  },
  {
   "cell_type": "code",
   "execution_count": 122,
   "id": "statewide-reggae",
   "metadata": {},
   "outputs": [],
   "source": [
    "# Load model\n",
    "loaded_model = pickle.load(open('myModelFile', 'rb'))"
   ]
  },
  {
   "cell_type": "code",
   "execution_count": 135,
   "id": "social-citizenship",
   "metadata": {},
   "outputs": [
    {
     "data": {
      "text/plain": [
       "array([0])"
      ]
     },
     "execution_count": 135,
     "metadata": {},
     "output_type": "execute_result"
    }
   ],
   "source": [
    "# load the model from disk\n",
    "X_test = rawData.iloc[3000].drop(['label', 'kurt', 'Q75', 'modindx', 'skew'])\n",
    "X_test = np.asanyarray(X_test.values)\n",
    "X_test = X_test.reshape((1, 16))\n",
    "\n",
    "result = loaded_model.predict(X_test)\n",
    "result"
   ]
  },
  {
   "cell_type": "code",
   "execution_count": 136,
   "id": "continued-baltimore",
   "metadata": {},
   "outputs": [
    {
     "data": {
      "text/plain": [
       "array([[0.172729706706792, 0.0638464713087431, 0.167575757575758,\n",
       "        0.140353535353535, 0.0825505050505051, 0.942913807387307,\n",
       "        0.60547508616802, 0.145656565656566, 0.172729706706792,\n",
       "        0.152388796438368, 0.0260416666666667, 0.256410256410256,\n",
       "        1.076416015625, 0.400390625, 1.7529296875, 1.3525390625]],\n",
       "      dtype=object)"
      ]
     },
     "execution_count": 136,
     "metadata": {},
     "output_type": "execute_result"
    }
   ],
   "source": [
    "X_test"
   ]
  },
  {
   "cell_type": "code",
   "execution_count": 143,
   "id": "enormous-syndication",
   "metadata": {},
   "outputs": [
    {
     "data": {
      "text/plain": [
       "array([0])"
      ]
     },
     "execution_count": 143,
     "metadata": {},
     "output_type": "execute_result"
    }
   ],
   "source": [
    "X_test_2 = np.asanyarray([0.172729706706792, 0.0638464713087431, 0.167575757575758,\n",
    "        0.140353535353535, 0.0825505050505051, 0.942913807387307,\n",
    "        0.60547508616802, 0.145656565656566, 0.172729706706792,\n",
    "        0.152388796438368, 0.0260416666666667, 0.256410256410256,\n",
    "        1.076416015625, 0.400390625, 1.7529296875, 1.3525390625], dtype='object')\n",
    "X_test_2 = X_test_2.reshape((1, 16))\n",
    "\n",
    "result = loaded_model.predict(X_test_2)\n",
    "result"
   ]
  },
  {
   "cell_type": "code",
   "execution_count": 139,
   "id": "recognized-crowd",
   "metadata": {},
   "outputs": [
    {
     "data": {
      "text/plain": [
       "array([[0.172729706706792, 0.0638464713087431, 0.167575757575758,\n",
       "        0.140353535353535, 0.0825505050505051, 0.942913807387307,\n",
       "        0.60547508616802, 0.145656565656566, 0.172729706706792,\n",
       "        0.152388796438368, 0.0260416666666667, 0.256410256410256,\n",
       "        1.076416015625, 0.400390625, 1.7529296875, 1.3525390625]],\n",
       "      dtype=object)"
      ]
     },
     "execution_count": 139,
     "metadata": {},
     "output_type": "execute_result"
    }
   ],
   "source": [
    "X_test_2."
   ]
  },
  {
   "cell_type": "code",
   "execution_count": null,
   "id": "processed-prime",
   "metadata": {},
   "outputs": [],
   "source": []
  },
  {
   "cell_type": "code",
   "execution_count": 140,
   "id": "decreased-leather",
   "metadata": {},
   "outputs": [
    {
     "data": {
      "text/plain": [
       "array([0])"
      ]
     },
     "execution_count": 140,
     "metadata": {},
     "output_type": "execute_result"
    }
   ],
   "source": [
    "res2 = myKNN_1.predict(X_test_2)\n",
    "res2"
   ]
  },
  {
   "cell_type": "code",
   "execution_count": null,
   "id": "growing-spirituality",
   "metadata": {},
   "outputs": [],
   "source": []
  },
  {
   "cell_type": "code",
   "execution_count": null,
   "id": "colonial-unemployment",
   "metadata": {},
   "outputs": [],
   "source": []
  },
  {
   "cell_type": "code",
   "execution_count": null,
   "id": "southern-bernard",
   "metadata": {},
   "outputs": [],
   "source": []
  },
  {
   "cell_type": "code",
   "execution_count": 75,
   "id": "working-equation",
   "metadata": {},
   "outputs": [
    {
     "data": {
      "text/plain": [
       "(3166, 21)"
      ]
     },
     "execution_count": 75,
     "metadata": {},
     "output_type": "execute_result"
    }
   ],
   "source": [
    "rawData.shape"
   ]
  },
  {
   "cell_type": "code",
   "execution_count": null,
   "id": "grand-cuisine",
   "metadata": {},
   "outputs": [],
   "source": []
  }
 ],
 "metadata": {
  "kernelspec": {
   "display_name": "Python 3",
   "language": "python",
   "name": "python3"
  },
  "language_info": {
   "codemirror_mode": {
    "name": "ipython",
    "version": 3
   },
   "file_extension": ".py",
   "mimetype": "text/x-python",
   "name": "python",
   "nbconvert_exporter": "python",
   "pygments_lexer": "ipython3",
   "version": "3.8.6"
  }
 },
 "nbformat": 4,
 "nbformat_minor": 5
}
