{
 "cells": [
  {
   "cell_type": "markdown",
   "id": "accepting-procedure",
   "metadata": {},
   "source": [
    "<h1 align=center>Mini Project 2</h1>"
   ]
  },
  {
   "cell_type": "markdown",
   "id": "earned-address",
   "metadata": {},
   "source": [
    "Data set: Indians Diabetes Database (Source: UCI dataset)\n",
    "\n",
    "Problem: Classify 2 class non-diabetic and diabetic"
   ]
  },
  {
   "cell_type": "markdown",
   "id": "native-charge",
   "metadata": {},
   "source": [
    "#### Attribute desciption\n",
    "\n",
    "1. Pregnant: Number of pregnant\n",
    "\n",
    "2. Glucose: Amount of glucose\n",
    "\n",
    "3. BloodPressure: Pressure of blood (mm/Hg)\n",
    "\n",
    "4. TricepsSkinThickness: Thickness of skin in triceps (mm)\n",
    "\n",
    "5. Insulin: Amount of Insulin\n",
    "\n",
    "6. BMI: weight/height^2 (kg/m^2)\n",
    "\n",
    "7. Pedigree: Probability diabetic from family\n",
    "\n",
    "8. Age: \n",
    "\n",
    "9. Diabetes: 0: non-diabetic and 1: diabetic"
   ]
  },
  {
   "cell_type": "markdown",
   "id": "hawaiian-confirmation",
   "metadata": {},
   "source": [
    "#### Import libraries"
   ]
  },
  {
   "cell_type": "code",
   "execution_count": 6,
   "id": "light-easter",
   "metadata": {},
   "outputs": [],
   "source": [
    "import pandas as pd\n",
    "import numpy as np\n",
    "import seaborn as sn\n",
    "import matplotlib.pyplot as plt\n",
    "from sklearn.model_selection import train_test_split\n",
    "from sklearn import preprocessing\n",
    "from sklearn import metrics\n",
    "from sklearn.ensemble import RandomForestClassifier\n",
    "from sklearn.neighbors import KNeighborsClassifier\n",
    "from sklearn.naive_bayes import GaussianNB\n",
    "from sklearn.linear_model import Perceptron\n",
    "from sklearn.linear_model import LogisticRegression\n",
    "from sklearn.metrics import classification_report, confusion_matrix\n",
    "import itertools"
   ]
  },
  {
   "cell_type": "markdown",
   "id": "early-novelty",
   "metadata": {},
   "source": [
    "<h2>Read data and description</h2>"
   ]
  },
  {
   "cell_type": "code",
   "execution_count": 19,
   "id": "tribal-center",
   "metadata": {},
   "outputs": [
    {
     "data": {
      "text/html": [
       "<div>\n",
       "<style scoped>\n",
       "    .dataframe tbody tr th:only-of-type {\n",
       "        vertical-align: middle;\n",
       "    }\n",
       "\n",
       "    .dataframe tbody tr th {\n",
       "        vertical-align: top;\n",
       "    }\n",
       "\n",
       "    .dataframe thead th {\n",
       "        text-align: right;\n",
       "    }\n",
       "</style>\n",
       "<table border=\"1\" class=\"dataframe\">\n",
       "  <thead>\n",
       "    <tr style=\"text-align: right;\">\n",
       "      <th></th>\n",
       "      <th>Pregnant</th>\n",
       "      <th>Glucose</th>\n",
       "      <th>BloodPressure</th>\n",
       "      <th>TricepsSkinThickness</th>\n",
       "      <th>Insulin</th>\n",
       "      <th>BMI</th>\n",
       "      <th>Pedigree</th>\n",
       "      <th>Age</th>\n",
       "      <th>Diabetes</th>\n",
       "    </tr>\n",
       "  </thead>\n",
       "  <tbody>\n",
       "    <tr>\n",
       "      <th>0</th>\n",
       "      <td>6</td>\n",
       "      <td>148</td>\n",
       "      <td>72</td>\n",
       "      <td>35</td>\n",
       "      <td>0</td>\n",
       "      <td>33.6</td>\n",
       "      <td>0.627</td>\n",
       "      <td>50</td>\n",
       "      <td>1</td>\n",
       "    </tr>\n",
       "    <tr>\n",
       "      <th>1</th>\n",
       "      <td>1</td>\n",
       "      <td>85</td>\n",
       "      <td>66</td>\n",
       "      <td>29</td>\n",
       "      <td>0</td>\n",
       "      <td>26.6</td>\n",
       "      <td>0.351</td>\n",
       "      <td>31</td>\n",
       "      <td>0</td>\n",
       "    </tr>\n",
       "    <tr>\n",
       "      <th>2</th>\n",
       "      <td>8</td>\n",
       "      <td>183</td>\n",
       "      <td>64</td>\n",
       "      <td>0</td>\n",
       "      <td>0</td>\n",
       "      <td>23.3</td>\n",
       "      <td>0.672</td>\n",
       "      <td>32</td>\n",
       "      <td>1</td>\n",
       "    </tr>\n",
       "    <tr>\n",
       "      <th>3</th>\n",
       "      <td>1</td>\n",
       "      <td>89</td>\n",
       "      <td>66</td>\n",
       "      <td>23</td>\n",
       "      <td>94</td>\n",
       "      <td>28.1</td>\n",
       "      <td>0.167</td>\n",
       "      <td>21</td>\n",
       "      <td>0</td>\n",
       "    </tr>\n",
       "    <tr>\n",
       "      <th>4</th>\n",
       "      <td>0</td>\n",
       "      <td>137</td>\n",
       "      <td>40</td>\n",
       "      <td>35</td>\n",
       "      <td>168</td>\n",
       "      <td>43.1</td>\n",
       "      <td>2.288</td>\n",
       "      <td>33</td>\n",
       "      <td>1</td>\n",
       "    </tr>\n",
       "    <tr>\n",
       "      <th>5</th>\n",
       "      <td>5</td>\n",
       "      <td>116</td>\n",
       "      <td>74</td>\n",
       "      <td>0</td>\n",
       "      <td>0</td>\n",
       "      <td>25.6</td>\n",
       "      <td>0.201</td>\n",
       "      <td>30</td>\n",
       "      <td>0</td>\n",
       "    </tr>\n",
       "    <tr>\n",
       "      <th>6</th>\n",
       "      <td>3</td>\n",
       "      <td>78</td>\n",
       "      <td>50</td>\n",
       "      <td>32</td>\n",
       "      <td>88</td>\n",
       "      <td>31.0</td>\n",
       "      <td>0.248</td>\n",
       "      <td>26</td>\n",
       "      <td>1</td>\n",
       "    </tr>\n",
       "    <tr>\n",
       "      <th>7</th>\n",
       "      <td>10</td>\n",
       "      <td>115</td>\n",
       "      <td>0</td>\n",
       "      <td>0</td>\n",
       "      <td>0</td>\n",
       "      <td>35.3</td>\n",
       "      <td>0.134</td>\n",
       "      <td>29</td>\n",
       "      <td>0</td>\n",
       "    </tr>\n",
       "    <tr>\n",
       "      <th>8</th>\n",
       "      <td>2</td>\n",
       "      <td>197</td>\n",
       "      <td>70</td>\n",
       "      <td>45</td>\n",
       "      <td>543</td>\n",
       "      <td>30.5</td>\n",
       "      <td>0.158</td>\n",
       "      <td>53</td>\n",
       "      <td>1</td>\n",
       "    </tr>\n",
       "    <tr>\n",
       "      <th>9</th>\n",
       "      <td>8</td>\n",
       "      <td>125</td>\n",
       "      <td>96</td>\n",
       "      <td>0</td>\n",
       "      <td>0</td>\n",
       "      <td>0.0</td>\n",
       "      <td>0.232</td>\n",
       "      <td>54</td>\n",
       "      <td>1</td>\n",
       "    </tr>\n",
       "  </tbody>\n",
       "</table>\n",
       "</div>"
      ],
      "text/plain": [
       "   Pregnant  Glucose  BloodPressure  TricepsSkinThickness  Insulin   BMI  \\\n",
       "0         6      148             72                    35        0  33.6   \n",
       "1         1       85             66                    29        0  26.6   \n",
       "2         8      183             64                     0        0  23.3   \n",
       "3         1       89             66                    23       94  28.1   \n",
       "4         0      137             40                    35      168  43.1   \n",
       "5         5      116             74                     0        0  25.6   \n",
       "6         3       78             50                    32       88  31.0   \n",
       "7        10      115              0                     0        0  35.3   \n",
       "8         2      197             70                    45      543  30.5   \n",
       "9         8      125             96                     0        0   0.0   \n",
       "\n",
       "   Pedigree  Age  Diabetes  \n",
       "0     0.627   50         1  \n",
       "1     0.351   31         0  \n",
       "2     0.672   32         1  \n",
       "3     0.167   21         0  \n",
       "4     2.288   33         1  \n",
       "5     0.201   30         0  \n",
       "6     0.248   26         1  \n",
       "7     0.134   29         0  \n",
       "8     0.158   53         1  \n",
       "9     0.232   54         1  "
      ]
     },
     "execution_count": 19,
     "metadata": {},
     "output_type": "execute_result"
    }
   ],
   "source": [
    "myData = pd.read_csv(\"Diabets.csv\")\n",
    "myData.head(10)"
   ]
  },
  {
   "cell_type": "code",
   "execution_count": 20,
   "id": "personalized-canberra",
   "metadata": {},
   "outputs": [
    {
     "data": {
      "text/plain": [
       "Index(['Pregnant', 'Glucose', 'BloodPressure', 'TricepsSkinThickness',\n",
       "       'Insulin', 'BMI', 'Pedigree', 'Age', 'Diabetes'],\n",
       "      dtype='object')"
      ]
     },
     "execution_count": 20,
     "metadata": {},
     "output_type": "execute_result"
    }
   ],
   "source": [
    "myData.keys()"
   ]
  },
  {
   "cell_type": "code",
   "execution_count": 9,
   "id": "ready-reproduction",
   "metadata": {},
   "outputs": [
    {
     "data": {
      "text/plain": [
       "(768, 9)"
      ]
     },
     "execution_count": 9,
     "metadata": {},
     "output_type": "execute_result"
    }
   ],
   "source": [
    "myData.shape"
   ]
  },
  {
   "cell_type": "code",
   "execution_count": 21,
   "id": "reasonable-cable",
   "metadata": {},
   "outputs": [
    {
     "name": "stdout",
     "output_type": "stream",
     "text": [
      "<class 'pandas.core.frame.DataFrame'>\n",
      "RangeIndex: 768 entries, 0 to 767\n",
      "Data columns (total 9 columns):\n",
      " #   Column                Non-Null Count  Dtype  \n",
      "---  ------                --------------  -----  \n",
      " 0   Pregnant              768 non-null    int64  \n",
      " 1   Glucose               768 non-null    int64  \n",
      " 2   BloodPressure         768 non-null    int64  \n",
      " 3   TricepsSkinThickness  768 non-null    int64  \n",
      " 4   Insulin               768 non-null    int64  \n",
      " 5   BMI                   768 non-null    float64\n",
      " 6   Pedigree              768 non-null    float64\n",
      " 7   Age                   768 non-null    int64  \n",
      " 8   Diabetes              768 non-null    int64  \n",
      "dtypes: float64(2), int64(7)\n",
      "memory usage: 54.1 KB\n"
     ]
    }
   ],
   "source": [
    "myData.info()"
   ]
  },
  {
   "cell_type": "markdown",
   "id": "adaptive-requirement",
   "metadata": {},
   "source": [
    "<h2>Data exploration</h2>"
   ]
  },
  {
   "cell_type": "code",
   "execution_count": 22,
   "id": "running-alert",
   "metadata": {},
   "outputs": [
    {
     "name": "stdout",
     "output_type": "stream",
     "text": [
      "Glucose = 0:  (5, 9)\n",
      "BloodPressure = 0:  (35, 9)\n",
      "TricepsSkinThickness = 0:  (227, 9)\n",
      "Insulin = 0:  (374, 9)\n",
      "BMI = 0:  (11, 9)\n",
      "Pedigree = 0:  (0, 9)\n"
     ]
    }
   ],
   "source": [
    "# Check value = 0\n",
    "print(\"Glucose = 0: \", myData[myData['Glucose'] == 0].shape)\n",
    "print(\"BloodPressure = 0: \", myData[myData['BloodPressure'] == 0].shape)\n",
    "print(\"TricepsSkinThickness = 0: \", myData[myData['TricepsSkinThickness'] == 0].shape)\n",
    "print(\"Insulin = 0: \", myData[myData['Insulin'] == 0].shape)\n",
    "print(\"BMI = 0: \", myData[myData['BMI'] == 0].shape)\n",
    "print(\"Pedigree = 0: \", myData[myData['Pedigree'] == 0].shape)"
   ]
  },
  {
   "cell_type": "code",
   "execution_count": 23,
   "id": "dominant-boulder",
   "metadata": {},
   "outputs": [
    {
     "data": {
      "text/html": [
       "<div>\n",
       "<style scoped>\n",
       "    .dataframe tbody tr th:only-of-type {\n",
       "        vertical-align: middle;\n",
       "    }\n",
       "\n",
       "    .dataframe tbody tr th {\n",
       "        vertical-align: top;\n",
       "    }\n",
       "\n",
       "    .dataframe thead th {\n",
       "        text-align: right;\n",
       "    }\n",
       "</style>\n",
       "<table border=\"1\" class=\"dataframe\">\n",
       "  <thead>\n",
       "    <tr style=\"text-align: right;\">\n",
       "      <th></th>\n",
       "      <th>Pregnant</th>\n",
       "      <th>Glucose</th>\n",
       "      <th>BloodPressure</th>\n",
       "      <th>TricepsSkinThickness</th>\n",
       "      <th>Insulin</th>\n",
       "      <th>BMI</th>\n",
       "      <th>Pedigree</th>\n",
       "      <th>Age</th>\n",
       "      <th>Diabetes</th>\n",
       "    </tr>\n",
       "  </thead>\n",
       "  <tbody>\n",
       "    <tr>\n",
       "      <th>0</th>\n",
       "      <td>6</td>\n",
       "      <td>148</td>\n",
       "      <td>72</td>\n",
       "      <td>35</td>\n",
       "      <td>80</td>\n",
       "      <td>33.6</td>\n",
       "      <td>0.627</td>\n",
       "      <td>50</td>\n",
       "      <td>1</td>\n",
       "    </tr>\n",
       "    <tr>\n",
       "      <th>1</th>\n",
       "      <td>1</td>\n",
       "      <td>85</td>\n",
       "      <td>66</td>\n",
       "      <td>29</td>\n",
       "      <td>80</td>\n",
       "      <td>26.6</td>\n",
       "      <td>0.351</td>\n",
       "      <td>31</td>\n",
       "      <td>0</td>\n",
       "    </tr>\n",
       "    <tr>\n",
       "      <th>2</th>\n",
       "      <td>8</td>\n",
       "      <td>183</td>\n",
       "      <td>64</td>\n",
       "      <td>21</td>\n",
       "      <td>80</td>\n",
       "      <td>23.3</td>\n",
       "      <td>0.672</td>\n",
       "      <td>32</td>\n",
       "      <td>1</td>\n",
       "    </tr>\n",
       "    <tr>\n",
       "      <th>3</th>\n",
       "      <td>1</td>\n",
       "      <td>89</td>\n",
       "      <td>66</td>\n",
       "      <td>23</td>\n",
       "      <td>94</td>\n",
       "      <td>28.1</td>\n",
       "      <td>0.167</td>\n",
       "      <td>21</td>\n",
       "      <td>0</td>\n",
       "    </tr>\n",
       "    <tr>\n",
       "      <th>4</th>\n",
       "      <td>0</td>\n",
       "      <td>137</td>\n",
       "      <td>40</td>\n",
       "      <td>35</td>\n",
       "      <td>168</td>\n",
       "      <td>43.1</td>\n",
       "      <td>2.288</td>\n",
       "      <td>33</td>\n",
       "      <td>1</td>\n",
       "    </tr>\n",
       "    <tr>\n",
       "      <th>5</th>\n",
       "      <td>5</td>\n",
       "      <td>116</td>\n",
       "      <td>74</td>\n",
       "      <td>21</td>\n",
       "      <td>80</td>\n",
       "      <td>25.6</td>\n",
       "      <td>0.201</td>\n",
       "      <td>30</td>\n",
       "      <td>0</td>\n",
       "    </tr>\n",
       "    <tr>\n",
       "      <th>6</th>\n",
       "      <td>3</td>\n",
       "      <td>78</td>\n",
       "      <td>50</td>\n",
       "      <td>32</td>\n",
       "      <td>88</td>\n",
       "      <td>31.0</td>\n",
       "      <td>0.248</td>\n",
       "      <td>26</td>\n",
       "      <td>1</td>\n",
       "    </tr>\n",
       "    <tr>\n",
       "      <th>7</th>\n",
       "      <td>10</td>\n",
       "      <td>115</td>\n",
       "      <td>69</td>\n",
       "      <td>21</td>\n",
       "      <td>80</td>\n",
       "      <td>35.3</td>\n",
       "      <td>0.134</td>\n",
       "      <td>29</td>\n",
       "      <td>0</td>\n",
       "    </tr>\n",
       "    <tr>\n",
       "      <th>8</th>\n",
       "      <td>2</td>\n",
       "      <td>197</td>\n",
       "      <td>70</td>\n",
       "      <td>45</td>\n",
       "      <td>543</td>\n",
       "      <td>30.5</td>\n",
       "      <td>0.158</td>\n",
       "      <td>53</td>\n",
       "      <td>1</td>\n",
       "    </tr>\n",
       "    <tr>\n",
       "      <th>9</th>\n",
       "      <td>8</td>\n",
       "      <td>125</td>\n",
       "      <td>96</td>\n",
       "      <td>21</td>\n",
       "      <td>80</td>\n",
       "      <td>32.0</td>\n",
       "      <td>0.232</td>\n",
       "      <td>54</td>\n",
       "      <td>1</td>\n",
       "    </tr>\n",
       "  </tbody>\n",
       "</table>\n",
       "</div>"
      ],
      "text/plain": [
       "   Pregnant  Glucose  BloodPressure  TricepsSkinThickness  Insulin   BMI  \\\n",
       "0         6      148             72                    35       80  33.6   \n",
       "1         1       85             66                    29       80  26.6   \n",
       "2         8      183             64                    21       80  23.3   \n",
       "3         1       89             66                    23       94  28.1   \n",
       "4         0      137             40                    35      168  43.1   \n",
       "5         5      116             74                    21       80  25.6   \n",
       "6         3       78             50                    32       88  31.0   \n",
       "7        10      115             69                    21       80  35.3   \n",
       "8         2      197             70                    45      543  30.5   \n",
       "9         8      125             96                    21       80  32.0   \n",
       "\n",
       "   Pedigree  Age  Diabetes  \n",
       "0     0.627   50         1  \n",
       "1     0.351   31         0  \n",
       "2     0.672   32         1  \n",
       "3     0.167   21         0  \n",
       "4     2.288   33         1  \n",
       "5     0.201   30         0  \n",
       "6     0.248   26         1  \n",
       "7     0.134   29         0  \n",
       "8     0.158   53         1  \n",
       "9     0.232   54         1  "
      ]
     },
     "execution_count": 23,
     "metadata": {},
     "output_type": "execute_result"
    }
   ],
   "source": [
    "# Replace value = 0 by mean\n",
    "myData[['Glucose', 'BloodPressure', 'TricepsSkinThickness', 'Insulin', 'BMI']] = \\\n",
    "    myData[['Glucose', 'BloodPressure', 'TricepsSkinThickness', 'Insulin', 'BMI']].\\\n",
    "        replace(to_replace=0, value=round(myData[['Glucose', 'BloodPressure',\n",
    "                                                      'TricepsSkinThickness', 'Insulin', 'BMI']].mean()))\n",
    "\n",
    "myData.head(10)"
   ]
  },
  {
   "cell_type": "code",
   "execution_count": 24,
   "id": "duplicate-preliminary",
   "metadata": {},
   "outputs": [
    {
     "name": "stdout",
     "output_type": "stream",
     "text": [
      "Diabetes:  [268]\n",
      "Non_diabetes:  [500]\n"
     ]
    },
    {
     "data": {
      "image/png": "[encoded data removed]",
      "text/plain": [
       "<Figure size 432x288 with 1 Axes>"
      ]
     },
     "metadata": {},
     "output_type": "display_data"
    }
   ],
   "source": [
    "# Proportion of each class using pie chart\n",
    "\n",
    "outcome = myData[['Diabetes']]\n",
    "diabetes = outcome.loc[outcome.Diabetes == 1].count()\n",
    "non_diabetes = outcome.loc[outcome.Diabetes == 0].count()\n",
    "print(\"Diabetes: \", diabetes.values)\n",
    "print(\"Non_diabetes: \", non_diabetes.values)\n",
    "\n",
    "values = []\n",
    "values.append(non_diabetes.values[0])\n",
    "values.append(diabetes.values[0])\n",
    "labels = ['Non-diabetes', 'Diabetes']\n",
    "plt.pie(values, labels=labels, startangle=90, autopct='%1.2f%%')\n",
    "plt.show()"
   ]
  },
  {
   "cell_type": "markdown",
   "id": "contemporary-still",
   "metadata": {},
   "source": [
    "==> Diabetes have the larger proportion than Non-diabetes"
   ]
  },
  {
   "cell_type": "code",
   "execution_count": 25,
   "id": "false-environment",
   "metadata": {},
   "outputs": [
    {
     "name": "stdout",
     "output_type": "stream",
     "text": [
      "Pregnant                0.221898\n",
      "Glucose                 0.492911\n",
      "BloodPressure           0.162879\n",
      "TricepsSkinThickness    0.177741\n",
      "Insulin                 0.179308\n",
      "BMI                     0.312249\n",
      "Pedigree                0.173844\n",
      "Age                     0.238356\n",
      "Diabetes                1.000000\n",
      "Name: Diabetes, dtype: float64\n"
     ]
    },
    {
     "data": {
      "image/png": "[encoded data removed]",
      "text/plain": [
       "<Figure size 1080x864 with 2 Axes>"
      ]
     },
     "metadata": {
      "needs_background": "light"
     },
     "output_type": "display_data"
    }
   ],
   "source": [
    "# Calculate the relationship between each attibute using corrlation matrix\n",
    "\n",
    "df_corr = myData.corr()\n",
    "print(df_corr['Diabetes'])\n",
    "plt.figure(figsize=(15, 12))\n",
    "sn.heatmap(df_corr, xticklabels=df_corr.columns, yticklabels=df_corr.columns, annot=True)\n",
    "plt.xticks(rotation='45')\n",
    "plt.yticks(rotation='45')\n",
    "plt.show()"
   ]
  },
  {
   "cell_type": "code",
   "execution_count": 26,
   "id": "outside-ottawa",
   "metadata": {},
   "outputs": [
    {
     "name": "stdout",
     "output_type": "stream",
     "text": [
      "Pregnant                 True\n",
      "Glucose                  True\n",
      "BloodPressure           False\n",
      "TricepsSkinThickness    False\n",
      "Insulin                 False\n",
      "BMI                      True\n",
      "Pedigree                False\n",
      "Age                      True\n",
      "Diabetes                 True\n",
      "Name: Diabetes, dtype: bool\n"
     ]
    },
    {
     "data": {
      "text/html": [
       "<div>\n",
       "<style scoped>\n",
       "    .dataframe tbody tr th:only-of-type {\n",
       "        vertical-align: middle;\n",
       "    }\n",
       "\n",
       "    .dataframe tbody tr th {\n",
       "        vertical-align: top;\n",
       "    }\n",
       "\n",
       "    .dataframe thead th {\n",
       "        text-align: right;\n",
       "    }\n",
       "</style>\n",
       "<table border=\"1\" class=\"dataframe\">\n",
       "  <thead>\n",
       "    <tr style=\"text-align: right;\">\n",
       "      <th></th>\n",
       "      <th>Pregnant</th>\n",
       "      <th>Glucose</th>\n",
       "      <th>BMI</th>\n",
       "      <th>Age</th>\n",
       "      <th>Diabetes</th>\n",
       "    </tr>\n",
       "  </thead>\n",
       "  <tbody>\n",
       "    <tr>\n",
       "      <th>0</th>\n",
       "      <td>6</td>\n",
       "      <td>148</td>\n",
       "      <td>33.6</td>\n",
       "      <td>50</td>\n",
       "      <td>1</td>\n",
       "    </tr>\n",
       "    <tr>\n",
       "      <th>1</th>\n",
       "      <td>1</td>\n",
       "      <td>85</td>\n",
       "      <td>26.6</td>\n",
       "      <td>31</td>\n",
       "      <td>0</td>\n",
       "    </tr>\n",
       "    <tr>\n",
       "      <th>2</th>\n",
       "      <td>8</td>\n",
       "      <td>183</td>\n",
       "      <td>23.3</td>\n",
       "      <td>32</td>\n",
       "      <td>1</td>\n",
       "    </tr>\n",
       "    <tr>\n",
       "      <th>3</th>\n",
       "      <td>1</td>\n",
       "      <td>89</td>\n",
       "      <td>28.1</td>\n",
       "      <td>21</td>\n",
       "      <td>0</td>\n",
       "    </tr>\n",
       "    <tr>\n",
       "      <th>4</th>\n",
       "      <td>0</td>\n",
       "      <td>137</td>\n",
       "      <td>43.1</td>\n",
       "      <td>33</td>\n",
       "      <td>1</td>\n",
       "    </tr>\n",
       "    <tr>\n",
       "      <th>5</th>\n",
       "      <td>5</td>\n",
       "      <td>116</td>\n",
       "      <td>25.6</td>\n",
       "      <td>30</td>\n",
       "      <td>0</td>\n",
       "    </tr>\n",
       "    <tr>\n",
       "      <th>6</th>\n",
       "      <td>3</td>\n",
       "      <td>78</td>\n",
       "      <td>31.0</td>\n",
       "      <td>26</td>\n",
       "      <td>1</td>\n",
       "    </tr>\n",
       "    <tr>\n",
       "      <th>7</th>\n",
       "      <td>10</td>\n",
       "      <td>115</td>\n",
       "      <td>35.3</td>\n",
       "      <td>29</td>\n",
       "      <td>0</td>\n",
       "    </tr>\n",
       "    <tr>\n",
       "      <th>8</th>\n",
       "      <td>2</td>\n",
       "      <td>197</td>\n",
       "      <td>30.5</td>\n",
       "      <td>53</td>\n",
       "      <td>1</td>\n",
       "    </tr>\n",
       "    <tr>\n",
       "      <th>9</th>\n",
       "      <td>8</td>\n",
       "      <td>125</td>\n",
       "      <td>32.0</td>\n",
       "      <td>54</td>\n",
       "      <td>1</td>\n",
       "    </tr>\n",
       "  </tbody>\n",
       "</table>\n",
       "</div>"
      ],
      "text/plain": [
       "   Pregnant  Glucose   BMI  Age  Diabetes\n",
       "0         6      148  33.6   50         1\n",
       "1         1       85  26.6   31         0\n",
       "2         8      183  23.3   32         1\n",
       "3         1       89  28.1   21         0\n",
       "4         0      137  43.1   33         1\n",
       "5         5      116  25.6   30         0\n",
       "6         3       78  31.0   26         1\n",
       "7        10      115  35.3   29         0\n",
       "8         2      197  30.5   53         1\n",
       "9         8      125  32.0   54         1"
      ]
     },
     "execution_count": 26,
     "metadata": {},
     "output_type": "execute_result"
    }
   ],
   "source": [
    "# Remove the attributes that has the relationship with Diabetes less than 0.2\n",
    "\n",
    "col_corr = df_corr['Diabetes']\n",
    "mask = abs(col_corr) > 0.2\n",
    "print(mask)\n",
    "myData = myData.drop(axis=1, columns=np.asanyarray(myData.keys())[~mask])\n",
    "myData.head(10)"
   ]
  },
  {
   "cell_type": "code",
   "execution_count": 27,
   "id": "civilian-basis",
   "metadata": {},
   "outputs": [
    {
     "data": {
      "text/plain": [
       "(768, 5)"
      ]
     },
     "execution_count": 27,
     "metadata": {},
     "output_type": "execute_result"
    }
   ],
   "source": [
    "myData.shape"
   ]
  },
  {
   "cell_type": "code",
   "execution_count": 28,
   "id": "biological-effort",
   "metadata": {},
   "outputs": [
    {
     "name": "stdout",
     "output_type": "stream",
     "text": [
      "<class 'pandas.core.frame.DataFrame'>\n",
      "RangeIndex: 768 entries, 0 to 767\n",
      "Data columns (total 5 columns):\n",
      " #   Column    Non-Null Count  Dtype  \n",
      "---  ------    --------------  -----  \n",
      " 0   Pregnant  768 non-null    int64  \n",
      " 1   Glucose   768 non-null    int64  \n",
      " 2   BMI       768 non-null    float64\n",
      " 3   Age       768 non-null    int64  \n",
      " 4   Diabetes  768 non-null    int64  \n",
      "dtypes: float64(1), int64(4)\n",
      "memory usage: 30.1 KB\n"
     ]
    }
   ],
   "source": [
    "myData.info()"
   ]
  },
  {
   "cell_type": "markdown",
   "id": "lesser-inspection",
   "metadata": {},
   "source": [
    "<h2>Data preparation</h2>"
   ]
  },
  {
   "cell_type": "markdown",
   "id": "preliminary-scientist",
   "metadata": {},
   "source": [
    "#### Create data set X and y"
   ]
  },
  {
   "cell_type": "code",
   "execution_count": 29,
   "id": "affecting-floor",
   "metadata": {},
   "outputs": [
    {
     "data": {
      "text/plain": [
       "array([[  6. , 148. ,  33.6,  50. ],\n",
       "       [  1. ,  85. ,  26.6,  31. ],\n",
       "       [  8. , 183. ,  23.3,  32. ],\n",
       "       [  1. ,  89. ,  28.1,  21. ],\n",
       "       [  0. , 137. ,  43.1,  33. ],\n",
       "       [  5. , 116. ,  25.6,  30. ],\n",
       "       [  3. ,  78. ,  31. ,  26. ],\n",
       "       [ 10. , 115. ,  35.3,  29. ],\n",
       "       [  2. , 197. ,  30.5,  53. ],\n",
       "       [  8. , 125. ,  32. ,  54. ]])"
      ]
     },
     "execution_count": 29,
     "metadata": {},
     "output_type": "execute_result"
    }
   ],
   "source": [
    "X = myData.drop('Diabetes', axis=1).values\n",
    "X[0:10]"
   ]
  },
  {
   "cell_type": "code",
   "execution_count": 30,
   "id": "dated-librarian",
   "metadata": {},
   "outputs": [
    {
     "data": {
      "text/plain": [
       "array([1, 0, 1, 0, 1, 0, 1, 0, 1, 1], dtype=int64)"
      ]
     },
     "execution_count": 30,
     "metadata": {},
     "output_type": "execute_result"
    }
   ],
   "source": [
    "y = myData['Diabetes'].values\n",
    "y[0:10]"
   ]
  },
  {
   "cell_type": "markdown",
   "id": "hourly-photography",
   "metadata": {},
   "source": [
    "#### Normalize data"
   ]
  },
  {
   "cell_type": "code",
   "execution_count": 31,
   "id": "clean-sucking",
   "metadata": {},
   "outputs": [
    {
     "data": {
      "text/plain": [
       "array([[ 0.63994726,  0.86525364,  0.16724016,  1.4259954 ],\n",
       "       [-0.84488505, -1.20601255, -0.85155088, -0.19067191],\n",
       "       [ 1.23388019,  2.01595708, -1.33183808, -0.10558415],\n",
       "       [-0.84488505, -1.07450358, -0.63323851, -1.04154944],\n",
       "       [-1.14185152,  0.50360399,  1.54988514, -0.0204964 ],\n",
       "       [ 0.3429808 , -0.18681807, -0.99709246, -0.27575966],\n",
       "       [-0.25095213, -1.43615323, -0.21116794, -0.61611067],\n",
       "       [ 1.82781311, -0.21969531,  0.41466084, -0.36084741],\n",
       "       [-0.54791859,  2.47623845, -0.28393873,  1.68125866],\n",
       "       [ 1.23388019,  0.1090771 , -0.06562636,  1.76634642]])"
      ]
     },
     "execution_count": 31,
     "metadata": {},
     "output_type": "execute_result"
    }
   ],
   "source": [
    "X = preprocessing.StandardScaler().fit(X).transform(X.astype(float))\n",
    "X[0:10]"
   ]
  },
  {
   "cell_type": "markdown",
   "id": "serious-bacon",
   "metadata": {},
   "source": [
    "#### Split train-test data set"
   ]
  },
  {
   "cell_type": "code",
   "execution_count": 32,
   "id": "wicked-malpractice",
   "metadata": {},
   "outputs": [
    {
     "name": "stdout",
     "output_type": "stream",
     "text": [
      "(537, 4) (537,)\n",
      "(231, 4) (231,)\n"
     ]
    }
   ],
   "source": [
    "train_x, test_x, train_y, test_y = train_test_split(X, y, test_size=0.3, random_state=3)\n",
    "print(train_x.shape, train_y.shape)\n",
    "print(test_x.shape, test_y.shape)"
   ]
  },
  {
   "cell_type": "markdown",
   "id": "traditional-montgomery",
   "metadata": {},
   "source": [
    "<h2>Modeling</h2>"
   ]
  },
  {
   "cell_type": "markdown",
   "id": "hydraulic-cholesterol",
   "metadata": {},
   "source": [
    "#### Random forest"
   ]
  },
  {
   "cell_type": "code",
   "execution_count": 33,
   "id": "precise-reservoir",
   "metadata": {},
   "outputs": [
    {
     "name": "stdout",
     "output_type": "stream",
     "text": [
      "[0 1 0 1 0 0 0 0 0 0 0 0 0 1 0 0 0 0 1 0]\n",
      "[0 1 0 1 0 0 0 0 0 0 1 0 0 1 1 0 0 0 1 1]\n",
      "\n",
      "RandomForest Train data set's Accuracy:  0.8528864059590316\n",
      "RandomForest Test data set's Accuracy:  0.70995670995671\n"
     ]
    }
   ],
   "source": [
    "myRF = RandomForestClassifier(n_estimators=100, criterion='entropy', max_depth=5, random_state=3)\n",
    "myRF.fit(train_x, train_y)\n",
    "\n",
    "# Predict\n",
    "predictRF = myRF.predict(test_x)\n",
    "print(predictRF[0:20])\n",
    "print(test_y[0:20])\n",
    "print()\n",
    "\n",
    "# Evaluation\n",
    "print(\"RandomForest Train data set's Accuracy: \", metrics.accuracy_score(train_y,  myRF.predict(train_x)))\n",
    "print(\"RandomForest Test data set's Accuracy: \", metrics.accuracy_score(test_y,  predictRF))"
   ]
  },
  {
   "cell_type": "markdown",
   "id": "residential-hazard",
   "metadata": {},
   "source": [
    "#### KNN with K = 4"
   ]
  },
  {
   "cell_type": "code",
   "execution_count": 34,
   "id": "cosmetic-client",
   "metadata": {},
   "outputs": [
    {
     "name": "stdout",
     "output_type": "stream",
     "text": [
      "[0 1 0 1 0 1 0 0 0 0 0 0 0 0 0 0 0 0 0 0]\n",
      "[0 1 0 1 0 0 0 0 0 0 1 0 0 1 1 0 0 0 1 1]\n",
      "\n",
      "KNN Train data set's Accuracy (K=4):  0.8324022346368715\n",
      "KNN Test data set's Accuracy (K=4):  0.6666666666666666\n"
     ]
    }
   ],
   "source": [
    "myKNN = KNeighborsClassifier(n_neighbors=4)\n",
    "myKNN.fit(train_x, train_y)\n",
    "\n",
    "# Predict\n",
    "predictKNN = myKNN.predict(test_x)\n",
    "print(predictKNN[0:20])\n",
    "print(test_y[0:20])\n",
    "print()\n",
    "\n",
    "# Evaluation\n",
    "print(\"KNN Train data set's Accuracy (K=4): \", metrics.accuracy_score(train_y,  myKNN.predict(train_x)))\n",
    "print(\"KNN Test data set's Accuracy (K=4): \", metrics.accuracy_score(test_y,  predictKNN))"
   ]
  },
  {
   "cell_type": "markdown",
   "id": "neural-flash",
   "metadata": {},
   "source": [
    "#### KNN with K = 5"
   ]
  },
  {
   "cell_type": "code",
   "execution_count": 35,
   "id": "native-depth",
   "metadata": {},
   "outputs": [
    {
     "name": "stdout",
     "output_type": "stream",
     "text": [
      "[0 1 0 1 0 1 0 0 0 0 0 0 0 1 1 0 0 0 0 0]\n",
      "[0 1 0 1 0 0 0 0 0 0 1 0 0 1 1 0 0 0 1 1]\n",
      "\n",
      "KNN Train data set's Accuracy (K=5):  0.8472998137802608\n",
      "KNN Test data set's Accuracy (K=5):  0.6796536796536796\n"
     ]
    }
   ],
   "source": [
    "myKNN = KNeighborsClassifier(n_neighbors=5)\n",
    "myKNN.fit(train_x, train_y)\n",
    "\n",
    "# Predict\n",
    "predictKNN = myKNN.predict(test_x)\n",
    "print(predictKNN[0:20])\n",
    "print(test_y[0:20])\n",
    "print()\n",
    "\n",
    "# Evaluation\n",
    "print(\"KNN Train data set's Accuracy (K=5): \", metrics.accuracy_score(train_y,  myKNN.predict(train_x)))\n",
    "print(\"KNN Test data set's Accuracy (K=5): \", metrics.accuracy_score(test_y,  predictKNN))"
   ]
  },
  {
   "cell_type": "markdown",
   "id": "further-finder",
   "metadata": {},
   "source": [
    "#### KNN with K = 6"
   ]
  },
  {
   "cell_type": "code",
   "execution_count": 36,
   "id": "japanese-request",
   "metadata": {},
   "outputs": [
    {
     "name": "stdout",
     "output_type": "stream",
     "text": [
      "[0 1 0 1 0 1 0 0 0 0 0 0 0 1 0 0 0 0 0 0]\n",
      "[0 1 0 1 0 0 0 0 0 0 1 0 0 1 1 0 0 0 1 1]\n",
      "\n",
      "KNN Train data set's Accuracy (K=6):  0.8286778398510242\n",
      "KNN Test data set's Accuracy (K=6):  0.6753246753246753\n"
     ]
    }
   ],
   "source": [
    "myKNN = KNeighborsClassifier(n_neighbors=6)\n",
    "myKNN.fit(train_x, train_y)\n",
    "\n",
    "# Predict\n",
    "predictKNN = myKNN.predict(test_x)\n",
    "print(predictKNN[0:20])\n",
    "print(test_y[0:20])\n",
    "print()\n",
    "\n",
    "# Evaluation\n",
    "print(\"KNN Train data set's Accuracy (K=6): \", metrics.accuracy_score(train_y,  myKNN.predict(train_x)))\n",
    "print(\"KNN Test data set's Accuracy (K=6): \", metrics.accuracy_score(test_y,  predictKNN))"
   ]
  },
  {
   "cell_type": "markdown",
   "id": "warming-thought",
   "metadata": {},
   "source": [
    "#### Naive-Bayes"
   ]
  },
  {
   "cell_type": "code",
   "execution_count": 37,
   "id": "cordless-activation",
   "metadata": {},
   "outputs": [
    {
     "name": "stdout",
     "output_type": "stream",
     "text": [
      "[0 1 0 1 1 0 0 0 0 0 0 0 0 1 1 0 0 0 1 1]\n",
      "[0 1 0 1 0 0 0 0 0 0 1 0 0 1 1 0 0 0 1 1]\n",
      "\n",
      "Naive-Bayes Train data set's Accuracy:  0.7839851024208566\n",
      "Naive-Bayes Test data set's Accuracy:  0.7186147186147186\n"
     ]
    }
   ],
   "source": [
    "myNB = GaussianNB()\n",
    "myNB.fit(train_x, train_y)\n",
    "\n",
    "# Predict\n",
    "predictNB = myNB.predict(test_x)\n",
    "print(predictNB[0:20])\n",
    "print(test_y[0:20])\n",
    "print()\n",
    "\n",
    "# Evaluation\n",
    "print(\"Naive-Bayes Train data set's Accuracy: \", metrics.accuracy_score(train_y,  myNB.predict(train_x)))\n",
    "print(\"Naive-Bayes Test data set's Accuracy: \", metrics.accuracy_score(test_y,  predictNB))"
   ]
  },
  {
   "cell_type": "markdown",
   "id": "interim-effectiveness",
   "metadata": {},
   "source": [
    "#### Perceptron"
   ]
  },
  {
   "cell_type": "code",
   "execution_count": 38,
   "id": "veterinary-cooperative",
   "metadata": {},
   "outputs": [
    {
     "name": "stdout",
     "output_type": "stream",
     "text": [
      "[0 1 0 1 1 1 0 0 0 1 1 0 0 1 1 0 0 0 1 1]\n",
      "[0 1 0 1 0 0 0 0 0 0 1 0 0 1 1 0 0 0 1 1]\n",
      "\n",
      "Perceptron Train data set's Accuracy:  0.7728119180633147\n",
      "Perceptron Test data set's Accuracy:  0.7012987012987013\n"
     ]
    }
   ],
   "source": [
    "myPerceptron = Perceptron(tol=1e-3, random_state=3)\n",
    "myPerceptron.fit(train_x, train_y)\n",
    "\n",
    "# Predict\n",
    "predictPerceptron = myPerceptron.predict(test_x)\n",
    "print(predictPerceptron[0:20])\n",
    "print(test_y[0:20])\n",
    "print()\n",
    "\n",
    "# Evaluation\n",
    "print(\"Perceptron Train data set's Accuracy: \", metrics.accuracy_score(train_y,  myPerceptron.predict(train_x)))\n",
    "print(\"Perceptron Test data set's Accuracy: \", metrics.accuracy_score(test_y,  predictPerceptron))"
   ]
  },
  {
   "cell_type": "markdown",
   "id": "indoor-studio",
   "metadata": {},
   "source": [
    "#### Logistic Regression"
   ]
  },
  {
   "cell_type": "code",
   "execution_count": 39,
   "id": "completed-person",
   "metadata": {},
   "outputs": [
    {
     "name": "stdout",
     "output_type": "stream",
     "text": [
      "[0 1 0 1 0 1 0 0 0 0 0 0 0 1 1 0 0 0 1 1]\n",
      "[0 1 0 1 0 0 0 0 0 0 1 0 0 1 1 0 0 0 1 1]\n",
      "\n",
      "LogisticRegression Train data set's Accuracy:  0.7914338919925512\n",
      "LogisticRegression Test data set's Accuracy:  0.7272727272727273\n"
     ]
    }
   ],
   "source": [
    "myLR = LogisticRegression(solver='liblinear')\n",
    "myLR.fit(train_x, train_y)\n",
    "\n",
    "# Predict\n",
    "predictLR = myLR.predict(test_x)\n",
    "print(predictLR[0:20])\n",
    "print(test_y[0:20])\n",
    "print()\n",
    "\n",
    "# Evaluation\n",
    "print(\"LogisticRegression Train data set's Accuracy: \", metrics.accuracy_score(train_y,  myLR.predict(train_x)))\n",
    "print(\"LogisticRegression Test data set's Accuracy: \", metrics.accuracy_score(test_y,  predictLR))"
   ]
  },
  {
   "cell_type": "markdown",
   "id": "specific-cathedral",
   "metadata": {},
   "source": [
    "<h2>Conclusion:<h2>\n"
   ]
  },
  {
   "cell_type": "markdown",
   "id": "natural-terrorism",
   "metadata": {},
   "source": [
    "1. Random forest and KNN (K=5) provide the best accuracy score for the train data set with same value that is:  0.8528864059590316\n",
    "\n",
    "2. Logistic Regression provide the best accuracy score for the test data set with the value that is: 0.7229437229437229. Moreover, it has the least ability to become overfitting due to accuracy score for train data that is just 0.7272727272727273.\n",
    "\n",
    "3. Choose Logistic Regression and Random forest to check confusion matrix"
   ]
  },
  {
   "cell_type": "markdown",
   "id": "tracked-thesis",
   "metadata": {},
   "source": [
    "#### Confusion matrix"
   ]
  },
  {
   "cell_type": "code",
   "execution_count": 40,
   "id": "interpreted-kernel",
   "metadata": {},
   "outputs": [],
   "source": [
    "# Confusion matrix function\n",
    "def plot_confusion_matrix(cm, classes, normalize=False, title='Confusion matrix', cmap=plt.cm.Blues):\n",
    "    \n",
    "    if normalize:\n",
    "        cm = cm.astype('float') / cm.sum(axis=1)[:, np.newaxis]\n",
    "        print(\"Normalized confusion matrix\")\n",
    "    else:\n",
    "        print('Confusion matrix, without normalization')\n",
    "\n",
    "    print(cm)\n",
    "\n",
    "    plt.imshow(cm, interpolation='nearest', cmap=cmap)\n",
    "    plt.title(title)\n",
    "    plt.colorbar()\n",
    "    tick_marks = np.arange(len(classes))\n",
    "    plt.xticks(tick_marks, classes, rotation=45)\n",
    "    plt.yticks(tick_marks, classes)\n",
    "\n",
    "    fmt = '.2f' if normalize else 'd'\n",
    "    thresh = cm.max() / 2.\n",
    "    for i, j in itertools.product(range(cm.shape[0]), range(cm.shape[1])):\n",
    "        plt.text(j, i, format(cm[i, j], fmt),\n",
    "                 horizontalalignment=\"center\",\n",
    "                 color=\"white\" if cm[i, j] > thresh else \"black\")\n",
    "\n",
    "    plt.tight_layout()\n",
    "    plt.ylabel('True label')\n",
    "    plt.xlabel('Predicted label')\n",
    "    plt.show()"
   ]
  },
  {
   "cell_type": "code",
   "execution_count": 54,
   "id": "proved-effect",
   "metadata": {},
   "outputs": [
    {
     "name": "stdout",
     "output_type": "stream",
     "text": [
      "Confusion matrix, without normalization\n",
      "[[ 50  48]\n",
      " [ 26 107]]\n"
     ]
    },
    {
     "data": {
      "image/png": "[encoded data removed]",
      "text/plain": [
       "<Figure size 432x288 with 2 Axes>"
      ]
     },
     "metadata": {
      "needs_background": "light"
     },
     "output_type": "display_data"
    }
   ],
   "source": [
    "# KNN with K = 5\n",
    "myKNN = KNeighborsClassifier(n_neighbors=5)\n",
    "myKNN.fit(train_x, train_y)\n",
    "\n",
    "# Predict\n",
    "predictKNN = myKNN.predict(test_x)\n",
    "\n",
    "# Confusion matrix\n",
    "# print(confusion_matrix(test_y, predictKNN, labels=[1,0]))\n",
    "cnf_matrix = confusion_matrix(test_y, predictKNN, labels=[1,0])\n",
    "np.set_printoptions(precision=2)\n",
    "plt.figure()\n",
    "plot_confusion_matrix(cnf_matrix, classes=['Diabetes','Non-Diabetes'],normalize= False,  title='Confusion matrix')"
   ]
  },
  {
   "cell_type": "code",
   "execution_count": 55,
   "id": "retired-audience",
   "metadata": {},
   "outputs": [
    {
     "name": "stdout",
     "output_type": "stream",
     "text": [
      "Confusion matrix, without normalization\n",
      "[[ 53  45]\n",
      " [ 18 115]]\n"
     ]
    },
    {
     "data": {
      "image/png": "[encoded data removed]",
      "text/plain": [
       "<Figure size 432x288 with 2 Axes>"
      ]
     },
     "metadata": {
      "needs_background": "light"
     },
     "output_type": "display_data"
    }
   ],
   "source": [
    "# Logistic Regression\n",
    "myLR = LogisticRegression(solver='liblinear')\n",
    "myLR.fit(train_x, train_y)\n",
    "\n",
    "# Predict\n",
    "predictLR = myLR.predict(test_x)\n",
    "\n",
    "# Confusion matrix\n",
    "# print(confusion_matrix(test_y, predictLR, labels=[1,0]))\n",
    "cnf_matrix = confusion_matrix(test_y, predictLR, labels=[1,0])\n",
    "np.set_printoptions(precision=2)\n",
    "plt.figure()\n",
    "plot_confusion_matrix(cnf_matrix, classes=['Diabetes','Non-Diabetes'],normalize= False,  title='Confusion matrix')"
   ]
  },
  {
   "cell_type": "markdown",
   "id": "suffering-facial",
   "metadata": {},
   "source": [
    "#### Conclusion: Choose Logistic regression"
   ]
  }
 ],
 "metadata": {
  "kernelspec": {
   "display_name": "Python 3",
   "language": "python",
   "name": "python3"
  },
  "language_info": {
   "codemirror_mode": {
    "name": "ipython",
    "version": 3
   },
   "file_extension": ".py",
   "mimetype": "text/x-python",
   "name": "python",
   "nbconvert_exporter": "python",
   "pygments_lexer": "ipython3",
   "version": "3.8.6"
  }
 },
 "nbformat": 4,
 "nbformat_minor": 5
}
