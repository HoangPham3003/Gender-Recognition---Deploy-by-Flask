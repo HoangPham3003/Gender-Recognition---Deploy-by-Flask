{
 "cells": [
  {
   "cell_type": "markdown",
   "metadata": {
    "colab_type": "text",
    "id": "wgcPxtPo-clm"
   },
   "source": [
    "### **Quick test**\n",
    "Lấy thông tin về sách qua link: https://tiki.vn/sach-tieng-anh/c320?src=tree <br>\n",
    "Bao gồm tên sách, tác giả và giá"
   ]
  },
  {
   "cell_type": "code",
   "execution_count": 2,
   "metadata": {
    "colab": {},
    "colab_type": "code",
    "id": "yDntRoWRXFRJ"
   },
   "outputs": [
    {
     "name": "stdout",
     "output_type": "stream",
     "text": [
      "    Rank                    Name  Year Rating\n",
      "0      1        Nhà tù Shawshank  1994    9.2\n",
      "1      2                  Bố Già  1972    9.1\n",
      "2      3          Bố Già Phần II  1974    9.0\n",
      "3      4          Kỵ Sĩ Bóng Đêm  2008    9.0\n",
      "4      5            12 Angry Men  1957    8.9\n",
      "..   ...                     ...   ...    ...\n",
      "245  246         Sát Thủ Vô Hình  2016    8.0\n",
      "246  247  La battaglia di Algeri  1966    8.0\n",
      "247  248                Drishyam  2013    8.0\n",
      "248  249                The Help  2011    8.0\n",
      "249  250  Swades: We, the People  2004    8.0\n",
      "\n",
      "[250 rows x 4 columns]\n"
     ]
    }
   ],
   "source": [
    "from bs4 import BeautifulSoup\n",
    "import pandas as pd\n",
    "import requests\n",
    "import re\n",
    "\n",
    "def GetMovie(movie):\n",
    "    # Return rank, name, year, rating\n",
    "    rank = ''\n",
    "    name = ''\n",
    "    year = ''\n",
    "    rating = ''\n",
    "    titleColumn = movie.find(class_=\"titleColumn\")\n",
    "\n",
    "    if titleColumn is not None:\n",
    "        text = titleColumn.text.strip()\n",
    "\n",
    "        # Rank\n",
    "        listRank = re.findall(r\"(\\d{1,3})\\.\", text)\n",
    "        rank = listRank[0]\n",
    "\n",
    "        # Name\n",
    "        nameMovie = titleColumn.find(\"a\")\n",
    "        name = nameMovie.text.strip()\n",
    "\n",
    "        # Year\n",
    "        listYear = re.findall(r\"\\d{4}\", text)\n",
    "        year = listYear[0]\n",
    "\n",
    "    ratingColumn = movie.find(class_=\"ratingColumn imdbRating\")\n",
    "\n",
    "    if ratingColumn is not None:\n",
    "        rating = ratingColumn.text.strip()\n",
    "\n",
    "    return {\"Rank\": rank, \"Name\": name, \"Year\": year, \"Rating\": rating}\n",
    "\n",
    "if __name__ == '__main__':\n",
    "    url = \"https://www.imdb.com/chart/top/\"\n",
    "    response = requests.get(url)\n",
    "\n",
    "    soup = BeautifulSoup(response.text, \"html.parser\")\n",
    "    # print(soup.prettify())\n",
    "\n",
    "    movies = soup.find_all(\"tr\")\n",
    "    data = []\n",
    "    for movie in movies:\n",
    "        row = GetMovie(movie)\n",
    "        data.append(row)\n",
    "\n",
    "    data.pop(0)\n",
    "    df = pd.DataFrame(data)\n",
    "    print(df)"
   ]
  },
  {
   "cell_type": "code",
   "execution_count": null,
   "metadata": {},
   "outputs": [],
   "source": []
  }
 ],
 "metadata": {
  "colab": {
   "collapsed_sections": [
    "dNvAzzEY8HOm",
    "hfzcCF-d8HPC",
    "lRHSwC1j8HPF"
   ],
   "name": "quick_start_bs4.ipynb",
   "provenance": []
  },
  "kernelspec": {
   "display_name": "Python 3",
   "language": "python",
   "name": "python3"
  },
  "language_info": {
   "codemirror_mode": {
    "name": "ipython",
    "version": 3
   },
   "file_extension": ".py",
   "mimetype": "text/x-python",
   "name": "python",
   "nbconvert_exporter": "python",
   "pygments_lexer": "ipython3",
   "version": "3.8.6"
  }
 },
 "nbformat": 4,
 "nbformat_minor": 4
}
