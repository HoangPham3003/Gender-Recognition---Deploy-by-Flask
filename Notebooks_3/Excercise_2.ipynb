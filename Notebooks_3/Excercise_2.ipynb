{
 "cells": [
  {
   "cell_type": "code",
   "execution_count": 43,
   "id": "typical-principle",
   "metadata": {},
   "outputs": [],
   "source": [
    "import numpy as np\n",
    "import pandas as pd\n",
    "import matplotlib.pyplot as plt\n",
    "from bs4 import BeautifulSoup\n",
    "import requests\n",
    "import re\n",
    "import seaborn as sn"
   ]
  },
  {
   "cell_type": "code",
   "execution_count": 62,
   "id": "attempted-northern",
   "metadata": {},
   "outputs": [],
   "source": [
    "base_url = 'https://s.cafef.vn/'\n",
    "list_com_interest = [\n",
    "    {'symbol': 'FPT', 'link': 'FPT-cong-ty-co-phan-fpt.chn'},\n",
    "    {'symbol': 'VJC', 'link': 'VJC-cong-ty-co-phan-hang-khong-vietjet.chn'},\n",
    "    {'symbol': 'HVN', 'link': 'HVN-tong-cong-ty-hang-khong-viet-nam-ctcp.chn'},\n",
    "]\n",
    "\n",
    "# def getData(tmp):\n",
    "    \n",
    "\n",
    "data = []\n",
    "link = []\n",
    "for com in list_com_interest:\n",
    "#     row = [com['symbol']]\n",
    "    url_Info = \"https://s.cafef.vn/hose/{}\".format(com['link'])\n",
    "    \n",
    "    \n",
    "    giaThamChieu = ''\n",
    "    giaTran = ''\n",
    "    giaSan = ''\n",
    "    giaMoCua = ''\n",
    "    giaCaoNhat = ''\n",
    "    giaThapNhat = ''\n",
    "    \n",
    "    response = requests.get(url_Info)\n",
    "    soup = BeautifulSoup(response.text, 'html.parser')\n",
    "    div_dltl = soup.find('div', 'dltl-price')\n",
    "    li_dltl = div_dltl.find_all('li')\n",
    "    \n",
    "    \n",
    "    giaThamChieu = float(li_dltl[0].find('div', 'eq r').text.strip())\n",
    "    giaTran = float(li_dltl[1].find('div', 'r pink').text.strip())\n",
    "    giaSan = float(li_dltl[2].find('div', 'r fl').text.strip())\n",
    "    if li_dltl[3].find('div', 'right down') is not None:\n",
    "        giaMoCua = float(li_dltl[3].find('div', 'right down').text.strip())\n",
    "    if li_dltl[3].find('div', 'right up') is not None:\n",
    "        giaMoCua = float(li_dltl[3].find('div', 'right up').text.strip())\n",
    "    if li_dltl[4].find('div', 'right up') is not None:\n",
    "        giaCaoNhat = float(li_dltl[4].find('div', 'right up').text.strip())\n",
    "    if li_dltl[4].find('div', 'right down') is not None:\n",
    "        giaCaoNhat = float(li_dltl[4].find('div', 'right down').text.strip())\n",
    "    if li_dltl[5].find('div', 'right down') is not None:\n",
    "        giaThapNhat = float(li_dltl[5].find('div', 'right down').text.strip())\n",
    "    \n",
    "    row = {\"Symbol\": com['symbol'], 'Giá tham chiếu': giaThamChieu, 'Giá trần': giaTran, 'Giá sàn': giaSan, 'Giá mở cửa': giaMoCua, 'Giá cao nhất': giaCaoNhat, 'Giá thấp nhất': giaThapNhat}\n",
    "    data.append(row)\n"
   ]
  },
  {
   "cell_type": "code",
   "execution_count": 63,
   "id": "expected-adaptation",
   "metadata": {},
   "outputs": [
    {
     "name": "stdout",
     "output_type": "stream",
     "text": [
      "[{'Symbol': 'FPT', 'Giá tham chiếu': 80.7, 'Giá trần': 86.3, 'Giá sàn': 75.1, 'Giá mở cửa': 80.0, 'Giá cao nhất': 81.0, 'Giá thấp nhất': 79.5}, {'Symbol': 'VJC', 'Giá tham chiếu': 131.9, 'Giá trần': 141.1, 'Giá sàn': 122.7, 'Giá mở cửa': 132.2, 'Giá cao nhất': 132.3, 'Giá thấp nhất': 131.0}, {'Symbol': 'HVN', 'Giá tham chiếu': 32.05, 'Giá trần': 34.25, 'Giá sàn': 29.85, 'Giá mở cửa': 31.65, 'Giá cao nhất': 32.0, 'Giá thấp nhất': 31.5}]\n"
     ]
    }
   ],
   "source": [
    "print(data)"
   ]
  },
  {
   "cell_type": "code",
   "execution_count": 64,
   "id": "outer-reverse",
   "metadata": {},
   "outputs": [
    {
     "data": {
      "text/html": [
       "<div>\n",
       "<style scoped>\n",
       "    .dataframe tbody tr th:only-of-type {\n",
       "        vertical-align: middle;\n",
       "    }\n",
       "\n",
       "    .dataframe tbody tr th {\n",
       "        vertical-align: top;\n",
       "    }\n",
       "\n",
       "    .dataframe thead th {\n",
       "        text-align: right;\n",
       "    }\n",
       "</style>\n",
       "<table border=\"1\" class=\"dataframe\">\n",
       "  <thead>\n",
       "    <tr style=\"text-align: right;\">\n",
       "      <th></th>\n",
       "      <th>Symbol</th>\n",
       "      <th>Giá tham chiếu</th>\n",
       "      <th>Giá trần</th>\n",
       "      <th>Giá sàn</th>\n",
       "      <th>Giá mở cửa</th>\n",
       "      <th>Giá cao nhất</th>\n",
       "      <th>Giá thấp nhất</th>\n",
       "    </tr>\n",
       "  </thead>\n",
       "  <tbody>\n",
       "    <tr>\n",
       "      <th>0</th>\n",
       "      <td>FPT</td>\n",
       "      <td>80.70</td>\n",
       "      <td>86.30</td>\n",
       "      <td>75.10</td>\n",
       "      <td>80.00</td>\n",
       "      <td>81.0</td>\n",
       "      <td>79.5</td>\n",
       "    </tr>\n",
       "    <tr>\n",
       "      <th>1</th>\n",
       "      <td>VJC</td>\n",
       "      <td>131.90</td>\n",
       "      <td>141.10</td>\n",
       "      <td>122.70</td>\n",
       "      <td>132.20</td>\n",
       "      <td>132.3</td>\n",
       "      <td>131.0</td>\n",
       "    </tr>\n",
       "    <tr>\n",
       "      <th>2</th>\n",
       "      <td>HVN</td>\n",
       "      <td>32.05</td>\n",
       "      <td>34.25</td>\n",
       "      <td>29.85</td>\n",
       "      <td>31.65</td>\n",
       "      <td>32.0</td>\n",
       "      <td>31.5</td>\n",
       "    </tr>\n",
       "  </tbody>\n",
       "</table>\n",
       "</div>"
      ],
      "text/plain": [
       "  Symbol  Giá tham chiếu  Giá trần  Giá sàn  Giá mở cửa  Giá cao nhất  \\\n",
       "0    FPT           80.70     86.30    75.10       80.00          81.0   \n",
       "1    VJC          131.90    141.10   122.70      132.20         132.3   \n",
       "2    HVN           32.05     34.25    29.85       31.65          32.0   \n",
       "\n",
       "   Giá thấp nhất  \n",
       "0           79.5  \n",
       "1          131.0  \n",
       "2           31.5  "
      ]
     },
     "execution_count": 64,
     "metadata": {},
     "output_type": "execute_result"
    }
   ],
   "source": [
    "df = pd.DataFrame(data)\n",
    "df.head()"
   ]
  },
  {
   "cell_type": "code",
   "execution_count": 65,
   "id": "stylish-tragedy",
   "metadata": {},
   "outputs": [],
   "source": [
    "df.to_csv(\"data.csv\")"
   ]
  },
  {
   "cell_type": "code",
   "execution_count": 66,
   "id": "residential-conditions",
   "metadata": {},
   "outputs": [
    {
     "data": {
      "text/html": [
       "<div>\n",
       "<style scoped>\n",
       "    .dataframe tbody tr th:only-of-type {\n",
       "        vertical-align: middle;\n",
       "    }\n",
       "\n",
       "    .dataframe tbody tr th {\n",
       "        vertical-align: top;\n",
       "    }\n",
       "\n",
       "    .dataframe thead th {\n",
       "        text-align: right;\n",
       "    }\n",
       "</style>\n",
       "<table border=\"1\" class=\"dataframe\">\n",
       "  <thead>\n",
       "    <tr style=\"text-align: right;\">\n",
       "      <th></th>\n",
       "      <th>Symbol</th>\n",
       "      <th>Kind</th>\n",
       "      <th>Value</th>\n",
       "    </tr>\n",
       "  </thead>\n",
       "  <tbody>\n",
       "    <tr>\n",
       "      <th>0</th>\n",
       "      <td>FPT</td>\n",
       "      <td>Giá tham chiếu</td>\n",
       "      <td>80.70</td>\n",
       "    </tr>\n",
       "    <tr>\n",
       "      <th>1</th>\n",
       "      <td>VJC</td>\n",
       "      <td>Giá tham chiếu</td>\n",
       "      <td>131.90</td>\n",
       "    </tr>\n",
       "    <tr>\n",
       "      <th>2</th>\n",
       "      <td>HVN</td>\n",
       "      <td>Giá tham chiếu</td>\n",
       "      <td>32.05</td>\n",
       "    </tr>\n",
       "    <tr>\n",
       "      <th>3</th>\n",
       "      <td>FPT</td>\n",
       "      <td>Giá trần</td>\n",
       "      <td>86.30</td>\n",
       "    </tr>\n",
       "    <tr>\n",
       "      <th>4</th>\n",
       "      <td>VJC</td>\n",
       "      <td>Giá trần</td>\n",
       "      <td>141.10</td>\n",
       "    </tr>\n",
       "    <tr>\n",
       "      <th>5</th>\n",
       "      <td>HVN</td>\n",
       "      <td>Giá trần</td>\n",
       "      <td>34.25</td>\n",
       "    </tr>\n",
       "    <tr>\n",
       "      <th>6</th>\n",
       "      <td>FPT</td>\n",
       "      <td>Giá sàn</td>\n",
       "      <td>75.10</td>\n",
       "    </tr>\n",
       "    <tr>\n",
       "      <th>7</th>\n",
       "      <td>VJC</td>\n",
       "      <td>Giá sàn</td>\n",
       "      <td>122.70</td>\n",
       "    </tr>\n",
       "    <tr>\n",
       "      <th>8</th>\n",
       "      <td>HVN</td>\n",
       "      <td>Giá sàn</td>\n",
       "      <td>29.85</td>\n",
       "    </tr>\n",
       "    <tr>\n",
       "      <th>9</th>\n",
       "      <td>FPT</td>\n",
       "      <td>Giá mở cửa</td>\n",
       "      <td>80.00</td>\n",
       "    </tr>\n",
       "    <tr>\n",
       "      <th>10</th>\n",
       "      <td>VJC</td>\n",
       "      <td>Giá mở cửa</td>\n",
       "      <td>132.20</td>\n",
       "    </tr>\n",
       "    <tr>\n",
       "      <th>11</th>\n",
       "      <td>HVN</td>\n",
       "      <td>Giá mở cửa</td>\n",
       "      <td>31.65</td>\n",
       "    </tr>\n",
       "    <tr>\n",
       "      <th>12</th>\n",
       "      <td>FPT</td>\n",
       "      <td>Giá cao nhất</td>\n",
       "      <td>81.00</td>\n",
       "    </tr>\n",
       "    <tr>\n",
       "      <th>13</th>\n",
       "      <td>VJC</td>\n",
       "      <td>Giá cao nhất</td>\n",
       "      <td>132.30</td>\n",
       "    </tr>\n",
       "    <tr>\n",
       "      <th>14</th>\n",
       "      <td>HVN</td>\n",
       "      <td>Giá cao nhất</td>\n",
       "      <td>32.00</td>\n",
       "    </tr>\n",
       "    <tr>\n",
       "      <th>15</th>\n",
       "      <td>FPT</td>\n",
       "      <td>Giá thấp nhất</td>\n",
       "      <td>79.50</td>\n",
       "    </tr>\n",
       "    <tr>\n",
       "      <th>16</th>\n",
       "      <td>VJC</td>\n",
       "      <td>Giá thấp nhất</td>\n",
       "      <td>131.00</td>\n",
       "    </tr>\n",
       "    <tr>\n",
       "      <th>17</th>\n",
       "      <td>HVN</td>\n",
       "      <td>Giá thấp nhất</td>\n",
       "      <td>31.50</td>\n",
       "    </tr>\n",
       "  </tbody>\n",
       "</table>\n",
       "</div>"
      ],
      "text/plain": [
       "   Symbol            Kind   Value\n",
       "0     FPT  Giá tham chiếu   80.70\n",
       "1     VJC  Giá tham chiếu  131.90\n",
       "2     HVN  Giá tham chiếu   32.05\n",
       "3     FPT        Giá trần   86.30\n",
       "4     VJC        Giá trần  141.10\n",
       "5     HVN        Giá trần   34.25\n",
       "6     FPT         Giá sàn   75.10\n",
       "7     VJC         Giá sàn  122.70\n",
       "8     HVN         Giá sàn   29.85\n",
       "9     FPT      Giá mở cửa   80.00\n",
       "10    VJC      Giá mở cửa  132.20\n",
       "11    HVN      Giá mở cửa   31.65\n",
       "12    FPT    Giá cao nhất   81.00\n",
       "13    VJC    Giá cao nhất  132.30\n",
       "14    HVN    Giá cao nhất   32.00\n",
       "15    FPT   Giá thấp nhất   79.50\n",
       "16    VJC   Giá thấp nhất  131.00\n",
       "17    HVN   Giá thấp nhất   31.50"
      ]
     },
     "execution_count": 66,
     "metadata": {},
     "output_type": "execute_result"
    }
   ],
   "source": [
    "myData = pd.melt(df, id_vars='Symbol', var_name='Kind', value_name='Value')\n",
    "myData"
   ]
  },
  {
   "cell_type": "code",
   "execution_count": 67,
   "id": "wound-communication",
   "metadata": {},
   "outputs": [
    {
     "name": "stdout",
     "output_type": "stream",
     "text": [
      "<class 'pandas.core.frame.DataFrame'>\n",
      "RangeIndex: 18 entries, 0 to 17\n",
      "Data columns (total 3 columns):\n",
      " #   Column  Non-Null Count  Dtype  \n",
      "---  ------  --------------  -----  \n",
      " 0   Symbol  18 non-null     object \n",
      " 1   Kind    18 non-null     object \n",
      " 2   Value   18 non-null     float64\n",
      "dtypes: float64(1), object(2)\n",
      "memory usage: 560.0+ bytes\n"
     ]
    }
   ],
   "source": [
    "myData.info()"
   ]
  },
  {
   "cell_type": "code",
   "execution_count": 68,
   "id": "radical-personality",
   "metadata": {},
   "outputs": [
    {
     "data": {
      "text/plain": [
       "<AxesSubplot:xlabel='Symbol', ylabel='Value'>"
      ]
     },
     "execution_count": 68,
     "metadata": {},
     "output_type": "execute_result"
    },
    {
     "data": {
      "image/png": "[encoded data removed]",
      "text/plain": [
       "<Figure size 432x288 with 1 Axes>"
      ]
     },
     "metadata": {
      "needs_background": "light"
     },
     "output_type": "display_data"
    }
   ],
   "source": [
    "pd.to_numeric(myData['Value'])\n",
    "sn.barplot(data=myData, x='Symbol', y='Value', hue='Kind')"
   ]
  },
  {
   "cell_type": "code",
   "execution_count": null,
   "id": "judicial-craft",
   "metadata": {},
   "outputs": [],
   "source": []
  }
 ],
 "metadata": {
  "kernelspec": {
   "display_name": "Python 3",
   "language": "python",
   "name": "python3"
  },
  "language_info": {
   "codemirror_mode": {
    "name": "ipython",
    "version": 3
   },
   "file_extension": ".py",
   "mimetype": "text/x-python",
   "name": "python",
   "nbconvert_exporter": "python",
   "pygments_lexer": "ipython3",
   "version": "3.8.6"
  }
 },
 "nbformat": 4,
 "nbformat_minor": 5
}
