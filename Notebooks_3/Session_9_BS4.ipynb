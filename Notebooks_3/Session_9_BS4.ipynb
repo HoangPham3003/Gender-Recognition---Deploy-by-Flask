{
 "cells": [
  {
   "cell_type": "markdown",
   "metadata": {
    "colab_type": "text",
    "id": "syETJ5Xh8HNp"
   },
   "source": [
    "# <center>Quick Start with Beautiful Soup</center>"
   ]
  },
  {
   "cell_type": "markdown",
   "metadata": {
    "colab_type": "text",
    "id": "n6PXADQe8HNr"
   },
   "source": [
    "### Installing Beautiful Soup"
   ]
  },
  {
   "cell_type": "code",
   "execution_count": 224,
   "metadata": {
    "colab": {},
    "colab_type": "code",
    "id": "7sXlbhA28HNs",
    "outputId": "7dee4b5e-dc5a-4919-b93c-7d9a55a75f5b"
   },
   "outputs": [
    {
     "name": "stdout",
     "output_type": "stream",
     "text": [
      "Requirement already satisfied: beautifulsoup4 in c:\\users\\admin\\appdata\\local\\programs\\python\\python36\\lib\\site-packages (4.9.2)\n",
      "Requirement already satisfied: soupsieve>1.2; python_version >= \"3.0\" in c:\\users\\admin\\appdata\\local\\programs\\python\\python36\\lib\\site-packages (from beautifulsoup4) (2.0.1)\n"
     ]
    },
    {
     "name": "stderr",
     "output_type": "stream",
     "text": [
      "WARNING: You are using pip version 20.2.2; however, version 20.2.3 is available.\n",
      "You should consider upgrading via the 'c:\\users\\admin\\appdata\\local\\programs\\python\\python36\\python.exe -m pip install --upgrade pip' command.\n"
     ]
    }
   ],
   "source": [
    "!pip install beautifulsoup4"
   ]
  },
  {
   "cell_type": "markdown",
   "metadata": {
    "colab_type": "text",
    "id": "_KdpSyVg8HNz"
   },
   "source": [
    "### Import module "
   ]
  },
  {
   "cell_type": "code",
   "execution_count": 225,
   "metadata": {
    "colab": {},
    "colab_type": "code",
    "id": "mjLGyxKy8HN1"
   },
   "outputs": [],
   "source": [
    "from bs4 import BeautifulSoup\n",
    "import requests"
   ]
  },
  {
   "cell_type": "markdown",
   "metadata": {
    "colab_type": "text",
    "id": "A8seRn_i8HN3"
   },
   "source": [
    "### Making the soup"
   ]
  },
  {
   "cell_type": "code",
   "execution_count": 226,
   "metadata": {
    "colab": {},
    "colab_type": "code",
    "id": "rq0fiNMt8HN4"
   },
   "outputs": [],
   "source": [
    "# Pass in a string \n",
    "response = requests.get('http://data.pr4e.org/romeo.txt')\n",
    "html = response.text\n",
    "soup = BeautifulSoup(html, 'html.parser')"
   ]
  },
  {
   "cell_type": "code",
   "execution_count": 227,
   "metadata": {
    "colab": {},
    "colab_type": "code",
    "id": "GnpSPLF38HOA"
   },
   "outputs": [],
   "source": [
    "# Pass in an open filehandle\n",
    "with open(\"index.html\") as fp:\n",
    "#     html_txt = fp.readlines()\n",
    "    soup = BeautifulSoup(fp, 'html.parser')"
   ]
  },
  {
   "cell_type": "code",
   "execution_count": 228,
   "metadata": {
    "colab": {
     "base_uri": "https://localhost:8080/",
     "height": 527
    },
    "colab_type": "code",
    "id": "juGyH_uI8HOC",
    "outputId": "d435774f-c9e3-4772-98a2-8ebae54a6fd7"
   },
   "outputs": [
    {
     "name": "stdout",
     "output_type": "stream",
     "text": [
      "<html>\n",
      " <head>\n",
      "  <title>\n",
      "   Hello, Data Engineer\n",
      "  </title>\n",
      " </head>\n",
      " <body>\n",
      "  <p class=\"title\">\n",
      "   Hello\n",
      "   <b>\n",
      "    The Dormouse's story\n",
      "   </b>\n",
      "  </p>\n",
      "  <p class=\"story\">\n",
      "   Once upon a time there were three little sisters; and their names were\n",
      "   <a class=\"sister\" href=\"http://example.com/elsie\" id=\"link1\">\n",
      "    Elsie\n",
      "   </a>\n",
      "   <a class=\"sister\" href=\"http://example.com/lacie\" id=\"link2\">\n",
      "    Lacie\n",
      "   </a>\n",
      "   and\n",
      "   <a class=\"sister\" href=\"http://example.com/tillie\" id=\"link3\">\n",
      "    Tillie\n",
      "   </a>\n",
      "   and they lived at the bottom of a well.\n",
      "  </p>\n",
      "  <p class=\"story\">\n",
      "  </p>\n",
      " </body>\n",
      "</html>\n"
     ]
    }
   ],
   "source": [
    "print(soup.prettify())"
   ]
  },
  {
   "cell_type": "markdown",
   "metadata": {
    "colab_type": "text",
    "id": "4SZCzd4V8HOG"
   },
   "source": [
    "### Kinds of objects"
   ]
  },
  {
   "cell_type": "markdown",
   "metadata": {
    "colab_type": "text",
    "id": "W1w4cACX8HOG"
   },
   "source": [
    "- **Tag**"
   ]
  },
  {
   "cell_type": "code",
   "execution_count": 229,
   "metadata": {
    "colab": {},
    "colab_type": "code",
    "id": "S8k5L7K08HOH",
    "outputId": "ee867287-06e2-4d20-d006-e49668015d9c"
   },
   "outputs": [
    {
     "name": "stdout",
     "output_type": "stream",
     "text": [
      "<title>Hello, Data Engineer</title>\n"
     ]
    }
   ],
   "source": [
    "# Get element by tag\n",
    "tag = soup.title\n",
    "print(tag)"
   ]
  },
  {
   "cell_type": "markdown",
   "metadata": {
    "colab_type": "text",
    "id": "izJ_C_mc8HOK"
   },
   "source": [
    "- **Name**"
   ]
  },
  {
   "cell_type": "code",
   "execution_count": 230,
   "metadata": {
    "colab": {},
    "colab_type": "code",
    "id": "StX0hGXZ8HOL",
    "outputId": "c8b620fa-f3b2-4f43-94a1-c454fbc1cb85"
   },
   "outputs": [
    {
     "data": {
      "text/plain": [
       "'title'"
      ]
     },
     "execution_count": 230,
     "metadata": {},
     "output_type": "execute_result"
    }
   ],
   "source": [
    "# Get name of element\n",
    "tag.name"
   ]
  },
  {
   "cell_type": "code",
   "execution_count": 231,
   "metadata": {
    "colab": {},
    "colab_type": "code",
    "id": "O9l1E5th8HOO",
    "outputId": "805ee491-dd56-484f-e4cf-ef3b30190d33"
   },
   "outputs": [
    {
     "name": "stdout",
     "output_type": "stream",
     "text": [
      "<new_title>Hello, Data Engineer</new_title>\n"
     ]
    }
   ],
   "source": [
    "# Change name of tag\n",
    "tag.name = 'new_title'\n",
    "print(tag)"
   ]
  },
  {
   "cell_type": "markdown",
   "metadata": {
    "colab_type": "text",
    "id": "DWeTh_WO8HOR"
   },
   "source": [
    "- **Attributes**"
   ]
  },
  {
   "cell_type": "code",
   "execution_count": 232,
   "metadata": {
    "colab": {
     "base_uri": "https://localhost:8080/",
     "height": 102
    },
    "colab_type": "code",
    "id": "RPwTQHPe8HOR",
    "outputId": "155f8fef-1c3a-4093-a132-cdf1679ca035"
   },
   "outputs": [
    {
     "data": {
      "text/plain": [
       "[<p class=\"title\">\n",
       "           Hello\n",
       "          <b>\n",
       "          The Dormouse's story\n",
       "          </b>\n",
       " </p>]"
      ]
     },
     "execution_count": 232,
     "metadata": {},
     "output_type": "execute_result"
    }
   ],
   "source": [
    "#  Get value of attributes\n",
    "p = soup('p', 'title')\n",
    "p"
   ]
  },
  {
   "cell_type": "code",
   "execution_count": 233,
   "metadata": {
    "colab": {},
    "colab_type": "code",
    "id": "t1Yuqdxx8HOY",
    "outputId": "a78565b1-8a61-49b4-9b14-b23262c0a5fd"
   },
   "outputs": [
    {
     "name": "stdout",
     "output_type": "stream",
     "text": [
      "<class 'dict'> {'class': ['sister'], 'href': 'http://example.com/elsie', 'id': 'link1'}\n"
     ]
    }
   ],
   "source": [
    "# You can access that dictionary directly as .attrs\n",
    "a = soup.a\n",
    "a_attrs= a.attrs\n",
    "print(type(a_attrs), a_attrs)"
   ]
  },
  {
   "cell_type": "markdown",
   "metadata": {
    "colab_type": "text",
    "id": "Mz4wfgiA8HOh"
   },
   "source": [
    "You can add, remove, and modify a tag’s attributes. Again, this is done by treating the tag as a dictionary:"
   ]
  },
  {
   "cell_type": "code",
   "execution_count": 234,
   "metadata": {
    "colab": {},
    "colab_type": "code",
    "id": "xQOarUNK8HOi",
    "outputId": "890db73e-bb1a-43d9-b218-9188ab432406"
   },
   "outputs": [
    {
     "name": "stdout",
     "output_type": "stream",
     "text": [
      "{'class': ['sister'], 'href': 'http://example.com/elsie', 'id': 'link1'}\n"
     ]
    },
    {
     "data": {
      "text/plain": [
       "<a id=\"link1\">\n",
       "         Elsie\n",
       "         </a>"
      ]
     },
     "execution_count": 234,
     "metadata": {},
     "output_type": "execute_result"
    }
   ],
   "source": [
    "tag = soup.a\n",
    "print(tag.attrs)\n",
    "# {'href': 'http://example.com/elsie', 'class': ['sister'], 'id': 'link1'}\n",
    "tag['class'] = 'fpt'\n",
    "tag['href'] = 'http://fpt.com.vn'\n",
    "tag\n",
    "# <b another-attribute=\"1\" id=\"verybold\"></b>\n",
    "\n",
    "del tag['class']\n",
    "del tag['href']\n",
    "tag"
   ]
  },
  {
   "cell_type": "markdown",
   "metadata": {
    "colab_type": "text",
    "id": "dNvAzzEY8HOm"
   },
   "source": [
    "### Navigating the tree"
   ]
  },
  {
   "cell_type": "markdown",
   "metadata": {
    "colab_type": "text",
    "id": "h8L4HI2o8HOn"
   },
   "source": [
    "Tags may contain ``strings`` and other ``tags``. These elements are the tag’s ``children``. Beautiful Soup provides a lot of different attributes for navigating and iterating over a tag’s children."
   ]
  },
  {
   "cell_type": "markdown",
   "metadata": {
    "colab_type": "text",
    "id": "lX7wceAg8HOn"
   },
   "source": [
    "- **Navigating using tag names**"
   ]
  },
  {
   "cell_type": "markdown",
   "metadata": {
    "colab_type": "text",
    "id": "CPzabki98HOo"
   },
   "source": [
    "Using a tag name as an attribute will give you only the first tag by that name:"
   ]
  },
  {
   "cell_type": "code",
   "execution_count": 235,
   "metadata": {
    "colab": {},
    "colab_type": "code",
    "id": "71w8MiCn8HOo",
    "outputId": "a1b3ac1e-4c7b-4f50-b88d-31a5931bad15"
   },
   "outputs": [
    {
     "name": "stdout",
     "output_type": "stream",
     "text": [
      "<head><new_title>Hello, Data Engineer</new_title></head>\n",
      "<new_title>Hello, Data Engineer</new_title>\n",
      "<b>\n",
      "         The Dormouse's story\n",
      "         </b>\n"
     ]
    }
   ],
   "source": [
    "# Get head element\n",
    "head = soup.head\n",
    "print(head)\n",
    "# Get title element\n",
    "title = soup.new_title\n",
    "print(title)\n",
    "# Get tag b in body\n",
    "b = soup.body.b\n",
    "print(b)"
   ]
  },
  {
   "cell_type": "code",
   "execution_count": 236,
   "metadata": {
    "colab": {},
    "colab_type": "code",
    "id": "zqckkR3v8HOq",
    "outputId": "145df2a7-1ad7-4ae7-a175-ea80de95d4c5"
   },
   "outputs": [
    {
     "name": "stdout",
     "output_type": "stream",
     "text": [
      "[<a id=\"link1\">\n",
      "         Elsie\n",
      "         </a>, <a class=\"sister\" href=\"http://example.com/lacie\" id=\"link2\">\n",
      "         Lacie\n",
      "         </a>, <a class=\"sister\" href=\"http://example.com/tillie\" id=\"link3\">\n",
      "         Tillie\n",
      "         </a>]\n"
     ]
    }
   ],
   "source": [
    "# Get all the <a> tags\n",
    "list_a_tags = soup.find_all('a')\n",
    "print(list_a_tags)"
   ]
  },
  {
   "cell_type": "markdown",
   "metadata": {
    "colab_type": "text",
    "id": "NCOAQrtL8HOs"
   },
   "source": [
    "- **``.contents`` and ``.children``**¶"
   ]
  },
  {
   "cell_type": "code",
   "execution_count": 237,
   "metadata": {
    "colab": {},
    "colab_type": "code",
    "id": "KRbeolbb8HOs",
    "outputId": "3dc9c19a-66b7-484a-b6cb-a62df7f77918"
   },
   "outputs": [
    {
     "name": "stdout",
     "output_type": "stream",
     "text": [
      "1\n",
      "new_title <------\n"
     ]
    }
   ],
   "source": [
    "contents_html = soup.head.contents\n",
    "print(len(contents_html))\n",
    "for content in contents_html:\n",
    "    print(content.name, '<------')"
   ]
  },
  {
   "cell_type": "code",
   "execution_count": 238,
   "metadata": {
    "colab": {},
    "colab_type": "code",
    "id": "EW7u_PEX8HOv",
    "outputId": "447c3cc3-d6e9-48f4-cd87-dd9c568ac90d"
   },
   "outputs": [
    {
     "name": "stdout",
     "output_type": "stream",
     "text": [
      "<list_iterator object at 0x000002134CD2F630>\n",
      "new_title <----\n"
     ]
    }
   ],
   "source": [
    "#  You can iterate over a tag’s children using the .children generator\n",
    "body_children = soup.head.children\n",
    "print(body_children)\n",
    "for child in body_children:\n",
    "    print(child.name, '<----')"
   ]
  },
  {
   "cell_type": "code",
   "execution_count": 239,
   "metadata": {
    "colab": {},
    "colab_type": "code",
    "id": "2v0Z0BUL8HOy",
    "outputId": "a556bde2-1236-4e3c-934f-b81127d690c4"
   },
   "outputs": [
    {
     "name": "stdout",
     "output_type": "stream",
     "text": [
      "<class 'bs4.element.Tag'> <new_title>Hello, Data Engineer</new_title>\n",
      "<class 'bs4.element.NavigableString'> Hello, Data Engineer\n"
     ]
    }
   ],
   "source": [
    "for child in soup.head.descendants:\n",
    "    print(type(child), child)"
   ]
  },
  {
   "cell_type": "code",
   "execution_count": 240,
   "metadata": {
    "colab": {},
    "colab_type": "code",
    "id": "Lzq3ecl68HO1",
    "outputId": "b16cbc16-80ed-4d29-c3d8-7cc3a9eef909"
   },
   "outputs": [
    {
     "name": "stdout",
     "output_type": "stream",
     "text": [
      "1\n",
      "30\n"
     ]
    }
   ],
   "source": [
    "print(len(list(soup.children)))\n",
    "print(len(list(soup.descendants)))\n"
   ]
  },
  {
   "cell_type": "markdown",
   "metadata": {
    "colab_type": "text",
    "id": "MBvvM-Ye8HO3"
   },
   "source": [
    "- **``.strings`` and ``.stripped_strings``**"
   ]
  },
  {
   "cell_type": "code",
   "execution_count": 241,
   "metadata": {
    "colab": {},
    "colab_type": "code",
    "id": "IxLvYvrg8HO3",
    "outputId": "01bc5c67-f651-4278-8e3b-76f0435b6ab7"
   },
   "outputs": [
    {
     "name": "stdout",
     "output_type": "stream",
     "text": [
      "'\\n'\n",
      "'\\n          Hello\\n         '\n",
      "\"\\n         The Dormouse's story\\n         \"\n",
      "'\\n'\n",
      "'\\n'\n",
      "'\\n         Once upon a time there were three little sisters; and their names were\\n         '\n",
      "'\\n         Elsie\\n         '\n",
      "'\\n'\n",
      "'\\n         Lacie\\n         '\n",
      "'\\n         and\\n         '\n",
      "'\\n         Tillie\\n         '\n",
      "'\\n         and they lived at the bottom of a well.\\n      '\n",
      "'\\n'\n",
      "'\\n'\n",
      "'\\n'\n"
     ]
    }
   ],
   "source": [
    "# Use the .strings generator:\n",
    "for string in soup.body.strings:\n",
    "    print(repr(string))"
   ]
  },
  {
   "cell_type": "code",
   "execution_count": 242,
   "metadata": {
    "colab": {},
    "colab_type": "code",
    "id": "fPXubsth8HO-",
    "outputId": "e4d42e1c-7914-4a36-d7a6-3e9c8991054d"
   },
   "outputs": [
    {
     "name": "stdout",
     "output_type": "stream",
     "text": [
      "'Hello'\n",
      "\"The Dormouse's story\"\n",
      "'Once upon a time there were three little sisters; and their names were'\n",
      "'Elsie'\n",
      "'Lacie'\n",
      "'and'\n",
      "'Tillie'\n",
      "'and they lived at the bottom of a well.'\n"
     ]
    }
   ],
   "source": [
    "# You can remove whitespace by using the .stripped_strings generator\n",
    "for string in soup.body.stripped_strings:\n",
    "    print(repr(string))"
   ]
  },
  {
   "cell_type": "markdown",
   "metadata": {
    "colab_type": "text",
    "id": "FX_83mNz8HPC"
   },
   "source": [
    "## <center>Searching the tree</center>"
   ]
  },
  {
   "cell_type": "markdown",
   "metadata": {
    "colab_type": "text",
    "id": "hfzcCF-d8HPC"
   },
   "source": [
    "### - A string"
   ]
  },
  {
   "cell_type": "code",
   "execution_count": 243,
   "metadata": {
    "colab": {},
    "colab_type": "code",
    "id": "wMhQw0xH8HPD",
    "outputId": "9857278a-2ae4-4bf0-aecb-b365387aa862"
   },
   "outputs": [
    {
     "data": {
      "text/plain": [
       "[<b>\n",
       "          The Dormouse's story\n",
       "          </b>]"
      ]
     },
     "execution_count": 243,
     "metadata": {},
     "output_type": "execute_result"
    }
   ],
   "source": [
    "# Finds all the <b> tags in the document\n",
    "soup.find_all('b')"
   ]
  },
  {
   "cell_type": "markdown",
   "metadata": {
    "colab_type": "text",
    "id": "lRHSwC1j8HPF"
   },
   "source": [
    "### - A regular expression"
   ]
  },
  {
   "cell_type": "code",
   "execution_count": 244,
   "metadata": {
    "colab": {},
    "colab_type": "code",
    "id": "sgMhhZGx8HPF",
    "outputId": "ba2f5125-5e00-47a2-f945-fddfdeef437d"
   },
   "outputs": [
    {
     "name": "stdout",
     "output_type": "stream",
     "text": [
      "body\n",
      "b\n"
     ]
    }
   ],
   "source": [
    "import re\n",
    "for tag in soup.find_all(re.compile(\"^b\")):\n",
    "    print(tag.name)\n",
    "# body\n",
    "# b"
   ]
  },
  {
   "cell_type": "code",
   "execution_count": 245,
   "metadata": {
    "colab": {},
    "colab_type": "code",
    "id": "tSieI8kF8HPI"
   },
   "outputs": [],
   "source": [
    "### - A list"
   ]
  },
  {
   "cell_type": "code",
   "execution_count": 246,
   "metadata": {
    "colab": {},
    "colab_type": "code",
    "id": "V4dDmed88HPK",
    "outputId": "2ffe0985-a40a-49e3-f6fd-14cf847d8c82"
   },
   "outputs": [
    {
     "data": {
      "text/plain": [
       "[<b>\n",
       "          The Dormouse's story\n",
       "          </b>, <a id=\"link1\">\n",
       "          Elsie\n",
       "          </a>, <a class=\"sister\" href=\"http://example.com/lacie\" id=\"link2\">\n",
       "          Lacie\n",
       "          </a>, <a class=\"sister\" href=\"http://example.com/tillie\" id=\"link3\">\n",
       "          Tillie\n",
       "          </a>]"
      ]
     },
     "execution_count": 246,
     "metadata": {},
     "output_type": "execute_result"
    }
   ],
   "source": [
    "soup.find_all([\"a\", \"b\"])"
   ]
  },
  {
   "cell_type": "code",
   "execution_count": 247,
   "metadata": {
    "colab": {},
    "colab_type": "code",
    "id": "AEvmufPh8HPN"
   },
   "outputs": [],
   "source": [
    "### - A function"
   ]
  },
  {
   "cell_type": "code",
   "execution_count": 248,
   "metadata": {
    "colab": {},
    "colab_type": "code",
    "id": "M2UvjUYz8HPP",
    "outputId": "e6deb52f-a362-44e0-e047-f640e06a7ce7"
   },
   "outputs": [
    {
     "data": {
      "text/plain": [
       "[<p class=\"title\">\n",
       "           Hello\n",
       "          <b>\n",
       "          The Dormouse's story\n",
       "          </b>\n",
       " </p>, <p class=\"story\">\n",
       "          Once upon a time there were three little sisters; and their names were\n",
       "          <a id=\"link1\">\n",
       "          Elsie\n",
       "          </a>\n",
       " <a class=\"sister\" href=\"http://example.com/lacie\" id=\"link2\">\n",
       "          Lacie\n",
       "          </a>\n",
       "          and\n",
       "          <a class=\"sister\" href=\"http://example.com/tillie\" id=\"link3\">\n",
       "          Tillie\n",
       "          </a>\n",
       "          and they lived at the bottom of a well.\n",
       "       </p>, <p class=\"story\">\n",
       " </p>]"
      ]
     },
     "execution_count": 248,
     "metadata": {},
     "output_type": "execute_result"
    }
   ],
   "source": [
    "def has_class_but_no_id(tag):\n",
    "    return tag.has_attr('class') and not tag.has_attr('id')\n",
    "soup.find_all(has_class_but_no_id)"
   ]
  },
  {
   "cell_type": "markdown",
   "metadata": {
    "colab_type": "text",
    "id": "NWTi25Zu8HPR"
   },
   "source": [
    "## <center> ``.find_all()`` </center>\n",
    " Signature: ``find_all(name, attrs, recursive, string, limit, **kwargs)``"
   ]
  },
  {
   "cell_type": "code",
   "execution_count": 249,
   "metadata": {
    "colab": {},
    "colab_type": "code",
    "id": "bIgftPJj8HPS",
    "outputId": "e5527dc4-fe88-4c88-9053-5b11b35703a6"
   },
   "outputs": [
    {
     "data": {
      "text/plain": [
       "[<new_title>Hello, Data Engineer</new_title>]"
      ]
     },
     "execution_count": 249,
     "metadata": {},
     "output_type": "execute_result"
    }
   ],
   "source": [
    "soup.find_all(\"new_title\")\n",
    "# [<title>The Dormouse's story</title>]"
   ]
  },
  {
   "cell_type": "code",
   "execution_count": 250,
   "metadata": {
    "colab": {},
    "colab_type": "code",
    "id": "eBsdVzvM8HPU",
    "outputId": "19cb670b-9961-4937-d6d1-45655c711cc1"
   },
   "outputs": [
    {
     "data": {
      "text/plain": [
       "[<p class=\"title\">\n",
       "           Hello\n",
       "          <b>\n",
       "          The Dormouse's story\n",
       "          </b>\n",
       " </p>]"
      ]
     },
     "execution_count": 250,
     "metadata": {},
     "output_type": "execute_result"
    }
   ],
   "source": [
    "soup.find_all(\"p\", \"title\")\n",
    "# [<p class=\"title\"><b>The Dormouse's story</b></p>]"
   ]
  },
  {
   "cell_type": "code",
   "execution_count": 251,
   "metadata": {
    "colab": {},
    "colab_type": "code",
    "id": "JPHu997h8HPW",
    "outputId": "4c997854-7c87-40f4-88c1-c36824b746eb"
   },
   "outputs": [
    {
     "data": {
      "text/plain": [
       "[<a id=\"link1\">\n",
       "          Elsie\n",
       "          </a>, <a class=\"sister\" href=\"http://example.com/lacie\" id=\"link2\">\n",
       "          Lacie\n",
       "          </a>, <a class=\"sister\" href=\"http://example.com/tillie\" id=\"link3\">\n",
       "          Tillie\n",
       "          </a>]"
      ]
     },
     "execution_count": 251,
     "metadata": {},
     "output_type": "execute_result"
    }
   ],
   "source": [
    "soup.find_all(\"a\")\n",
    "# [<a class=\"sister\" href=\"http://example.com/elsie\" id=\"link1\">Elsie</a>,\n",
    "#  <a class=\"sister\" href=\"http://example.com/lacie\" id=\"link2\">Lacie</a>,\n",
    "#  <a class=\"sister\" href=\"http://example.com/tillie\" id=\"link3\">Tillie</a>]"
   ]
  },
  {
   "cell_type": "code",
   "execution_count": 252,
   "metadata": {
    "colab": {},
    "colab_type": "code",
    "id": "U5N0zVyg8HPY",
    "outputId": "6190d5a6-c3ce-421e-a58d-a226cfbdc5af"
   },
   "outputs": [
    {
     "data": {
      "text/plain": [
       "[<a class=\"sister\" href=\"http://example.com/lacie\" id=\"link2\">\n",
       "          Lacie\n",
       "          </a>]"
      ]
     },
     "execution_count": 252,
     "metadata": {},
     "output_type": "execute_result"
    }
   ],
   "source": [
    "soup.find_all(id=\"link2\")\n",
    "# [<a class=\"sister\" href=\"http://example.com/lacie\" id=\"link2\">Lacie</a>]"
   ]
  },
  {
   "cell_type": "code",
   "execution_count": 253,
   "metadata": {
    "colab": {},
    "colab_type": "code",
    "id": "Kxbk56U08HPf",
    "outputId": "5b924cba-56ab-4dae-9b29-281b9da0f658"
   },
   "outputs": [
    {
     "data": {
      "text/plain": [
       "'\\n         Once upon a time there were three little sisters; and their names were\\n         '"
      ]
     },
     "execution_count": 253,
     "metadata": {},
     "output_type": "execute_result"
    }
   ],
   "source": [
    "import re\n",
    "soup.find(string=re.compile(\"sisters\"))\n",
    "# u'Once upon a time there were three little sisters; and their names were\\n'"
   ]
  },
  {
   "cell_type": "code",
   "execution_count": 254,
   "metadata": {
    "colab": {},
    "colab_type": "code",
    "id": "jiwfdRRs8HPn"
   },
   "outputs": [],
   "source": [
    "### Searching by CSS class"
   ]
  },
  {
   "cell_type": "code",
   "execution_count": 255,
   "metadata": {
    "colab": {},
    "colab_type": "code",
    "id": "Ut3Le16H8HPp",
    "outputId": "5a0d77f5-149b-499a-eee0-2ab9c141ef67"
   },
   "outputs": [
    {
     "data": {
      "text/plain": [
       "[<a class=\"sister\" href=\"http://example.com/lacie\" id=\"link2\">\n",
       "          Lacie\n",
       "          </a>, <a class=\"sister\" href=\"http://example.com/tillie\" id=\"link3\">\n",
       "          Tillie\n",
       "          </a>]"
      ]
     },
     "execution_count": 255,
     "metadata": {},
     "output_type": "execute_result"
    }
   ],
   "source": [
    "soup.find_all(\"a\", class_=\"sister\")"
   ]
  },
  {
   "cell_type": "code",
   "execution_count": null,
   "metadata": {
    "colab": {},
    "colab_type": "code",
    "id": "yDntRoWRXFRJ"
   },
   "outputs": [],
   "source": []
  }
 ],
 "metadata": {
  "colab": {
   "collapsed_sections": [
    "dNvAzzEY8HOm",
    "hfzcCF-d8HPC",
    "lRHSwC1j8HPF"
   ],
   "name": "quick_start_bs4.ipynb",
   "provenance": []
  },
  "kernelspec": {
   "display_name": "Python 3",
   "language": "python",
   "name": "python3"
  },
  "language_info": {
   "codemirror_mode": {
    "name": "ipython",
    "version": 3
   },
   "file_extension": ".py",
   "mimetype": "text/x-python",
   "name": "python",
   "nbconvert_exporter": "python",
   "pygments_lexer": "ipython3",
   "version": "3.8.6"
  }
 },
 "nbformat": 4,
 "nbformat_minor": 4
}
