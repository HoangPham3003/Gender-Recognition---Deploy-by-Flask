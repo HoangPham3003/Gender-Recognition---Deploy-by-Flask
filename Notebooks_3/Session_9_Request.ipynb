{
 "cells": [
  {
   "cell_type": "markdown",
   "metadata": {
    "colab_type": "text",
    "id": "PTg3KNqYLjfV"
   },
   "source": [
    "# Get method"
   ]
  },
  {
   "cell_type": "code",
   "execution_count": null,
   "metadata": {
    "colab": {
     "base_uri": "https://localhost:8080/",
     "height": 1000
    },
    "colab_type": "code",
    "id": "kTwJabBQLP-I",
    "outputId": "8768e7c5-4466-400c-e5f6-73d4b597046c"
   },
   "outputs": [],
   "source": [
    "import requests\n",
    "\n",
    "x = requests.get('https://tiki.vn/dien-tu-dien-lanh/c4221?src=c.4221.hamburger_menu_fly_out_banner')\n",
    "\n",
    "print(x.text)"
   ]
  },
  {
   "cell_type": "markdown",
   "metadata": {
    "colab_type": "text",
    "id": "B84Y0x2NMk1I"
   },
   "source": [
    "## Get with Parameter"
   ]
  },
  {
   "cell_type": "code",
   "execution_count": null,
   "metadata": {
    "colab": {},
    "colab_type": "code",
    "id": "zo60nUeoLVfy"
   },
   "outputs": [],
   "source": [
    "import requests\n",
    "params = {'src': 'tree'}\n",
    "x = requests.get('https://tiki.vn/sach-tieng-anh/c320', params=params)"
   ]
  },
  {
   "cell_type": "code",
   "execution_count": null,
   "metadata": {
    "colab": {
     "base_uri": "https://localhost:8080/",
     "height": 120
    },
    "colab_type": "code",
    "id": "SVO_8a_FMeCm",
    "outputId": "657f4526-7d6a-4165-d2dd-237b6d2c8304"
   },
   "outputs": [],
   "source": [
    "x.text"
   ]
  },
  {
   "cell_type": "markdown",
   "metadata": {
    "colab_type": "text",
    "id": "AZJ8I39kMyFh"
   },
   "source": [
    "## Get with headers"
   ]
  },
  {
   "cell_type": "code",
   "execution_count": null,
   "metadata": {
    "colab": {
     "base_uri": "https://localhost:8080/",
     "height": 1000
    },
    "colab_type": "code",
    "id": "WVXleBZkMe2Y",
    "outputId": "4a72ebbd-6744-4a5f-e0d8-859cb928a0d3"
   },
   "outputs": [],
   "source": [
    "import requests\n",
    "params = {'src': 'tree'}\n",
    "x = requests.get('https://tiki.vn/sach-tieng-anh/c320', headers ={'HTTP_HOST': 'demo.com'})\n",
    "print(x.text)\n"
   ]
  },
  {
   "cell_type": "markdown",
   "metadata": {
    "colab_type": "text",
    "id": "VJ5YeYEHNlBl"
   },
   "source": [
    "# Post method"
   ]
  },
  {
   "cell_type": "markdown",
   "metadata": {
    "colab_type": "text",
    "id": "KQwO_uluOVs8"
   },
   "source": [
    "## Post method with data\n"
   ]
  },
  {
   "cell_type": "code",
   "execution_count": null,
   "metadata": {
    "colab": {
     "base_uri": "https://localhost:8080/",
     "height": 34
    },
    "colab_type": "code",
    "id": "2c4ZkHmuNDUh",
    "outputId": "cf15ed8a-fd7e-4460-e27f-53d4f46fe364"
   },
   "outputs": [],
   "source": [
    "import requests\n",
    "\n",
    "url = 'https://www.w3schools.com/python/demopage.php'\n",
    "myobj = {'somekey': 'somevalue'}\n",
    "\n",
    "x = requests.post(url, data = myobj)\n",
    "\n",
    "print(x.status_code)"
   ]
  },
  {
   "cell_type": "markdown",
   "metadata": {
    "colab_type": "text",
    "id": "Z0aMDo1fOQ64"
   },
   "source": [
    "## Post method with Json"
   ]
  },
  {
   "cell_type": "code",
   "execution_count": null,
   "metadata": {
    "colab": {
     "base_uri": "https://localhost:8080/",
     "height": 34
    },
    "colab_type": "code",
    "id": "PzYh5gLRN4xK",
    "outputId": "580f680e-b0ea-41cb-d146-12cf2eeb750b"
   },
   "outputs": [],
   "source": [
    "import requests\n",
    "\n",
    "url = 'https://www.w3schools.com/python/demopage.php'\n",
    "myjson = {'somekey': 'somevalue'}\n",
    "\n",
    "x = requests.post(url, json = myjson)\n",
    "\n",
    "#print the response text (the content of the requested file):\n",
    "\n",
    "print(x.status_code)\n"
   ]
  },
  {
   "cell_type": "markdown",
   "metadata": {
    "colab_type": "text",
    "id": "IC4fukxIPIZV"
   },
   "source": [
    "## Post method with Files"
   ]
  },
  {
   "cell_type": "code",
   "execution_count": null,
   "metadata": {
    "colab": {
     "base_uri": "https://localhost:8080/",
     "height": 34
    },
    "colab_type": "code",
    "id": "zZl-8vkdOaAI",
    "outputId": "39a61cfc-24ee-4b0b-e9c5-c858d628bc1e"
   },
   "outputs": [],
   "source": [
    "import requests\n",
    "\n",
    "url = 'https://www.w3schools.com/python/demopage.php'\n",
    "myfiles = {'file': open('/content/sample_data/anscombe.json' ,'rb')}\n",
    "\n",
    "x = requests.post(url, files = myfiles)\n",
    "\n",
    "#print the response text (the content of the requested file):\n",
    "\n",
    "print(x.status_code)\n"
   ]
  }
 ],
 "metadata": {
  "colab": {
   "name": "Session_7_Request.ipynb",
   "provenance": [],
   "toc_visible": true
  },
  "kernelspec": {
   "display_name": "Python 3",
   "language": "python",
   "name": "python3"
  },
  "language_info": {
   "codemirror_mode": {
    "name": "ipython",
    "version": 3
   },
   "file_extension": ".py",
   "mimetype": "text/x-python",
   "name": "python",
   "nbconvert_exporter": "python",
   "pygments_lexer": "ipython3",
   "version": "3.8.6"
  }
 },
 "nbformat": 4,
 "nbformat_minor": 4
}
